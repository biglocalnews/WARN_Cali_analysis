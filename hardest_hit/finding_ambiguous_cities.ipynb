{
 "cells": [
  {
   "cell_type": "code",
   "execution_count": 1,
   "metadata": {},
   "outputs": [],
   "source": [
    "import pandas as pd\n",
    "import csv"
   ]
  },
  {
   "cell_type": "code",
   "execution_count": 2,
   "metadata": {},
   "outputs": [],
   "source": [
    "cali_layoffs = pd.read_csv('california_warn_raw.csv')"
   ]
  },
  {
   "cell_type": "code",
   "execution_count": 3,
   "metadata": {},
   "outputs": [
    {
     "data": {
      "text/html": [
       "<div>\n",
       "<style scoped>\n",
       "    .dataframe tbody tr th:only-of-type {\n",
       "        vertical-align: middle;\n",
       "    }\n",
       "\n",
       "    .dataframe tbody tr th {\n",
       "        vertical-align: top;\n",
       "    }\n",
       "\n",
       "    .dataframe thead th {\n",
       "        text-align: right;\n",
       "    }\n",
       "</style>\n",
       "<table border=\"1\" class=\"dataframe\">\n",
       "  <thead>\n",
       "    <tr style=\"text-align: right;\">\n",
       "      <th></th>\n",
       "      <th>Notice Date</th>\n",
       "      <th>Effective Date</th>\n",
       "      <th>Received Date</th>\n",
       "      <th>Company</th>\n",
       "      <th>City</th>\n",
       "      <th>County</th>\n",
       "      <th>Employees</th>\n",
       "      <th>Layoff/Closure</th>\n",
       "    </tr>\n",
       "  </thead>\n",
       "  <tbody>\n",
       "    <tr>\n",
       "      <th>0</th>\n",
       "      <td>10/26/2020</td>\n",
       "      <td>12/28/2020</td>\n",
       "      <td>11/10/2020</td>\n",
       "      <td>DAMAC Products LLC</td>\n",
       "      <td>La Mirada</td>\n",
       "      <td>Los Angeles County</td>\n",
       "      <td>79.0</td>\n",
       "      <td>Closure Permanent</td>\n",
       "    </tr>\n",
       "    <tr>\n",
       "      <th>1</th>\n",
       "      <td>10/27/2020</td>\n",
       "      <td>12/31/2020</td>\n",
       "      <td>11/10/2020</td>\n",
       "      <td>Gulfstream</td>\n",
       "      <td>Long Beach</td>\n",
       "      <td>Los Angeles County</td>\n",
       "      <td>608.0</td>\n",
       "      <td>Closure Permanent</td>\n",
       "    </tr>\n",
       "    <tr>\n",
       "      <th>2</th>\n",
       "      <td>10/26/2020</td>\n",
       "      <td>12/16/2020</td>\n",
       "      <td>11/10/2020</td>\n",
       "      <td>Renaissance Newport Beach Hotel</td>\n",
       "      <td>Newport Beach</td>\n",
       "      <td>Orange County</td>\n",
       "      <td>104.0</td>\n",
       "      <td>Closure Permanent</td>\n",
       "    </tr>\n",
       "    <tr>\n",
       "      <th>3</th>\n",
       "      <td>10/01/2020</td>\n",
       "      <td>10/05/2020</td>\n",
       "      <td>11/10/2020</td>\n",
       "      <td>Howmet Aerospace</td>\n",
       "      <td>Rancho Cucamonga</td>\n",
       "      <td>San Bernardino County</td>\n",
       "      <td>66.0</td>\n",
       "      <td>Layoff Temporary</td>\n",
       "    </tr>\n",
       "    <tr>\n",
       "      <th>4</th>\n",
       "      <td>10/26/2020</td>\n",
       "      <td>07/07/2020</td>\n",
       "      <td>11/10/2020</td>\n",
       "      <td>Newport Diversified, Inc.</td>\n",
       "      <td>El Cajon</td>\n",
       "      <td>San Diego County</td>\n",
       "      <td>91.0</td>\n",
       "      <td>Layoff Temporary</td>\n",
       "    </tr>\n",
       "  </tbody>\n",
       "</table>\n",
       "</div>"
      ],
      "text/plain": [
       "  Notice Date Effective Date Received Date                          Company  \\\n",
       "0  10/26/2020     12/28/2020    11/10/2020               DAMAC Products LLC   \n",
       "1  10/27/2020     12/31/2020    11/10/2020                       Gulfstream   \n",
       "2  10/26/2020     12/16/2020    11/10/2020  Renaissance Newport Beach Hotel   \n",
       "3  10/01/2020     10/05/2020    11/10/2020                 Howmet Aerospace   \n",
       "4  10/26/2020     07/07/2020    11/10/2020        Newport Diversified, Inc.   \n",
       "\n",
       "               City                  County  Employees     Layoff/Closure  \n",
       "0         La Mirada     Los Angeles County        79.0  Closure Permanent  \n",
       "1        Long Beach     Los Angeles County       608.0  Closure Permanent  \n",
       "2     Newport Beach          Orange County       104.0  Closure Permanent  \n",
       "3  Rancho Cucamonga  San Bernardino County        66.0   Layoff Temporary  \n",
       "4          El Cajon       San Diego County        91.0   Layoff Temporary  "
      ]
     },
     "execution_count": 3,
     "metadata": {},
     "output_type": "execute_result"
    }
   ],
   "source": [
    "cali_layoffs.head()"
   ]
  },
  {
   "cell_type": "markdown",
   "metadata": {},
   "source": [
    "### Ambiguous Cities\n",
    "\n",
    "In doing some preliminary exploration of the data, we learned that some cities have been assigned the incorrect county name. The code below finds the cities with more than one county assigned. We use the results produced to go back and clean those records in the WARN Layoffs analysis notebook."
   ]
  },
  {
   "cell_type": "markdown",
   "metadata": {},
   "source": [
    "### Clean County Names"
   ]
  },
  {
   "cell_type": "code",
   "execution_count": 4,
   "metadata": {},
   "outputs": [],
   "source": [
    "cali_layoffs['County'] = cali_layoffs['County'].str.strip()\n",
    "cali_layoffs['County Orig'] = cali_layoffs['County']\n",
    "cali_layoffs.loc[~(cali_layoffs['County'].str.endswith('County')),'County'] = cali_layoffs['County'] + \" County\"\n",
    "cali_layoffs['County'] = cali_layoffs['County'].str.replace('No County Name County', 'No Name')"
   ]
  },
  {
   "cell_type": "code",
   "execution_count": 5,
   "metadata": {},
   "outputs": [
    {
     "data": {
      "text/html": [
       "<div>\n",
       "<style scoped>\n",
       "    .dataframe tbody tr th:only-of-type {\n",
       "        vertical-align: middle;\n",
       "    }\n",
       "\n",
       "    .dataframe tbody tr th {\n",
       "        vertical-align: top;\n",
       "    }\n",
       "\n",
       "    .dataframe thead th {\n",
       "        text-align: right;\n",
       "    }\n",
       "</style>\n",
       "<table border=\"1\" class=\"dataframe\">\n",
       "  <thead>\n",
       "    <tr style=\"text-align: right;\">\n",
       "      <th></th>\n",
       "      <th>Notice Date</th>\n",
       "      <th>Effective Date</th>\n",
       "      <th>Received Date</th>\n",
       "      <th>Company</th>\n",
       "      <th>City</th>\n",
       "      <th>County</th>\n",
       "      <th>Employees</th>\n",
       "      <th>Layoff/Closure</th>\n",
       "      <th>County Orig</th>\n",
       "    </tr>\n",
       "  </thead>\n",
       "  <tbody>\n",
       "    <tr>\n",
       "      <th>0</th>\n",
       "      <td>10/26/2020</td>\n",
       "      <td>12/28/2020</td>\n",
       "      <td>11/10/2020</td>\n",
       "      <td>DAMAC Products LLC</td>\n",
       "      <td>La Mirada</td>\n",
       "      <td>Los Angeles County</td>\n",
       "      <td>79.0</td>\n",
       "      <td>Closure Permanent</td>\n",
       "      <td>Los Angeles County</td>\n",
       "    </tr>\n",
       "    <tr>\n",
       "      <th>1</th>\n",
       "      <td>10/27/2020</td>\n",
       "      <td>12/31/2020</td>\n",
       "      <td>11/10/2020</td>\n",
       "      <td>Gulfstream</td>\n",
       "      <td>Long Beach</td>\n",
       "      <td>Los Angeles County</td>\n",
       "      <td>608.0</td>\n",
       "      <td>Closure Permanent</td>\n",
       "      <td>Los Angeles County</td>\n",
       "    </tr>\n",
       "    <tr>\n",
       "      <th>2</th>\n",
       "      <td>10/26/2020</td>\n",
       "      <td>12/16/2020</td>\n",
       "      <td>11/10/2020</td>\n",
       "      <td>Renaissance Newport Beach Hotel</td>\n",
       "      <td>Newport Beach</td>\n",
       "      <td>Orange County</td>\n",
       "      <td>104.0</td>\n",
       "      <td>Closure Permanent</td>\n",
       "      <td>Orange County</td>\n",
       "    </tr>\n",
       "    <tr>\n",
       "      <th>3</th>\n",
       "      <td>10/01/2020</td>\n",
       "      <td>10/05/2020</td>\n",
       "      <td>11/10/2020</td>\n",
       "      <td>Howmet Aerospace</td>\n",
       "      <td>Rancho Cucamonga</td>\n",
       "      <td>San Bernardino County</td>\n",
       "      <td>66.0</td>\n",
       "      <td>Layoff Temporary</td>\n",
       "      <td>San Bernardino County</td>\n",
       "    </tr>\n",
       "    <tr>\n",
       "      <th>4</th>\n",
       "      <td>10/26/2020</td>\n",
       "      <td>07/07/2020</td>\n",
       "      <td>11/10/2020</td>\n",
       "      <td>Newport Diversified, Inc.</td>\n",
       "      <td>El Cajon</td>\n",
       "      <td>San Diego County</td>\n",
       "      <td>91.0</td>\n",
       "      <td>Layoff Temporary</td>\n",
       "      <td>San Diego County</td>\n",
       "    </tr>\n",
       "  </tbody>\n",
       "</table>\n",
       "</div>"
      ],
      "text/plain": [
       "  Notice Date Effective Date Received Date                          Company  \\\n",
       "0  10/26/2020     12/28/2020    11/10/2020               DAMAC Products LLC   \n",
       "1  10/27/2020     12/31/2020    11/10/2020                       Gulfstream   \n",
       "2  10/26/2020     12/16/2020    11/10/2020  Renaissance Newport Beach Hotel   \n",
       "3  10/01/2020     10/05/2020    11/10/2020                 Howmet Aerospace   \n",
       "4  10/26/2020     07/07/2020    11/10/2020        Newport Diversified, Inc.   \n",
       "\n",
       "               City                 County  Employees     Layoff/Closure  \\\n",
       "0         La Mirada     Los Angeles County       79.0  Closure Permanent   \n",
       "1        Long Beach     Los Angeles County      608.0  Closure Permanent   \n",
       "2     Newport Beach          Orange County      104.0  Closure Permanent   \n",
       "3  Rancho Cucamonga  San Bernardino County       66.0   Layoff Temporary   \n",
       "4          El Cajon       San Diego County       91.0   Layoff Temporary   \n",
       "\n",
       "             County Orig  \n",
       "0     Los Angeles County  \n",
       "1     Los Angeles County  \n",
       "2          Orange County  \n",
       "3  San Bernardino County  \n",
       "4       San Diego County  "
      ]
     },
     "execution_count": 5,
     "metadata": {},
     "output_type": "execute_result"
    }
   ],
   "source": [
    "cali_layoffs.head()"
   ]
  },
  {
   "cell_type": "code",
   "execution_count": 6,
   "metadata": {},
   "outputs": [
    {
     "data": {
      "text/plain": [
       "[{'Notice Date': '10/26/2020',\n",
       "  'Effective Date': '12/28/2020',\n",
       "  'Received Date': '11/10/2020',\n",
       "  'Company': 'DAMAC Products LLC',\n",
       "  'City': 'La Mirada',\n",
       "  'County': 'Los Angeles County',\n",
       "  'Employees': 79.0,\n",
       "  'Layoff/Closure': 'Closure Permanent',\n",
       "  'County Orig': 'Los Angeles County'},\n",
       " {'Notice Date': '10/27/2020',\n",
       "  'Effective Date': '12/31/2020',\n",
       "  'Received Date': '11/10/2020',\n",
       "  'Company': 'Gulfstream',\n",
       "  'City': 'Long Beach',\n",
       "  'County': 'Los Angeles County',\n",
       "  'Employees': 608.0,\n",
       "  'Layoff/Closure': 'Closure Permanent',\n",
       "  'County Orig': 'Los Angeles County'}]"
      ]
     },
     "execution_count": 6,
     "metadata": {},
     "output_type": "execute_result"
    }
   ],
   "source": [
    "cali_dict = cali_layoffs.to_dict(orient='records')\n",
    "cali_dict[0:2]"
   ]
  },
  {
   "cell_type": "code",
   "execution_count": 7,
   "metadata": {},
   "outputs": [
    {
     "data": {
      "text/plain": [
       "array(['Los Angeles County', 'Orange County', 'San Bernardino County',\n",
       "       'San Diego County', 'Sacramento County', 'Alameda County',\n",
       "       'Santa Clara County', 'San Francisco County', 'Stanislaus County',\n",
       "       'Contra Costa County', 'Riverside County', 'Solano County',\n",
       "       'Ventura County', 'Monterey County', 'Placer County',\n",
       "       'San Mateo County', 'Santa Barbara County', 'Fresno County',\n",
       "       'Kings County', 'Kern County', 'Santa Cruz County',\n",
       "       'Tehama County', 'Mendocino County', 'San Joaquin County',\n",
       "       'Butte County', 'Sonoma County', 'Napa County', 'Calaveras County',\n",
       "       'San Luis Obispo County', 'Siskiyou County', 'Yolo County',\n",
       "       'Yuba County', 'Sutter County', 'Tulare County',\n",
       "       'El Dorado County', 'Marin County', 'Mariposa County',\n",
       "       'Imperial County', 'Shasta County', 'Madera County',\n",
       "       'Del Norte County', 'Mono County', 'Merced County',\n",
       "       'Humboldt County', 'San Benito County', 'Nevada County',\n",
       "       'Tuolumne County', 'Amador County', 'Glenn County',\n",
       "       'Colusa County', 'Plumas County', 'Inyo County', 'No Name'],\n",
       "      dtype=object)"
      ]
     },
     "execution_count": 7,
     "metadata": {},
     "output_type": "execute_result"
    }
   ],
   "source": [
    "cali_layoffs['County'].unique()"
   ]
  },
  {
   "cell_type": "code",
   "execution_count": 8,
   "metadata": {},
   "outputs": [
    {
     "data": {
      "text/plain": [
       "2117"
      ]
     },
     "execution_count": 8,
     "metadata": {},
     "output_type": "execute_result"
    }
   ],
   "source": [
    "rows_with_no_county = [r for r in cali_dict if r[\"County\"] == \"No Name\"]\n",
    "len(rows_with_no_county)"
   ]
  },
  {
   "cell_type": "code",
   "execution_count": 9,
   "metadata": {},
   "outputs": [
    {
     "data": {
      "text/plain": [
       "{'Notice Date': '06/30/2016',\n",
       " 'Effective Date': '08/31/2016',\n",
       " 'Received Date': '07/01/2016',\n",
       " 'Company': 'DCS Facility Services',\n",
       " 'City': 'Antelope',\n",
       " 'County': 'No Name',\n",
       " 'Employees': 55.0,\n",
       " 'Layoff/Closure': 'Closure Permanent',\n",
       " 'County Orig': 'No County Name'}"
      ]
     },
     "execution_count": 9,
     "metadata": {},
     "output_type": "execute_result"
    }
   ],
   "source": [
    "rows_with_no_county[0]"
   ]
  },
  {
   "cell_type": "code",
   "execution_count": 10,
   "metadata": {},
   "outputs": [],
   "source": [
    "cities = [r[\"City\"] for r in rows_with_no_county]"
   ]
  },
  {
   "cell_type": "code",
   "execution_count": 11,
   "metadata": {},
   "outputs": [
    {
     "data": {
      "text/plain": [
       "2117"
      ]
     },
     "execution_count": 11,
     "metadata": {},
     "output_type": "execute_result"
    }
   ],
   "source": [
    "len(cities)"
   ]
  },
  {
   "cell_type": "code",
   "execution_count": 12,
   "metadata": {},
   "outputs": [],
   "source": [
    "cities = set(cities)"
   ]
  },
  {
   "cell_type": "code",
   "execution_count": 13,
   "metadata": {},
   "outputs": [
    {
     "data": {
      "text/plain": [
       "355"
      ]
     },
     "execution_count": 13,
     "metadata": {},
     "output_type": "execute_result"
    }
   ],
   "source": [
    "len(cities)"
   ]
  },
  {
   "cell_type": "code",
   "execution_count": 14,
   "metadata": {},
   "outputs": [],
   "source": [
    "rows_with_county = [r for r in cali_dict if r[\"County\"] != \"No Name\"]"
   ]
  },
  {
   "cell_type": "code",
   "execution_count": 15,
   "metadata": {},
   "outputs": [
    {
     "data": {
      "text/plain": [
       "7390"
      ]
     },
     "execution_count": 15,
     "metadata": {},
     "output_type": "execute_result"
    }
   ],
   "source": [
    "len(rows_with_county)"
   ]
  },
  {
   "cell_type": "code",
   "execution_count": 16,
   "metadata": {},
   "outputs": [
    {
     "data": {
      "text/plain": [
       "{'Notice Date': '06/15/2020',\n",
       " 'Effective Date': '08/14/2020',\n",
       " 'Received Date': '09/27/2020',\n",
       " 'Company': 'Blackhawk Country Club',\n",
       " 'City': 'Danville',\n",
       " 'County': 'Contra Costa County',\n",
       " 'Employees': 30.0,\n",
       " 'Layoff/Closure': 'Layoff Permanent',\n",
       " 'County Orig': 'Contra Costa County'}"
      ]
     },
     "execution_count": 16,
     "metadata": {},
     "output_type": "execute_result"
    }
   ],
   "source": [
    "rows_with_county[334]"
   ]
  },
  {
   "cell_type": "code",
   "execution_count": 17,
   "metadata": {},
   "outputs": [],
   "source": [
    "city_to_counties = {}\n",
    "for row in rows_with_county:\n",
    "    city = row[\"City\"]\n",
    "    county = row[\"County\"]\n",
    "    if city not in city_to_counties:\n",
    "        city_to_counties[city] = set()\n",
    "    city_to_counties[city].add(county)"
   ]
  },
  {
   "cell_type": "code",
   "execution_count": 18,
   "metadata": {},
   "outputs": [],
   "source": [
    "unambiguous_cities = [pair for pair in city_to_counties.items() if len(pair[1]) == 1]"
   ]
  },
  {
   "cell_type": "code",
   "execution_count": 19,
   "metadata": {},
   "outputs": [
    {
     "data": {
      "text/plain": [
       "524"
      ]
     },
     "execution_count": 19,
     "metadata": {},
     "output_type": "execute_result"
    }
   ],
   "source": [
    "len(unambiguous_cities)"
   ]
  },
  {
   "cell_type": "code",
   "execution_count": 20,
   "metadata": {},
   "outputs": [],
   "source": [
    "unambiguous_cities = {pair[0]: list(pair[1])[0] for pair in city_to_counties.items() if len(pair[1]) == 1}"
   ]
  },
  {
   "cell_type": "code",
   "execution_count": 21,
   "metadata": {},
   "outputs": [],
   "source": [
    "for row in rows_with_no_county:\n",
    "    if row[\"City\"] in unambiguous_cities:\n",
    "        row[\"County\"] = unambiguous_cities[row[\"City\"]]"
   ]
  },
  {
   "cell_type": "code",
   "execution_count": 22,
   "metadata": {},
   "outputs": [
    {
     "data": {
      "text/plain": [
       "[{'Notice Date': '06/30/2016',\n",
       "  'Effective Date': '08/31/2016',\n",
       "  'Received Date': '07/01/2016',\n",
       "  'Company': 'DCS Facility Services',\n",
       "  'City': 'Antelope',\n",
       "  'County': 'No Name',\n",
       "  'Employees': 55.0,\n",
       "  'Layoff/Closure': 'Closure Permanent',\n",
       "  'County Orig': 'No County Name'},\n",
       " {'Notice Date': '06/30/2016',\n",
       "  'Effective Date': '08/31/2016',\n",
       "  'Received Date': '07/01/2016',\n",
       "  'Company': 'DCS Facility Services',\n",
       "  'City': 'Bakersfield',\n",
       "  'County': 'Kern County',\n",
       "  'Employees': 22.0,\n",
       "  'Layoff/Closure': 'Closure Permanent',\n",
       "  'County Orig': 'No County Name'}]"
      ]
     },
     "execution_count": 22,
     "metadata": {},
     "output_type": "execute_result"
    }
   ],
   "source": [
    "rows_with_no_county[:2]"
   ]
  },
  {
   "cell_type": "code",
   "execution_count": 23,
   "metadata": {},
   "outputs": [],
   "source": [
    "ambiguous_cities = [pair for pair in city_to_counties.items() if len(pair[1]) > 1]"
   ]
  },
  {
   "cell_type": "code",
   "execution_count": 24,
   "metadata": {},
   "outputs": [
    {
     "data": {
      "text/plain": [
       "[('Sacramento', {'Del Norte County', 'Sacramento County'}),\n",
       " ('San Francisco', {'San Francisco County', 'San Mateo County'}),\n",
       " ('Hayward', {'Alameda County', 'Contra Costa County'}),\n",
       " ('Indian Wells', {'Riverside County', 'San Benito County'}),\n",
       " ('Cerritos', {'Los Angeles County', 'Orange County'}),\n",
       " ('Vista', {'San Diego County', 'San Francisco County'}),\n",
       " ('Roseville', {'Placer County', 'Sacramento County'}),\n",
       " ('City of Industry', {'Los Angeles County', 'Orange County'}),\n",
       " ('Del Mar', {'Orange County', 'San Diego County'}),\n",
       " ('Walnut Creek', {'Alameda County', 'Contra Costa County'}),\n",
       " ('Los Gatos', {'Santa Clara County', 'Santa Cruz County'}),\n",
       " ('Rancho', {'Los Angeles County', 'San Bernardino County'})]"
      ]
     },
     "execution_count": 24,
     "metadata": {},
     "output_type": "execute_result"
    }
   ],
   "source": [
    "ambiguous_cities"
   ]
  },
  {
   "cell_type": "markdown",
   "metadata": {},
   "source": [
    "### Manual research narrowed down which cities actually belonged to which counties\n",
    "resulting in our updated `ambiguous_cities` dictionary. `Rancho` is the only city on the list where the two counties actually have cities with the same name. It will be left off the list."
   ]
  },
  {
   "cell_type": "code",
   "execution_count": 25,
   "metadata": {},
   "outputs": [],
   "source": [
    "dict_cities = {\n",
    "    'Sacramento':'Sacramento County',\n",
    "    'San Francisco':'San Francisco County',\n",
    "    'Hayward':'Alameda County',\n",
    "    'Indian Wells':'Riverside County',\n",
    "    'Cerritos':'Los Angeles County',\n",
    "    'Vista':'San Diego County',\n",
    "    'Roseville':'Placer County',\n",
    "    'City of Industry':'Los Angeles County',\n",
    "    'Del Mar':'San Diego County',\n",
    "    'Walnut Creek':'Contra Costa County',\n",
    "    'Los Gatos':'Santa Clara County'\n",
    "}"
   ]
  },
  {
   "cell_type": "code",
   "execution_count": 26,
   "metadata": {},
   "outputs": [],
   "source": [
    "cali_layoffs.to_csv('california_warn_raw_2.csv')"
   ]
  },
  {
   "cell_type": "markdown",
   "metadata": {},
   "source": [
    "### Ambiguous Cities\n",
    "\n",
    "The cities listed above are the only cities that need to be changed for our code before continuing our analysis. In our analysis notebook, we will find these specific records and update them accordingly."
   ]
  }
 ],
 "metadata": {
  "kernelspec": {
   "display_name": "Python 3",
   "language": "python",
   "name": "python3"
  },
  "language_info": {
   "codemirror_mode": {
    "name": "ipython",
    "version": 3
   },
   "file_extension": ".py",
   "mimetype": "text/x-python",
   "name": "python",
   "nbconvert_exporter": "python",
   "pygments_lexer": "ipython3",
   "version": "3.8.1"
  }
 },
 "nbformat": 4,
 "nbformat_minor": 4
}
