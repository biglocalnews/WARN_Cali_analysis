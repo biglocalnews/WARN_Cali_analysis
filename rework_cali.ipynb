{
 "cells": [
  {
   "cell_type": "code",
   "execution_count": 1,
   "metadata": {},
   "outputs": [],
   "source": [
    "import pandas as pd\n",
    "import os"
   ]
  },
  {
   "cell_type": "code",
   "execution_count": 2,
   "metadata": {},
   "outputs": [],
   "source": [
    "cali_data_today = os.environ['WARN_DATA_PATH']\n",
    "cali_data_path = '{}/california_warn_raw.csv'.format(cali_data_today)\n",
    "ca_data = pd.read_csv(cali_data_path)"
   ]
  },
  {
   "cell_type": "code",
   "execution_count": 3,
   "metadata": {},
   "outputs": [],
   "source": [
    "# ca_data.head()"
   ]
  },
  {
   "cell_type": "code",
   "execution_count": 4,
   "metadata": {},
   "outputs": [],
   "source": [
    "ca_data = ca_data.iloc[:,1:]"
   ]
  },
  {
   "cell_type": "code",
   "execution_count": 5,
   "metadata": {},
   "outputs": [],
   "source": [
    "# ca_data"
   ]
  },
  {
   "cell_type": "code",
   "execution_count": 6,
   "metadata": {},
   "outputs": [],
   "source": [
    "ca_data.dropna(axis=0, how='all', inplace=True)\n",
    "# ca_data.head()"
   ]
  },
  {
   "cell_type": "code",
   "execution_count": 7,
   "metadata": {},
   "outputs": [],
   "source": [
    "ca_data = ca_data[1:]\n",
    "headers = ca_data.iloc[0]\n",
    "ca_data.columns = headers\n",
    "ca_data = ca_data[1:]\n",
    "ca_data.columns = ca_data.columns.str.replace('\\\\n',' ')\n",
    "# ca_data"
   ]
  },
  {
   "cell_type": "code",
   "execution_count": 8,
   "metadata": {},
   "outputs": [],
   "source": [
    "ca_data = ca_data[['Notice Date', 'Effective Date', 'Received Date', 'Company', 'City', 'County', 'No. Of Employees ', 'Layoff/Closure Type']]\n",
    "# ca_data"
   ]
  },
  {
   "cell_type": "code",
   "execution_count": 9,
   "metadata": {},
   "outputs": [],
   "source": [
    "# ca_data.tail(10)"
   ]
  },
  {
   "cell_type": "code",
   "execution_count": 10,
   "metadata": {},
   "outputs": [],
   "source": [
    "# len(ca_data)"
   ]
  },
  {
   "cell_type": "code",
   "execution_count": 11,
   "metadata": {},
   "outputs": [],
   "source": [
    "# ca_data"
   ]
  },
  {
   "cell_type": "code",
   "execution_count": 12,
   "metadata": {},
   "outputs": [],
   "source": [
    "ca_data = ca_data.dropna(subset=['Effective Date', 'Received Date', 'Company', 'County'])\n",
    "# ca_data"
   ]
  },
  {
   "cell_type": "code",
   "execution_count": 13,
   "metadata": {},
   "outputs": [],
   "source": [
    "cali_hist_data = os.environ['PROCESS_DIR']\n",
    "cali_hist_path = '{}/california_warn_raw_start.csv'.format(cali_hist_data)\n",
    "\n",
    "recent = pd.read_csv(cali_hist_path)\n",
    "recent = recent.loc[:, ~recent.columns.str.startswith('Unnamed')]\n",
    "\n",
    "ca_data = ca_data.rename(columns={'Notice Date':'Notice_Date', 'Effective Date':'Effective_Date', 'Received Date': 'Received_Date', 'No. Of Employees ': 'No_employees', 'Layoff/Closure Type':'Layoff/Closure'})\n",
    "\n",
    "ca_data['Notice_Date'] = pd.to_datetime(ca_data['Notice_Date'])\n",
    "ca_data['Effective_Date'] = pd.to_datetime(ca_data['Effective_Date'])\n",
    "ca_data['Received_Date'] = pd.to_datetime(ca_data['Received_Date'])\n",
    "\n",
    "ca_data['Notice_Date'] = ca_data['Notice_Date'].dt.strftime('%m/%d/%Y')\n",
    "ca_data['Effective_Date'] = ca_data['Effective_Date'].dt.strftime('%m/%d/%Y')\n",
    "ca_data['Received_Date'] = ca_data['Received_Date'].dt.strftime('%m/%d/%Y')\n",
    "\n",
    "all_ca_data = pd.concat([ca_data, recent])\n",
    "all_ca_data.drop_duplicates(inplace=True)"
   ]
  },
  {
   "cell_type": "code",
   "execution_count": 14,
   "metadata": {},
   "outputs": [],
   "source": [
    "# output_dir = '/Users/dilcia_mercedes/Desktop' # delete when add to script\n",
    "output_file = '{}/california_warn_raw.csv'.format(output_dir)\n",
    "all_ca_data.to_csv(output_file, index=False)"
   ]
  },
  {
   "cell_type": "code",
   "execution_count": null,
   "metadata": {},
   "outputs": [],
   "source": []
  },
  {
   "cell_type": "code",
   "execution_count": null,
   "metadata": {},
   "outputs": [],
   "source": []
  }
 ],
 "metadata": {
  "kernelspec": {
   "display_name": "Python 3",
   "language": "python",
   "name": "python3"
  },
  "language_info": {
   "codemirror_mode": {
    "name": "ipython",
    "version": 3
   },
   "file_extension": ".py",
   "mimetype": "text/x-python",
   "name": "python",
   "nbconvert_exporter": "python",
   "pygments_lexer": "ipython3",
   "version": "3.8.1"
  }
 },
 "nbformat": 4,
 "nbformat_minor": 4
}
