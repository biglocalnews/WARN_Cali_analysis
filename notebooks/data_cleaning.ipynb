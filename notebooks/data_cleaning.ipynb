{
 "cells": [
  {
   "cell_type": "code",
   "execution_count": 1,
   "metadata": {},
   "outputs": [],
   "source": [
    "import pandas as pd\n",
    "import numpy as np\n",
    "import csv"
   ]
  },
  {
   "cell_type": "code",
   "execution_count": 2,
   "metadata": {},
   "outputs": [],
   "source": [
    "cali_layoffs = pd.read_csv('../data/cleaning/california_warn_raw_recent.csv')\n",
    "cali_population = pd.read_csv('../data/cleaning/county_population.csv', delimiter='\\t', thousands=',')"
   ]
  },
  {
   "cell_type": "code",
   "execution_count": 3,
   "metadata": {},
   "outputs": [
    {
     "data": {
      "text/html": [
       "<div>\n",
       "<style scoped>\n",
       "    .dataframe tbody tr th:only-of-type {\n",
       "        vertical-align: middle;\n",
       "    }\n",
       "\n",
       "    .dataframe tbody tr th {\n",
       "        vertical-align: top;\n",
       "    }\n",
       "\n",
       "    .dataframe thead th {\n",
       "        text-align: right;\n",
       "    }\n",
       "</style>\n",
       "<table border=\"1\" class=\"dataframe\">\n",
       "  <thead>\n",
       "    <tr style=\"text-align: right;\">\n",
       "      <th></th>\n",
       "      <th>Notice Date</th>\n",
       "      <th>Effective Date</th>\n",
       "      <th>Received Date</th>\n",
       "      <th>Company</th>\n",
       "      <th>City</th>\n",
       "      <th>County</th>\n",
       "      <th>Employees</th>\n",
       "      <th>Layoff/Closure</th>\n",
       "    </tr>\n",
       "  </thead>\n",
       "  <tbody>\n",
       "    <tr>\n",
       "      <th>0</th>\n",
       "      <td>12/04/2020</td>\n",
       "      <td>12/06/2020</td>\n",
       "      <td>12/30/2020</td>\n",
       "      <td>Blackhawk Country Club</td>\n",
       "      <td>Danville</td>\n",
       "      <td>Contra Costa County</td>\n",
       "      <td>3.0</td>\n",
       "      <td>Layoff Temporary</td>\n",
       "    </tr>\n",
       "    <tr>\n",
       "      <th>1</th>\n",
       "      <td>12/07/2020</td>\n",
       "      <td>12/09/2020</td>\n",
       "      <td>12/30/2020</td>\n",
       "      <td>Fullerton Baekjeong, LLC</td>\n",
       "      <td>Buena Park</td>\n",
       "      <td>Orange County</td>\n",
       "      <td>67.0</td>\n",
       "      <td>Closure Permanent</td>\n",
       "    </tr>\n",
       "    <tr>\n",
       "      <th>2</th>\n",
       "      <td>12/07/2020</td>\n",
       "      <td>12/09/2020</td>\n",
       "      <td>12/30/2020</td>\n",
       "      <td>Irvine Baekjeong, LLC</td>\n",
       "      <td>Irvine</td>\n",
       "      <td>Orange County</td>\n",
       "      <td>68.0</td>\n",
       "      <td>Closure Permanent</td>\n",
       "    </tr>\n",
       "    <tr>\n",
       "      <th>3</th>\n",
       "      <td>12/09/2020</td>\n",
       "      <td>12/10/2020</td>\n",
       "      <td>12/30/2020</td>\n",
       "      <td>OCMC Inc. dba Orange County Mining Co.</td>\n",
       "      <td>Santa Ana</td>\n",
       "      <td>Orange County</td>\n",
       "      <td>59.0</td>\n",
       "      <td>Closure Temporary</td>\n",
       "    </tr>\n",
       "    <tr>\n",
       "      <th>4</th>\n",
       "      <td>12/07/2020</td>\n",
       "      <td>12/07/2020</td>\n",
       "      <td>12/30/2020</td>\n",
       "      <td>Parker Palm Springs, LLC</td>\n",
       "      <td>Palm Springs</td>\n",
       "      <td>Riverside County</td>\n",
       "      <td>79.0</td>\n",
       "      <td>Layoff Temporary</td>\n",
       "    </tr>\n",
       "  </tbody>\n",
       "</table>\n",
       "</div>"
      ],
      "text/plain": [
       "  Notice Date Effective Date Received Date  \\\n",
       "0  12/04/2020     12/06/2020    12/30/2020   \n",
       "1  12/07/2020     12/09/2020    12/30/2020   \n",
       "2  12/07/2020     12/09/2020    12/30/2020   \n",
       "3  12/09/2020     12/10/2020    12/30/2020   \n",
       "4  12/07/2020     12/07/2020    12/30/2020   \n",
       "\n",
       "                                  Company          City                County  \\\n",
       "0                  Blackhawk Country Club      Danville  Contra Costa County    \n",
       "1                Fullerton Baekjeong, LLC    Buena Park        Orange County    \n",
       "2                   Irvine Baekjeong, LLC        Irvine        Orange County    \n",
       "3  OCMC Inc. dba Orange County Mining Co.     Santa Ana        Orange County    \n",
       "4                Parker Palm Springs, LLC  Palm Springs     Riverside County    \n",
       "\n",
       "   Employees     Layoff/Closure  \n",
       "0        3.0   Layoff Temporary  \n",
       "1       67.0  Closure Permanent  \n",
       "2       68.0  Closure Permanent  \n",
       "3       59.0  Closure Temporary  \n",
       "4       79.0   Layoff Temporary  "
      ]
     },
     "execution_count": 3,
     "metadata": {},
     "output_type": "execute_result"
    }
   ],
   "source": [
    "cali_layoffs.head()"
   ]
  },
  {
   "cell_type": "markdown",
   "metadata": {},
   "source": [
    "### Ambiguous Cities\n",
    "\n",
    "In doing some preliminary exploration of the data, we learned that some cities have been assigned the incorrect county name. The code below finds the cities with more than one county assigned. We use the results produced to go back and clean those records in the WARN Layoffs analysis notebook."
   ]
  },
  {
   "cell_type": "markdown",
   "metadata": {},
   "source": [
    "### Clean County Names"
   ]
  },
  {
   "cell_type": "code",
   "execution_count": 4,
   "metadata": {},
   "outputs": [
    {
     "data": {
      "text/html": [
       "<div>\n",
       "<style scoped>\n",
       "    .dataframe tbody tr th:only-of-type {\n",
       "        vertical-align: middle;\n",
       "    }\n",
       "\n",
       "    .dataframe tbody tr th {\n",
       "        vertical-align: top;\n",
       "    }\n",
       "\n",
       "    .dataframe thead th {\n",
       "        text-align: right;\n",
       "    }\n",
       "</style>\n",
       "<table border=\"1\" class=\"dataframe\">\n",
       "  <thead>\n",
       "    <tr style=\"text-align: right;\">\n",
       "      <th></th>\n",
       "      <th>Notice Date</th>\n",
       "      <th>Effective Date</th>\n",
       "      <th>Received Date</th>\n",
       "      <th>Company</th>\n",
       "      <th>City</th>\n",
       "      <th>County</th>\n",
       "      <th>Employees</th>\n",
       "      <th>Layoff/Closure</th>\n",
       "      <th>County Orig</th>\n",
       "      <th>Year</th>\n",
       "    </tr>\n",
       "  </thead>\n",
       "  <tbody>\n",
       "    <tr>\n",
       "      <th>0</th>\n",
       "      <td>12/04/2020</td>\n",
       "      <td>12/06/2020</td>\n",
       "      <td>12/30/2020</td>\n",
       "      <td>Blackhawk Country Club</td>\n",
       "      <td>Danville</td>\n",
       "      <td>Contra Costa County</td>\n",
       "      <td>3.0</td>\n",
       "      <td>Layoff Temporary</td>\n",
       "      <td>Contra Costa County</td>\n",
       "      <td>2020</td>\n",
       "    </tr>\n",
       "    <tr>\n",
       "      <th>1</th>\n",
       "      <td>12/07/2020</td>\n",
       "      <td>12/09/2020</td>\n",
       "      <td>12/30/2020</td>\n",
       "      <td>Fullerton Baekjeong, LLC</td>\n",
       "      <td>Buena Park</td>\n",
       "      <td>Orange County</td>\n",
       "      <td>67.0</td>\n",
       "      <td>Closure Permanent</td>\n",
       "      <td>Orange County</td>\n",
       "      <td>2020</td>\n",
       "    </tr>\n",
       "    <tr>\n",
       "      <th>2</th>\n",
       "      <td>12/07/2020</td>\n",
       "      <td>12/09/2020</td>\n",
       "      <td>12/30/2020</td>\n",
       "      <td>Irvine Baekjeong, LLC</td>\n",
       "      <td>Irvine</td>\n",
       "      <td>Orange County</td>\n",
       "      <td>68.0</td>\n",
       "      <td>Closure Permanent</td>\n",
       "      <td>Orange County</td>\n",
       "      <td>2020</td>\n",
       "    </tr>\n",
       "    <tr>\n",
       "      <th>3</th>\n",
       "      <td>12/09/2020</td>\n",
       "      <td>12/10/2020</td>\n",
       "      <td>12/30/2020</td>\n",
       "      <td>OCMC Inc. dba Orange County Mining Co.</td>\n",
       "      <td>Santa Ana</td>\n",
       "      <td>Orange County</td>\n",
       "      <td>59.0</td>\n",
       "      <td>Closure Temporary</td>\n",
       "      <td>Orange County</td>\n",
       "      <td>2020</td>\n",
       "    </tr>\n",
       "    <tr>\n",
       "      <th>4</th>\n",
       "      <td>12/07/2020</td>\n",
       "      <td>12/07/2020</td>\n",
       "      <td>12/30/2020</td>\n",
       "      <td>Parker Palm Springs, LLC</td>\n",
       "      <td>Palm Springs</td>\n",
       "      <td>Riverside County</td>\n",
       "      <td>79.0</td>\n",
       "      <td>Layoff Temporary</td>\n",
       "      <td>Riverside County</td>\n",
       "      <td>2020</td>\n",
       "    </tr>\n",
       "  </tbody>\n",
       "</table>\n",
       "</div>"
      ],
      "text/plain": [
       "  Notice Date Effective Date Received Date  \\\n",
       "0  12/04/2020     12/06/2020    12/30/2020   \n",
       "1  12/07/2020     12/09/2020    12/30/2020   \n",
       "2  12/07/2020     12/09/2020    12/30/2020   \n",
       "3  12/09/2020     12/10/2020    12/30/2020   \n",
       "4  12/07/2020     12/07/2020    12/30/2020   \n",
       "\n",
       "                                  Company          City               County  \\\n",
       "0                  Blackhawk Country Club      Danville  Contra Costa County   \n",
       "1                Fullerton Baekjeong, LLC    Buena Park        Orange County   \n",
       "2                   Irvine Baekjeong, LLC        Irvine        Orange County   \n",
       "3  OCMC Inc. dba Orange County Mining Co.     Santa Ana        Orange County   \n",
       "4                Parker Palm Springs, LLC  Palm Springs     Riverside County   \n",
       "\n",
       "   Employees     Layoff/Closure          County Orig  Year  \n",
       "0        3.0   Layoff Temporary  Contra Costa County  2020  \n",
       "1       67.0  Closure Permanent        Orange County  2020  \n",
       "2       68.0  Closure Permanent        Orange County  2020  \n",
       "3       59.0  Closure Temporary        Orange County  2020  \n",
       "4       79.0   Layoff Temporary     Riverside County  2020  "
      ]
     },
     "execution_count": 4,
     "metadata": {},
     "output_type": "execute_result"
    }
   ],
   "source": [
    "cali_layoffs['County'] = cali_layoffs['County'].str.strip()\n",
    "cali_layoffs['County Orig'] = cali_layoffs['County']\n",
    "cali_layoffs.loc[~(cali_layoffs['County'].str.endswith('County')),'County'] = cali_layoffs['County'] + \" County\"\n",
    "cali_layoffs['County'] = cali_layoffs['County'].str.replace('No County Name County', 'No Name')\n",
    "cali_layoffs['Year'] = cali_layoffs['Notice Date'].str[-4:]\n",
    "cali_layoffs['Year'] = cali_layoffs['Year'].astype(np.int64)\n",
    "cali_layoffs.head()"
   ]
  },
  {
   "cell_type": "markdown",
   "metadata": {},
   "source": [
    "### Cleaning Layoff Types\n",
    "\n",
    "Type Unknown and unknown at this time will be combined."
   ]
  },
  {
   "cell_type": "code",
   "execution_count": 5,
   "metadata": {},
   "outputs": [
    {
     "data": {
      "text/plain": [
       "array(['Layoff Temporary', 'Closure Permanent', 'Closure Temporary',\n",
       "       'Layoff Permanent', 'Layoff Type Unknown', 'Closure Type Unknown',\n",
       "       'Closure Unknown at thistime', 'Layoff Unknown at thistime',\n",
       "       'Layoff Unknown at this time', 'Closure Unknown at this time'],\n",
       "      dtype=object)"
      ]
     },
     "execution_count": 5,
     "metadata": {},
     "output_type": "execute_result"
    }
   ],
   "source": [
    "cali_layoffs['Layoff/Closure'].unique()"
   ]
  },
  {
   "cell_type": "code",
   "execution_count": 6,
   "metadata": {},
   "outputs": [
    {
     "data": {
      "text/plain": [
       "array(['layoff temporary', 'closure permanent', 'closure temporary',\n",
       "       'layoff permanent', 'layoff type uncategorized',\n",
       "       'closure type uncategorized'], dtype=object)"
      ]
     },
     "execution_count": 6,
     "metadata": {},
     "output_type": "execute_result"
    }
   ],
   "source": [
    "cali_layoffs['Layoff/Closure clean'] = cali_layoffs['Layoff/Closure'].str.replace('at thistime', 'at this time')\n",
    "cali_layoffs['Layoff/Closure clean'] = cali_layoffs['Layoff/Closure clean'].str.strip()\n",
    "cali_layoffs['Layoff/Closure clean'] = cali_layoffs['Layoff/Closure clean'].str.lower()\n",
    "cali_layoffs['Layoff/Closure clean'] = cali_layoffs['Layoff/Closure clean'].str.replace('unknown at this time', 'type unknown')\n",
    "cali_layoffs['Layoff/Closure clean'] = cali_layoffs['Layoff/Closure clean'].str.replace('type unknown', 'type uncategorized')\n",
    "cali_layoffs['Layoff/Closure clean'].unique()"
   ]
  },
  {
   "cell_type": "code",
   "execution_count": 7,
   "metadata": {},
   "outputs": [
    {
     "data": {
      "text/plain": [
       "[{'Notice Date': '12/04/2020',\n",
       "  'Effective Date': '12/06/2020',\n",
       "  'Received Date': '12/30/2020',\n",
       "  'Company': 'Blackhawk Country Club',\n",
       "  'City': 'Danville',\n",
       "  'County': 'Contra Costa County',\n",
       "  'Employees': 3.0,\n",
       "  'Layoff/Closure': 'Layoff Temporary',\n",
       "  'County Orig': 'Contra Costa County',\n",
       "  'Year': 2020,\n",
       "  'Layoff/Closure clean': 'layoff temporary'},\n",
       " {'Notice Date': '12/07/2020',\n",
       "  'Effective Date': '12/09/2020',\n",
       "  'Received Date': '12/30/2020',\n",
       "  'Company': 'Fullerton Baekjeong, LLC',\n",
       "  'City': 'Buena Park',\n",
       "  'County': 'Orange County',\n",
       "  'Employees': 67.0,\n",
       "  'Layoff/Closure': 'Closure Permanent',\n",
       "  'County Orig': 'Orange County',\n",
       "  'Year': 2020,\n",
       "  'Layoff/Closure clean': 'closure permanent'}]"
      ]
     },
     "execution_count": 7,
     "metadata": {},
     "output_type": "execute_result"
    }
   ],
   "source": [
    "cali_dict = cali_layoffs.to_dict(orient='records')\n",
    "cali_dict[0:2]"
   ]
  },
  {
   "cell_type": "code",
   "execution_count": 8,
   "metadata": {},
   "outputs": [
    {
     "data": {
      "text/plain": [
       "array(['Contra Costa County', 'Orange County', 'Riverside County',\n",
       "       'Santa Clara County', 'San Diego County', 'San Mateo County',\n",
       "       'Sacramento County', 'San Luis Obispo County', 'Sonoma County',\n",
       "       'San Francisco County', 'Ventura County', 'Inyo County',\n",
       "       'Los Angeles County', 'San Joaquin County', 'Stanislaus County',\n",
       "       'Alameda County', 'San Bernardino County', 'Napa County',\n",
       "       'Santa Barbara County', 'Marin County', 'Fresno County',\n",
       "       'Santa Cruz County', 'Solano County', 'Butte County',\n",
       "       'Glenn County', 'Tulare County', 'Kings County', 'Monterey County',\n",
       "       'Shasta County', 'Placer County', 'Kern County', 'Tehama County',\n",
       "       'Mendocino County', 'Calaveras County', 'Siskiyou County',\n",
       "       'Yolo County', 'Yuba County', 'Sutter County', 'El Dorado County',\n",
       "       'Mariposa County', 'Imperial County', 'Madera County',\n",
       "       'Del Norte County', 'Mono County', 'Merced County',\n",
       "       'Humboldt County', 'San Benito County', 'Nevada County',\n",
       "       'Tuolumne County', 'Amador County', 'Colusa County',\n",
       "       'Plumas County', 'No Name'], dtype=object)"
      ]
     },
     "execution_count": 8,
     "metadata": {},
     "output_type": "execute_result"
    }
   ],
   "source": [
    "cali_layoffs['County'].unique()"
   ]
  },
  {
   "cell_type": "code",
   "execution_count": 9,
   "metadata": {},
   "outputs": [
    {
     "data": {
      "text/plain": [
       "2117"
      ]
     },
     "execution_count": 9,
     "metadata": {},
     "output_type": "execute_result"
    }
   ],
   "source": [
    "rows_with_no_county = [r for r in cali_dict if r[\"County\"] == \"No Name\"]\n",
    "len(rows_with_no_county)"
   ]
  },
  {
   "cell_type": "code",
   "execution_count": 10,
   "metadata": {},
   "outputs": [
    {
     "data": {
      "text/plain": [
       "{'Notice Date': '06/30/2016',\n",
       " 'Effective Date': '08/31/2016',\n",
       " 'Received Date': '07/01/2016',\n",
       " 'Company': 'DCS Facility Services',\n",
       " 'City': 'Antelope',\n",
       " 'County': 'No Name',\n",
       " 'Employees': 55.0,\n",
       " 'Layoff/Closure': 'Closure Permanent',\n",
       " 'County Orig': 'No County Name',\n",
       " 'Year': 2016,\n",
       " 'Layoff/Closure clean': 'closure permanent'}"
      ]
     },
     "execution_count": 10,
     "metadata": {},
     "output_type": "execute_result"
    }
   ],
   "source": [
    "rows_with_no_county[0]"
   ]
  },
  {
   "cell_type": "code",
   "execution_count": 11,
   "metadata": {},
   "outputs": [],
   "source": [
    "cities = [r[\"City\"] for r in rows_with_no_county]"
   ]
  },
  {
   "cell_type": "code",
   "execution_count": 12,
   "metadata": {},
   "outputs": [
    {
     "data": {
      "text/plain": [
       "2117"
      ]
     },
     "execution_count": 12,
     "metadata": {},
     "output_type": "execute_result"
    }
   ],
   "source": [
    "len(cities)"
   ]
  },
  {
   "cell_type": "code",
   "execution_count": 13,
   "metadata": {},
   "outputs": [],
   "source": [
    "cities = set(cities)"
   ]
  },
  {
   "cell_type": "code",
   "execution_count": 14,
   "metadata": {},
   "outputs": [
    {
     "data": {
      "text/plain": [
       "355"
      ]
     },
     "execution_count": 14,
     "metadata": {},
     "output_type": "execute_result"
    }
   ],
   "source": [
    "len(cities)"
   ]
  },
  {
   "cell_type": "code",
   "execution_count": 15,
   "metadata": {},
   "outputs": [],
   "source": [
    "rows_with_county = [r for r in cali_dict if r[\"County\"] != \"No Name\"]"
   ]
  },
  {
   "cell_type": "code",
   "execution_count": 16,
   "metadata": {},
   "outputs": [
    {
     "data": {
      "text/plain": [
       "7633"
      ]
     },
     "execution_count": 16,
     "metadata": {},
     "output_type": "execute_result"
    }
   ],
   "source": [
    "len(rows_with_county)"
   ]
  },
  {
   "cell_type": "code",
   "execution_count": 17,
   "metadata": {},
   "outputs": [
    {
     "data": {
      "text/plain": [
       "{'Notice Date': '08/03/2020',\n",
       " 'Effective Date': '07/31/2020',\n",
       " 'Received Date': '10/23/2020',\n",
       " 'Company': 'Galpin Motors, Inc.',\n",
       " 'City': 'North Hills',\n",
       " 'County': 'Los Angeles County',\n",
       " 'Employees': 47.0,\n",
       " 'Layoff/Closure': 'Layoff Permanent',\n",
       " 'County Orig': 'Los Angeles County',\n",
       " 'Year': 2020,\n",
       " 'Layoff/Closure clean': 'layoff permanent'}"
      ]
     },
     "execution_count": 17,
     "metadata": {},
     "output_type": "execute_result"
    }
   ],
   "source": [
    "rows_with_county[334]"
   ]
  },
  {
   "cell_type": "code",
   "execution_count": 18,
   "metadata": {},
   "outputs": [],
   "source": [
    "city_to_counties = {}\n",
    "for row in rows_with_county:\n",
    "    city = row[\"City\"]\n",
    "    county = row[\"County\"]\n",
    "    if city not in city_to_counties:\n",
    "        city_to_counties[city] = set()\n",
    "    city_to_counties[city].add(county)"
   ]
  },
  {
   "cell_type": "code",
   "execution_count": 19,
   "metadata": {},
   "outputs": [],
   "source": [
    "unambiguous_cities = [pair for pair in city_to_counties.items() if len(pair[1]) == 1]"
   ]
  },
  {
   "cell_type": "code",
   "execution_count": 20,
   "metadata": {},
   "outputs": [
    {
     "data": {
      "text/plain": [
       "525"
      ]
     },
     "execution_count": 20,
     "metadata": {},
     "output_type": "execute_result"
    }
   ],
   "source": [
    "len(unambiguous_cities)"
   ]
  },
  {
   "cell_type": "code",
   "execution_count": 21,
   "metadata": {},
   "outputs": [],
   "source": [
    "unambiguous_cities = {pair[0]: list(pair[1])[0] for pair in city_to_counties.items() if len(pair[1]) == 1}"
   ]
  },
  {
   "cell_type": "code",
   "execution_count": 22,
   "metadata": {},
   "outputs": [],
   "source": [
    "for row in rows_with_no_county:\n",
    "    if row[\"City\"] in unambiguous_cities:\n",
    "        row[\"County\"] = unambiguous_cities[row[\"City\"]]"
   ]
  },
  {
   "cell_type": "code",
   "execution_count": 23,
   "metadata": {},
   "outputs": [
    {
     "data": {
      "text/plain": [
       "[{'Notice Date': '06/30/2016',\n",
       "  'Effective Date': '08/31/2016',\n",
       "  'Received Date': '07/01/2016',\n",
       "  'Company': 'DCS Facility Services',\n",
       "  'City': 'Antelope',\n",
       "  'County': 'No Name',\n",
       "  'Employees': 55.0,\n",
       "  'Layoff/Closure': 'Closure Permanent',\n",
       "  'County Orig': 'No County Name',\n",
       "  'Year': 2016,\n",
       "  'Layoff/Closure clean': 'closure permanent'},\n",
       " {'Notice Date': '06/30/2016',\n",
       "  'Effective Date': '08/31/2016',\n",
       "  'Received Date': '07/01/2016',\n",
       "  'Company': 'DCS Facility Services',\n",
       "  'City': 'Bakersfield',\n",
       "  'County': 'Kern County',\n",
       "  'Employees': 22.0,\n",
       "  'Layoff/Closure': 'Closure Permanent',\n",
       "  'County Orig': 'No County Name',\n",
       "  'Year': 2016,\n",
       "  'Layoff/Closure clean': 'closure permanent'}]"
      ]
     },
     "execution_count": 23,
     "metadata": {},
     "output_type": "execute_result"
    }
   ],
   "source": [
    "rows_with_no_county[:2]"
   ]
  },
  {
   "cell_type": "code",
   "execution_count": 24,
   "metadata": {},
   "outputs": [],
   "source": [
    "ambiguous_cities = [pair for pair in city_to_counties.items() if len(pair[1]) > 1]"
   ]
  },
  {
   "cell_type": "code",
   "execution_count": 25,
   "metadata": {},
   "outputs": [
    {
     "data": {
      "text/plain": [
       "[('Sacramento', {'Del Norte County', 'Sacramento County'}),\n",
       " ('San Francisco', {'San Francisco County', 'San Mateo County'}),\n",
       " ('Roseville', {'Placer County', 'Sacramento County'}),\n",
       " ('Walnut Creek', {'Alameda County', 'Contra Costa County'}),\n",
       " ('Los Angeles', {'Alameda County', 'Los Angeles County'}),\n",
       " ('Berkeley', {'Alameda County', 'Contra Costa County'}),\n",
       " ('Cerritos', {'Los Angeles County', 'Orange County'}),\n",
       " ('Hayward', {'Alameda County', 'Contra Costa County'}),\n",
       " ('Indian Wells', {'Riverside County', 'San Benito County'}),\n",
       " ('Vista', {'San Diego County', 'San Francisco County'}),\n",
       " ('City of Industry', {'Los Angeles County', 'Orange County'}),\n",
       " ('Del Mar', {'Orange County', 'San Diego County'}),\n",
       " ('Los Gatos', {'Santa Clara County', 'Santa Cruz County'}),\n",
       " ('Rancho', {'Los Angeles County', 'San Bernardino County'})]"
      ]
     },
     "execution_count": 25,
     "metadata": {},
     "output_type": "execute_result"
    }
   ],
   "source": [
    "ambiguous_cities"
   ]
  },
  {
   "cell_type": "markdown",
   "metadata": {},
   "source": [
    "### Manual research narrowed down which cities actually belonged to which counties\n",
    "resulting in our updated `ambiguous_cities` dictionary. `Rancho` is the only city on the list where the two counties actually have cities with the same name. It will be left off the list. \n",
    "\n",
    "***The dictionary below may need further manual adjusting if this notebook is being run with updated data.***"
   ]
  },
  {
   "cell_type": "code",
   "execution_count": 26,
   "metadata": {},
   "outputs": [],
   "source": [
    "dict_cities = {\n",
    "    'Sacramento':'Sacramento County',\n",
    "    'San Francisco':'San Francisco County',\n",
    "    'Hayward':'Alameda County',\n",
    "    'Indian Wells':'Riverside County',\n",
    "    'Cerritos':'Los Angeles County',\n",
    "    'Vista':'San Diego County',\n",
    "    'Roseville':'Placer County',\n",
    "    'City of Industry':'Los Angeles County',\n",
    "    'Del Mar':'San Diego County',\n",
    "    'Walnut Creek':'Contra Costa County',\n",
    "    'Los Gatos':'Santa Clara County',\n",
    "    'Los Angeles':'Los Angeles County',\n",
    "    'Berkeley': 'Alameda County'\n",
    "}"
   ]
  },
  {
   "cell_type": "markdown",
   "metadata": {},
   "source": [
    "### Clean County Names\n",
    "Below is our code to correct County Names based on City Names. \n",
    "We are taking the dictionary above, looping through the city and county names, which are the keys and values, replacing the incorrect County Name with the correct one for each city's record."
   ]
  },
  {
   "cell_type": "code",
   "execution_count": 27,
   "metadata": {},
   "outputs": [],
   "source": [
    "for city, county in dict_cities.items():\n",
    "    cali_layoffs.loc[cali_layoffs['City'] == city, ['County']] = county"
   ]
  },
  {
   "cell_type": "code",
   "execution_count": 28,
   "metadata": {},
   "outputs": [
    {
     "data": {
      "text/html": [
       "<div>\n",
       "<style scoped>\n",
       "    .dataframe tbody tr th:only-of-type {\n",
       "        vertical-align: middle;\n",
       "    }\n",
       "\n",
       "    .dataframe tbody tr th {\n",
       "        vertical-align: top;\n",
       "    }\n",
       "\n",
       "    .dataframe thead th {\n",
       "        text-align: right;\n",
       "    }\n",
       "</style>\n",
       "<table border=\"1\" class=\"dataframe\">\n",
       "  <thead>\n",
       "    <tr style=\"text-align: right;\">\n",
       "      <th></th>\n",
       "      <th>Notice Date</th>\n",
       "      <th>Effective Date</th>\n",
       "      <th>Received Date</th>\n",
       "      <th>Company</th>\n",
       "      <th>City</th>\n",
       "      <th>County</th>\n",
       "      <th>Employees</th>\n",
       "      <th>Layoff/Closure</th>\n",
       "      <th>County Orig</th>\n",
       "      <th>Year</th>\n",
       "      <th>Layoff/Closure clean</th>\n",
       "    </tr>\n",
       "  </thead>\n",
       "  <tbody>\n",
       "    <tr>\n",
       "      <th>1594</th>\n",
       "      <td>06/23/2020</td>\n",
       "      <td>08/20/2020</td>\n",
       "      <td>06/29/2020</td>\n",
       "      <td>Boston Scientific Corporation</td>\n",
       "      <td>Los Gatos</td>\n",
       "      <td>Santa Clara County</td>\n",
       "      <td>60.0</td>\n",
       "      <td>Closure Permanent</td>\n",
       "      <td>Santa Clara County</td>\n",
       "      <td>2020</td>\n",
       "      <td>closure permanent</td>\n",
       "    </tr>\n",
       "    <tr>\n",
       "      <th>1686</th>\n",
       "      <td>06/09/2020</td>\n",
       "      <td>06/07/2020</td>\n",
       "      <td>06/24/2020</td>\n",
       "      <td>Bay Club Courtside</td>\n",
       "      <td>Los Gatos</td>\n",
       "      <td>Santa Clara County</td>\n",
       "      <td>294.0</td>\n",
       "      <td>Layoff Permanent</td>\n",
       "      <td>Santa Clara County</td>\n",
       "      <td>2020</td>\n",
       "      <td>layoff permanent</td>\n",
       "    </tr>\n",
       "    <tr>\n",
       "      <th>2592</th>\n",
       "      <td>03/30/2020</td>\n",
       "      <td>03/17/2020</td>\n",
       "      <td>05/20/2020</td>\n",
       "      <td>BACK OF THE HOUSE DBA SUPER DUPER</td>\n",
       "      <td>Los Gatos</td>\n",
       "      <td>Santa Clara County</td>\n",
       "      <td>30.0</td>\n",
       "      <td>Layoff Temporary</td>\n",
       "      <td>Santa Clara County</td>\n",
       "      <td>2020</td>\n",
       "      <td>layoff temporary</td>\n",
       "    </tr>\n",
       "    <tr>\n",
       "      <th>2891</th>\n",
       "      <td>05/07/2020</td>\n",
       "      <td>03/17/2020</td>\n",
       "      <td>05/13/2020</td>\n",
       "      <td>Diocese of Monterey</td>\n",
       "      <td>Los Gatos</td>\n",
       "      <td>Santa Clara County</td>\n",
       "      <td>1.0</td>\n",
       "      <td>Layoff Temporary</td>\n",
       "      <td>Santa Cruz County</td>\n",
       "      <td>2020</td>\n",
       "      <td>layoff temporary</td>\n",
       "    </tr>\n",
       "    <tr>\n",
       "      <th>3232</th>\n",
       "      <td>04/03/2020</td>\n",
       "      <td>03/31/2020</td>\n",
       "      <td>05/01/2020</td>\n",
       "      <td>Insight Health Corp.</td>\n",
       "      <td>Los Gatos</td>\n",
       "      <td>Santa Clara County</td>\n",
       "      <td>6.0</td>\n",
       "      <td>Layoff Temporary</td>\n",
       "      <td>Santa Clara County</td>\n",
       "      <td>2020</td>\n",
       "      <td>layoff temporary</td>\n",
       "    </tr>\n",
       "    <tr>\n",
       "      <th>4126</th>\n",
       "      <td>04/03/2020</td>\n",
       "      <td>04/12/2020</td>\n",
       "      <td>04/18/2020</td>\n",
       "      <td>Addison-Penzak Community Center of SiliconValley</td>\n",
       "      <td>Los Gatos</td>\n",
       "      <td>Santa Clara County</td>\n",
       "      <td>130.0</td>\n",
       "      <td>Layoff Temporary</td>\n",
       "      <td>Santa Clara County</td>\n",
       "      <td>2020</td>\n",
       "      <td>layoff temporary</td>\n",
       "    </tr>\n",
       "    <tr>\n",
       "      <th>4730</th>\n",
       "      <td>03/30/2020</td>\n",
       "      <td>03/16/2020</td>\n",
       "      <td>04/13/2020</td>\n",
       "      <td>Kronos LLC</td>\n",
       "      <td>Los Gatos</td>\n",
       "      <td>Santa Clara County</td>\n",
       "      <td>65.0</td>\n",
       "      <td>Layoff Unknown at thistime</td>\n",
       "      <td>Santa Clara County</td>\n",
       "      <td>2020</td>\n",
       "      <td>layoff type uncategorized</td>\n",
       "    </tr>\n",
       "    <tr>\n",
       "      <th>5175</th>\n",
       "      <td>03/25/2020</td>\n",
       "      <td>03/31/2020</td>\n",
       "      <td>04/09/2020</td>\n",
       "      <td>Testarossa Winery</td>\n",
       "      <td>Los Gatos</td>\n",
       "      <td>Santa Clara County</td>\n",
       "      <td>134.0</td>\n",
       "      <td>Layoff Temporary</td>\n",
       "      <td>Santa Clara County</td>\n",
       "      <td>2020</td>\n",
       "      <td>layoff temporary</td>\n",
       "    </tr>\n",
       "  </tbody>\n",
       "</table>\n",
       "</div>"
      ],
      "text/plain": [
       "     Notice Date Effective Date Received Date  \\\n",
       "1594  06/23/2020     08/20/2020    06/29/2020   \n",
       "1686  06/09/2020     06/07/2020    06/24/2020   \n",
       "2592  03/30/2020     03/17/2020    05/20/2020   \n",
       "2891  05/07/2020     03/17/2020    05/13/2020   \n",
       "3232  04/03/2020     03/31/2020    05/01/2020   \n",
       "4126  04/03/2020     04/12/2020    04/18/2020   \n",
       "4730  03/30/2020     03/16/2020    04/13/2020   \n",
       "5175  03/25/2020     03/31/2020    04/09/2020   \n",
       "\n",
       "                                               Company       City  \\\n",
       "1594                     Boston Scientific Corporation  Los Gatos   \n",
       "1686                                Bay Club Courtside  Los Gatos   \n",
       "2592                 BACK OF THE HOUSE DBA SUPER DUPER  Los Gatos   \n",
       "2891                               Diocese of Monterey  Los Gatos   \n",
       "3232                              Insight Health Corp.  Los Gatos   \n",
       "4126  Addison-Penzak Community Center of SiliconValley  Los Gatos   \n",
       "4730                                        Kronos LLC  Los Gatos   \n",
       "5175                                 Testarossa Winery  Los Gatos   \n",
       "\n",
       "                  County  Employees              Layoff/Closure  \\\n",
       "1594  Santa Clara County       60.0           Closure Permanent   \n",
       "1686  Santa Clara County      294.0            Layoff Permanent   \n",
       "2592  Santa Clara County       30.0            Layoff Temporary   \n",
       "2891  Santa Clara County        1.0            Layoff Temporary   \n",
       "3232  Santa Clara County        6.0            Layoff Temporary   \n",
       "4126  Santa Clara County      130.0            Layoff Temporary   \n",
       "4730  Santa Clara County       65.0  Layoff Unknown at thistime   \n",
       "5175  Santa Clara County      134.0            Layoff Temporary   \n",
       "\n",
       "             County Orig  Year       Layoff/Closure clean  \n",
       "1594  Santa Clara County  2020          closure permanent  \n",
       "1686  Santa Clara County  2020           layoff permanent  \n",
       "2592  Santa Clara County  2020           layoff temporary  \n",
       "2891   Santa Cruz County  2020           layoff temporary  \n",
       "3232  Santa Clara County  2020           layoff temporary  \n",
       "4126  Santa Clara County  2020           layoff temporary  \n",
       "4730  Santa Clara County  2020  layoff type uncategorized  \n",
       "5175  Santa Clara County  2020           layoff temporary  "
      ]
     },
     "execution_count": 28,
     "metadata": {},
     "output_type": "execute_result"
    }
   ],
   "source": [
    "los_gatos_clean = cali_layoffs[cali_layoffs['City'] == 'Los Gatos']\n",
    "los_gatos_clean.head(8)"
   ]
  },
  {
   "cell_type": "markdown",
   "metadata": {},
   "source": [
    "### Adding Population Data\n",
    "\n",
    "The data has been grabbed from the census link above. These figures will be used to calculate per capita layoff numbers per county."
   ]
  },
  {
   "cell_type": "code",
   "execution_count": 29,
   "metadata": {},
   "outputs": [
    {
     "data": {
      "text/html": [
       "<div>\n",
       "<style scoped>\n",
       "    .dataframe tbody tr th:only-of-type {\n",
       "        vertical-align: middle;\n",
       "    }\n",
       "\n",
       "    .dataframe tbody tr th {\n",
       "        vertical-align: top;\n",
       "    }\n",
       "\n",
       "    .dataframe thead th {\n",
       "        text-align: right;\n",
       "    }\n",
       "</style>\n",
       "<table border=\"1\" class=\"dataframe\">\n",
       "  <thead>\n",
       "    <tr style=\"text-align: right;\">\n",
       "      <th></th>\n",
       "      <th>Counties</th>\n",
       "      <th>Population</th>\n",
       "      <th>County Names</th>\n",
       "    </tr>\n",
       "  </thead>\n",
       "  <tbody>\n",
       "    <tr>\n",
       "      <th>0</th>\n",
       "      <td>.Alameda County, California</td>\n",
       "      <td>1671329</td>\n",
       "      <td>Alameda County</td>\n",
       "    </tr>\n",
       "    <tr>\n",
       "      <th>1</th>\n",
       "      <td>.Alpine County, California</td>\n",
       "      <td>1129</td>\n",
       "      <td>Alpine County</td>\n",
       "    </tr>\n",
       "    <tr>\n",
       "      <th>2</th>\n",
       "      <td>.Amador County, California</td>\n",
       "      <td>39752</td>\n",
       "      <td>Amador County</td>\n",
       "    </tr>\n",
       "    <tr>\n",
       "      <th>3</th>\n",
       "      <td>.Butte County, California</td>\n",
       "      <td>219186</td>\n",
       "      <td>Butte County</td>\n",
       "    </tr>\n",
       "  </tbody>\n",
       "</table>\n",
       "</div>"
      ],
      "text/plain": [
       "                      Counties  Population    County Names\n",
       "0  .Alameda County, California     1671329  Alameda County\n",
       "1   .Alpine County, California        1129   Alpine County\n",
       "2   .Amador County, California       39752   Amador County\n",
       "3    .Butte County, California      219186    Butte County"
      ]
     },
     "execution_count": 29,
     "metadata": {},
     "output_type": "execute_result"
    }
   ],
   "source": [
    "cali_population.rename(columns={'California':'Counties','39,512,223':'Population'}, inplace=True)\n",
    "cali_population['County Names'] = cali_population['Counties'].str[1:]\n",
    "cali_population['County Names'] = cali_population['County Names'].str.split(',').str[0]\n",
    "cali_population.head(4)"
   ]
  },
  {
   "cell_type": "code",
   "execution_count": 30,
   "metadata": {},
   "outputs": [
    {
     "data": {
      "text/html": [
       "<div>\n",
       "<style scoped>\n",
       "    .dataframe tbody tr th:only-of-type {\n",
       "        vertical-align: middle;\n",
       "    }\n",
       "\n",
       "    .dataframe tbody tr th {\n",
       "        vertical-align: top;\n",
       "    }\n",
       "\n",
       "    .dataframe thead th {\n",
       "        text-align: right;\n",
       "    }\n",
       "</style>\n",
       "<table border=\"1\" class=\"dataframe\">\n",
       "  <thead>\n",
       "    <tr style=\"text-align: right;\">\n",
       "      <th></th>\n",
       "      <th>Notice Date</th>\n",
       "      <th>Effective Date</th>\n",
       "      <th>Received Date</th>\n",
       "      <th>Company</th>\n",
       "      <th>City</th>\n",
       "      <th>County</th>\n",
       "      <th>Employees</th>\n",
       "      <th>Layoff/Closure</th>\n",
       "      <th>County Orig</th>\n",
       "      <th>Year</th>\n",
       "      <th>Layoff/Closure clean</th>\n",
       "      <th>Population</th>\n",
       "      <th>County Names</th>\n",
       "      <th>City 2</th>\n",
       "    </tr>\n",
       "  </thead>\n",
       "  <tbody>\n",
       "    <tr>\n",
       "      <th>0</th>\n",
       "      <td>12/04/2020</td>\n",
       "      <td>12/06/2020</td>\n",
       "      <td>12/30/2020</td>\n",
       "      <td>Blackhawk Country Club</td>\n",
       "      <td>Danville</td>\n",
       "      <td>Contra Costa County</td>\n",
       "      <td>3.0</td>\n",
       "      <td>Layoff Temporary</td>\n",
       "      <td>Contra Costa County</td>\n",
       "      <td>2020</td>\n",
       "      <td>layoff temporary</td>\n",
       "      <td>1153526.0</td>\n",
       "      <td>Contra Costa County</td>\n",
       "      <td>danville</td>\n",
       "    </tr>\n",
       "    <tr>\n",
       "      <th>1</th>\n",
       "      <td>12/07/2020</td>\n",
       "      <td>12/09/2020</td>\n",
       "      <td>12/30/2020</td>\n",
       "      <td>Fullerton Baekjeong, LLC</td>\n",
       "      <td>Buena Park</td>\n",
       "      <td>Orange County</td>\n",
       "      <td>67.0</td>\n",
       "      <td>Closure Permanent</td>\n",
       "      <td>Orange County</td>\n",
       "      <td>2020</td>\n",
       "      <td>closure permanent</td>\n",
       "      <td>3175692.0</td>\n",
       "      <td>Orange County</td>\n",
       "      <td>buena park</td>\n",
       "    </tr>\n",
       "    <tr>\n",
       "      <th>2</th>\n",
       "      <td>12/07/2020</td>\n",
       "      <td>12/09/2020</td>\n",
       "      <td>12/30/2020</td>\n",
       "      <td>Irvine Baekjeong, LLC</td>\n",
       "      <td>Irvine</td>\n",
       "      <td>Orange County</td>\n",
       "      <td>68.0</td>\n",
       "      <td>Closure Permanent</td>\n",
       "      <td>Orange County</td>\n",
       "      <td>2020</td>\n",
       "      <td>closure permanent</td>\n",
       "      <td>3175692.0</td>\n",
       "      <td>Orange County</td>\n",
       "      <td>irvine</td>\n",
       "    </tr>\n",
       "    <tr>\n",
       "      <th>3</th>\n",
       "      <td>12/09/2020</td>\n",
       "      <td>12/10/2020</td>\n",
       "      <td>12/30/2020</td>\n",
       "      <td>OCMC Inc. dba Orange County Mining Co.</td>\n",
       "      <td>Santa Ana</td>\n",
       "      <td>Orange County</td>\n",
       "      <td>59.0</td>\n",
       "      <td>Closure Temporary</td>\n",
       "      <td>Orange County</td>\n",
       "      <td>2020</td>\n",
       "      <td>closure temporary</td>\n",
       "      <td>3175692.0</td>\n",
       "      <td>Orange County</td>\n",
       "      <td>santa ana</td>\n",
       "    </tr>\n",
       "    <tr>\n",
       "      <th>4</th>\n",
       "      <td>12/07/2020</td>\n",
       "      <td>12/07/2020</td>\n",
       "      <td>12/30/2020</td>\n",
       "      <td>Parker Palm Springs, LLC</td>\n",
       "      <td>Palm Springs</td>\n",
       "      <td>Riverside County</td>\n",
       "      <td>79.0</td>\n",
       "      <td>Layoff Temporary</td>\n",
       "      <td>Riverside County</td>\n",
       "      <td>2020</td>\n",
       "      <td>layoff temporary</td>\n",
       "      <td>2470546.0</td>\n",
       "      <td>Riverside County</td>\n",
       "      <td>palm springs</td>\n",
       "    </tr>\n",
       "  </tbody>\n",
       "</table>\n",
       "</div>"
      ],
      "text/plain": [
       "  Notice Date Effective Date Received Date  \\\n",
       "0  12/04/2020     12/06/2020    12/30/2020   \n",
       "1  12/07/2020     12/09/2020    12/30/2020   \n",
       "2  12/07/2020     12/09/2020    12/30/2020   \n",
       "3  12/09/2020     12/10/2020    12/30/2020   \n",
       "4  12/07/2020     12/07/2020    12/30/2020   \n",
       "\n",
       "                                  Company          City               County  \\\n",
       "0                  Blackhawk Country Club      Danville  Contra Costa County   \n",
       "1                Fullerton Baekjeong, LLC    Buena Park        Orange County   \n",
       "2                   Irvine Baekjeong, LLC        Irvine        Orange County   \n",
       "3  OCMC Inc. dba Orange County Mining Co.     Santa Ana        Orange County   \n",
       "4                Parker Palm Springs, LLC  Palm Springs     Riverside County   \n",
       "\n",
       "   Employees     Layoff/Closure          County Orig  Year  \\\n",
       "0        3.0   Layoff Temporary  Contra Costa County  2020   \n",
       "1       67.0  Closure Permanent        Orange County  2020   \n",
       "2       68.0  Closure Permanent        Orange County  2020   \n",
       "3       59.0  Closure Temporary        Orange County  2020   \n",
       "4       79.0   Layoff Temporary     Riverside County  2020   \n",
       "\n",
       "  Layoff/Closure clean  Population         County Names        City 2  \n",
       "0     layoff temporary   1153526.0  Contra Costa County      danville  \n",
       "1    closure permanent   3175692.0        Orange County    buena park  \n",
       "2    closure permanent   3175692.0        Orange County        irvine  \n",
       "3    closure temporary   3175692.0        Orange County     santa ana  \n",
       "4     layoff temporary   2470546.0     Riverside County  palm springs  "
      ]
     },
     "execution_count": 30,
     "metadata": {},
     "output_type": "execute_result"
    }
   ],
   "source": [
    "cali_merge = pd.merge(cali_layoffs, cali_population, how=\"left\", left_on=\"County\", right_on=\"County Names\")\n",
    "cali_merge.drop(columns='Counties', inplace=True)\n",
    "cali_merge['City 2'] = cali_merge['City'].str.lower()\n",
    "cali_merge.head()"
   ]
  },
  {
   "cell_type": "markdown",
   "metadata": {},
   "source": [
    "### Extracting Only Necessary Records\n",
    "\n",
    "Now that the data has been standardized, we will be selecting the records that have a notice date from the year 2020 or 2019. This will allow for comparisons between a pandemic and non-pandemic year in terms of layoff notices. "
   ]
  },
  {
   "cell_type": "code",
   "execution_count": 31,
   "metadata": {},
   "outputs": [
    {
     "name": "stderr",
     "output_type": "stream",
     "text": [
      "/Users/dilcia_mercedes/.local/share/virtualenvs/cali_WARN-MY_IDcvv/lib/python3.8/site-packages/pandas/core/frame.py:4162: SettingWithCopyWarning: \n",
      "A value is trying to be set on a copy of a slice from a DataFrame\n",
      "\n",
      "See the caveats in the documentation: https://pandas.pydata.org/pandas-docs/stable/user_guide/indexing.html#returning-a-view-versus-a-copy\n",
      "  return super().drop(\n"
     ]
    },
    {
     "data": {
      "text/html": [
       "<div>\n",
       "<style scoped>\n",
       "    .dataframe tbody tr th:only-of-type {\n",
       "        vertical-align: middle;\n",
       "    }\n",
       "\n",
       "    .dataframe tbody tr th {\n",
       "        vertical-align: top;\n",
       "    }\n",
       "\n",
       "    .dataframe thead th {\n",
       "        text-align: right;\n",
       "    }\n",
       "</style>\n",
       "<table border=\"1\" class=\"dataframe\">\n",
       "  <thead>\n",
       "    <tr style=\"text-align: right;\">\n",
       "      <th></th>\n",
       "      <th>Notice Date</th>\n",
       "      <th>Effective Date</th>\n",
       "      <th>Received Date</th>\n",
       "      <th>Company</th>\n",
       "      <th>City</th>\n",
       "      <th>County</th>\n",
       "      <th>Employees</th>\n",
       "      <th>Layoff/Closure</th>\n",
       "      <th>County Orig</th>\n",
       "      <th>Year</th>\n",
       "      <th>Layoff/Closure clean</th>\n",
       "      <th>Population</th>\n",
       "      <th>City 2</th>\n",
       "    </tr>\n",
       "  </thead>\n",
       "  <tbody>\n",
       "    <tr>\n",
       "      <th>0</th>\n",
       "      <td>12/04/2020</td>\n",
       "      <td>12/06/2020</td>\n",
       "      <td>12/30/2020</td>\n",
       "      <td>Blackhawk Country Club</td>\n",
       "      <td>Danville</td>\n",
       "      <td>Contra Costa County</td>\n",
       "      <td>3.0</td>\n",
       "      <td>Layoff Temporary</td>\n",
       "      <td>Contra Costa County</td>\n",
       "      <td>2020</td>\n",
       "      <td>layoff temporary</td>\n",
       "      <td>1153526.0</td>\n",
       "      <td>danville</td>\n",
       "    </tr>\n",
       "    <tr>\n",
       "      <th>1</th>\n",
       "      <td>12/07/2020</td>\n",
       "      <td>12/09/2020</td>\n",
       "      <td>12/30/2020</td>\n",
       "      <td>Fullerton Baekjeong, LLC</td>\n",
       "      <td>Buena Park</td>\n",
       "      <td>Orange County</td>\n",
       "      <td>67.0</td>\n",
       "      <td>Closure Permanent</td>\n",
       "      <td>Orange County</td>\n",
       "      <td>2020</td>\n",
       "      <td>closure permanent</td>\n",
       "      <td>3175692.0</td>\n",
       "      <td>buena park</td>\n",
       "    </tr>\n",
       "    <tr>\n",
       "      <th>2</th>\n",
       "      <td>12/07/2020</td>\n",
       "      <td>12/09/2020</td>\n",
       "      <td>12/30/2020</td>\n",
       "      <td>Irvine Baekjeong, LLC</td>\n",
       "      <td>Irvine</td>\n",
       "      <td>Orange County</td>\n",
       "      <td>68.0</td>\n",
       "      <td>Closure Permanent</td>\n",
       "      <td>Orange County</td>\n",
       "      <td>2020</td>\n",
       "      <td>closure permanent</td>\n",
       "      <td>3175692.0</td>\n",
       "      <td>irvine</td>\n",
       "    </tr>\n",
       "    <tr>\n",
       "      <th>3</th>\n",
       "      <td>12/09/2020</td>\n",
       "      <td>12/10/2020</td>\n",
       "      <td>12/30/2020</td>\n",
       "      <td>OCMC Inc. dba Orange County Mining Co.</td>\n",
       "      <td>Santa Ana</td>\n",
       "      <td>Orange County</td>\n",
       "      <td>59.0</td>\n",
       "      <td>Closure Temporary</td>\n",
       "      <td>Orange County</td>\n",
       "      <td>2020</td>\n",
       "      <td>closure temporary</td>\n",
       "      <td>3175692.0</td>\n",
       "      <td>santa ana</td>\n",
       "    </tr>\n",
       "    <tr>\n",
       "      <th>4</th>\n",
       "      <td>12/07/2020</td>\n",
       "      <td>12/07/2020</td>\n",
       "      <td>12/30/2020</td>\n",
       "      <td>Parker Palm Springs, LLC</td>\n",
       "      <td>Palm Springs</td>\n",
       "      <td>Riverside County</td>\n",
       "      <td>79.0</td>\n",
       "      <td>Layoff Temporary</td>\n",
       "      <td>Riverside County</td>\n",
       "      <td>2020</td>\n",
       "      <td>layoff temporary</td>\n",
       "      <td>2470546.0</td>\n",
       "      <td>palm springs</td>\n",
       "    </tr>\n",
       "  </tbody>\n",
       "</table>\n",
       "</div>"
      ],
      "text/plain": [
       "  Notice Date Effective Date Received Date  \\\n",
       "0  12/04/2020     12/06/2020    12/30/2020   \n",
       "1  12/07/2020     12/09/2020    12/30/2020   \n",
       "2  12/07/2020     12/09/2020    12/30/2020   \n",
       "3  12/09/2020     12/10/2020    12/30/2020   \n",
       "4  12/07/2020     12/07/2020    12/30/2020   \n",
       "\n",
       "                                  Company          City               County  \\\n",
       "0                  Blackhawk Country Club      Danville  Contra Costa County   \n",
       "1                Fullerton Baekjeong, LLC    Buena Park        Orange County   \n",
       "2                   Irvine Baekjeong, LLC        Irvine        Orange County   \n",
       "3  OCMC Inc. dba Orange County Mining Co.     Santa Ana        Orange County   \n",
       "4                Parker Palm Springs, LLC  Palm Springs     Riverside County   \n",
       "\n",
       "   Employees     Layoff/Closure          County Orig  Year  \\\n",
       "0        3.0   Layoff Temporary  Contra Costa County  2020   \n",
       "1       67.0  Closure Permanent        Orange County  2020   \n",
       "2       68.0  Closure Permanent        Orange County  2020   \n",
       "3       59.0  Closure Temporary        Orange County  2020   \n",
       "4       79.0   Layoff Temporary     Riverside County  2020   \n",
       "\n",
       "  Layoff/Closure clean  Population        City 2  \n",
       "0     layoff temporary   1153526.0      danville  \n",
       "1    closure permanent   3175692.0    buena park  \n",
       "2    closure permanent   3175692.0        irvine  \n",
       "3    closure temporary   3175692.0     santa ana  \n",
       "4     layoff temporary   2470546.0  palm springs  "
      ]
     },
     "execution_count": 31,
     "metadata": {},
     "output_type": "execute_result"
    }
   ],
   "source": [
    "years = ['2020', '2019']\n",
    "\n",
    "cali_2020_2019 = cali_merge[cali_merge[\"Year\"].isin(years)]\n",
    "cali_2020_2019.drop(columns='County Names', inplace=True)\n",
    "cali_2020_2019.head()"
   ]
  },
  {
   "cell_type": "code",
   "execution_count": 32,
   "metadata": {},
   "outputs": [
    {
     "data": {
      "text/plain": [
       "6612"
      ]
     },
     "execution_count": 32,
     "metadata": {},
     "output_type": "execute_result"
    }
   ],
   "source": [
    "len(cali_2020_2019)"
   ]
  },
  {
   "cell_type": "code",
   "execution_count": 33,
   "metadata": {},
   "outputs": [],
   "source": [
    "cali_2020_2019.to_csv('../data/harmonizing/clean_warn_data.csv', index=False) # old version of `clean_warn_data.csv` without the deduping"
   ]
  }
 ],
 "metadata": {
  "kernelspec": {
   "display_name": "Python 3",
   "language": "python",
   "name": "python3"
  },
  "language_info": {
   "codemirror_mode": {
    "name": "ipython",
    "version": 3
   },
   "file_extension": ".py",
   "mimetype": "text/x-python",
   "name": "python",
   "nbconvert_exporter": "python",
   "pygments_lexer": "ipython3",
   "version": "3.8.1"
  }
 },
 "nbformat": 4,
 "nbformat_minor": 4
}
