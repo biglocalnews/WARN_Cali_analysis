{
 "cells": [
  {
   "cell_type": "code",
   "execution_count": 1,
   "metadata": {},
   "outputs": [],
   "source": [
    "import pandas as pd\n",
    "import csv"
   ]
  },
  {
   "cell_type": "code",
   "execution_count": 2,
   "metadata": {},
   "outputs": [],
   "source": [
    "cali_layoffs = pd.read_csv('california_warn_raw_recent.csv')"
   ]
  },
  {
   "cell_type": "code",
   "execution_count": 3,
   "metadata": {},
   "outputs": [
    {
     "data": {
      "text/html": [
       "<div>\n",
       "<style scoped>\n",
       "    .dataframe tbody tr th:only-of-type {\n",
       "        vertical-align: middle;\n",
       "    }\n",
       "\n",
       "    .dataframe tbody tr th {\n",
       "        vertical-align: top;\n",
       "    }\n",
       "\n",
       "    .dataframe thead th {\n",
       "        text-align: right;\n",
       "    }\n",
       "</style>\n",
       "<table border=\"1\" class=\"dataframe\">\n",
       "  <thead>\n",
       "    <tr style=\"text-align: right;\">\n",
       "      <th></th>\n",
       "      <th>Notice Date</th>\n",
       "      <th>Effective Date</th>\n",
       "      <th>Received Date</th>\n",
       "      <th>Company</th>\n",
       "      <th>City</th>\n",
       "      <th>County</th>\n",
       "      <th>Employees</th>\n",
       "      <th>Layoff/Closure</th>\n",
       "    </tr>\n",
       "  </thead>\n",
       "  <tbody>\n",
       "    <tr>\n",
       "      <th>0</th>\n",
       "      <td>06/09/2020</td>\n",
       "      <td>06/07/2020</td>\n",
       "      <td>07/01/2020</td>\n",
       "      <td>Bay Club Redondo Beach</td>\n",
       "      <td>Redondo Beach</td>\n",
       "      <td>Los Angeles County</td>\n",
       "      <td>102.0</td>\n",
       "      <td>Layoff Permanent</td>\n",
       "    </tr>\n",
       "    <tr>\n",
       "      <th>1</th>\n",
       "      <td>06/09/2020</td>\n",
       "      <td>06/07/2020</td>\n",
       "      <td>07/01/2020</td>\n",
       "      <td>Bay Club Rolling Hills</td>\n",
       "      <td>Rolling Hills Estates</td>\n",
       "      <td>Los Angeles County</td>\n",
       "      <td>64.0</td>\n",
       "      <td>Layoff Permanent</td>\n",
       "    </tr>\n",
       "    <tr>\n",
       "      <th>2</th>\n",
       "      <td>06/09/2020</td>\n",
       "      <td>06/07/2020</td>\n",
       "      <td>07/01/2020</td>\n",
       "      <td>Bay Club Santa Monica</td>\n",
       "      <td>Santa Monica</td>\n",
       "      <td>Los Angeles County</td>\n",
       "      <td>82.0</td>\n",
       "      <td>Layoff Permanent</td>\n",
       "    </tr>\n",
       "    <tr>\n",
       "      <th>3</th>\n",
       "      <td>06/19/2020</td>\n",
       "      <td>08/21/2020</td>\n",
       "      <td>07/01/2020</td>\n",
       "      <td>Weber Metals, Inc</td>\n",
       "      <td>Paramount</td>\n",
       "      <td>Los Angeles County</td>\n",
       "      <td>169.0</td>\n",
       "      <td>Layoff Permanent</td>\n",
       "    </tr>\n",
       "    <tr>\n",
       "      <th>4</th>\n",
       "      <td>06/09/2020</td>\n",
       "      <td>06/07/2020</td>\n",
       "      <td>07/01/2020</td>\n",
       "      <td>StoneTree Golf Club</td>\n",
       "      <td>Novato</td>\n",
       "      <td>Marin County</td>\n",
       "      <td>32.0</td>\n",
       "      <td>Layoff Permanent</td>\n",
       "    </tr>\n",
       "  </tbody>\n",
       "</table>\n",
       "</div>"
      ],
      "text/plain": [
       "  Notice Date Effective Date Received Date                 Company  \\\n",
       "0  06/09/2020     06/07/2020    07/01/2020  Bay Club Redondo Beach   \n",
       "1  06/09/2020     06/07/2020    07/01/2020  Bay Club Rolling Hills   \n",
       "2  06/09/2020     06/07/2020    07/01/2020   Bay Club Santa Monica   \n",
       "3  06/19/2020     08/21/2020    07/01/2020       Weber Metals, Inc   \n",
       "4  06/09/2020     06/07/2020    07/01/2020     StoneTree Golf Club   \n",
       "\n",
       "                    City               County  Employees    Layoff/Closure  \n",
       "0          Redondo Beach  Los Angeles County       102.0  Layoff Permanent  \n",
       "1  Rolling Hills Estates  Los Angeles County        64.0  Layoff Permanent  \n",
       "2           Santa Monica  Los Angeles County        82.0  Layoff Permanent  \n",
       "3              Paramount  Los Angeles County       169.0  Layoff Permanent  \n",
       "4                 Novato        Marin County        32.0  Layoff Permanent  "
      ]
     },
     "execution_count": 3,
     "metadata": {},
     "output_type": "execute_result"
    }
   ],
   "source": [
    "cali_layoffs.head()"
   ]
  },
  {
   "cell_type": "markdown",
   "metadata": {},
   "source": [
    "### Ambiguous Cities\n",
    "\n",
    "In doing some preliminary exploration of the data, we learned that some cities have been assigned the incorrect county name. The code below finds the cities with more than one county assigned. We use the results produced to go back and clean those records in the WARN Layoffs analysis notebook."
   ]
  },
  {
   "cell_type": "markdown",
   "metadata": {},
   "source": [
    "### Clean County Names"
   ]
  },
  {
   "cell_type": "code",
   "execution_count": 4,
   "metadata": {},
   "outputs": [],
   "source": [
    "cali_layoffs['County'] = cali_layoffs['County'].str.strip()\n",
    "cali_layoffs['County Orig'] = cali_layoffs['County']\n",
    "cali_layoffs.loc[~(cali_layoffs['County'].str.endswith('County')),'County'] = cali_layoffs['County'] + \" County\"\n",
    "cali_layoffs['County'] = cali_layoffs['County'].str.replace('No County Name County', 'No Name')"
   ]
  },
  {
   "cell_type": "code",
   "execution_count": 5,
   "metadata": {},
   "outputs": [
    {
     "data": {
      "text/html": [
       "<div>\n",
       "<style scoped>\n",
       "    .dataframe tbody tr th:only-of-type {\n",
       "        vertical-align: middle;\n",
       "    }\n",
       "\n",
       "    .dataframe tbody tr th {\n",
       "        vertical-align: top;\n",
       "    }\n",
       "\n",
       "    .dataframe thead th {\n",
       "        text-align: right;\n",
       "    }\n",
       "</style>\n",
       "<table border=\"1\" class=\"dataframe\">\n",
       "  <thead>\n",
       "    <tr style=\"text-align: right;\">\n",
       "      <th></th>\n",
       "      <th>Notice Date</th>\n",
       "      <th>Effective Date</th>\n",
       "      <th>Received Date</th>\n",
       "      <th>Company</th>\n",
       "      <th>City</th>\n",
       "      <th>County</th>\n",
       "      <th>Employees</th>\n",
       "      <th>Layoff/Closure</th>\n",
       "      <th>County Orig</th>\n",
       "    </tr>\n",
       "  </thead>\n",
       "  <tbody>\n",
       "    <tr>\n",
       "      <th>0</th>\n",
       "      <td>06/09/2020</td>\n",
       "      <td>06/07/2020</td>\n",
       "      <td>07/01/2020</td>\n",
       "      <td>Bay Club Redondo Beach</td>\n",
       "      <td>Redondo Beach</td>\n",
       "      <td>Los Angeles County</td>\n",
       "      <td>102.0</td>\n",
       "      <td>Layoff Permanent</td>\n",
       "      <td>Los Angeles County</td>\n",
       "    </tr>\n",
       "    <tr>\n",
       "      <th>1</th>\n",
       "      <td>06/09/2020</td>\n",
       "      <td>06/07/2020</td>\n",
       "      <td>07/01/2020</td>\n",
       "      <td>Bay Club Rolling Hills</td>\n",
       "      <td>Rolling Hills Estates</td>\n",
       "      <td>Los Angeles County</td>\n",
       "      <td>64.0</td>\n",
       "      <td>Layoff Permanent</td>\n",
       "      <td>Los Angeles County</td>\n",
       "    </tr>\n",
       "    <tr>\n",
       "      <th>2</th>\n",
       "      <td>06/09/2020</td>\n",
       "      <td>06/07/2020</td>\n",
       "      <td>07/01/2020</td>\n",
       "      <td>Bay Club Santa Monica</td>\n",
       "      <td>Santa Monica</td>\n",
       "      <td>Los Angeles County</td>\n",
       "      <td>82.0</td>\n",
       "      <td>Layoff Permanent</td>\n",
       "      <td>Los Angeles County</td>\n",
       "    </tr>\n",
       "    <tr>\n",
       "      <th>3</th>\n",
       "      <td>06/19/2020</td>\n",
       "      <td>08/21/2020</td>\n",
       "      <td>07/01/2020</td>\n",
       "      <td>Weber Metals, Inc</td>\n",
       "      <td>Paramount</td>\n",
       "      <td>Los Angeles County</td>\n",
       "      <td>169.0</td>\n",
       "      <td>Layoff Permanent</td>\n",
       "      <td>Los Angeles County</td>\n",
       "    </tr>\n",
       "    <tr>\n",
       "      <th>4</th>\n",
       "      <td>06/09/2020</td>\n",
       "      <td>06/07/2020</td>\n",
       "      <td>07/01/2020</td>\n",
       "      <td>StoneTree Golf Club</td>\n",
       "      <td>Novato</td>\n",
       "      <td>Marin County</td>\n",
       "      <td>32.0</td>\n",
       "      <td>Layoff Permanent</td>\n",
       "      <td>Marin County</td>\n",
       "    </tr>\n",
       "  </tbody>\n",
       "</table>\n",
       "</div>"
      ],
      "text/plain": [
       "  Notice Date Effective Date Received Date                 Company  \\\n",
       "0  06/09/2020     06/07/2020    07/01/2020  Bay Club Redondo Beach   \n",
       "1  06/09/2020     06/07/2020    07/01/2020  Bay Club Rolling Hills   \n",
       "2  06/09/2020     06/07/2020    07/01/2020   Bay Club Santa Monica   \n",
       "3  06/19/2020     08/21/2020    07/01/2020       Weber Metals, Inc   \n",
       "4  06/09/2020     06/07/2020    07/01/2020     StoneTree Golf Club   \n",
       "\n",
       "                    City              County  Employees    Layoff/Closure  \\\n",
       "0          Redondo Beach  Los Angeles County      102.0  Layoff Permanent   \n",
       "1  Rolling Hills Estates  Los Angeles County       64.0  Layoff Permanent   \n",
       "2           Santa Monica  Los Angeles County       82.0  Layoff Permanent   \n",
       "3              Paramount  Los Angeles County      169.0  Layoff Permanent   \n",
       "4                 Novato        Marin County       32.0  Layoff Permanent   \n",
       "\n",
       "          County Orig  \n",
       "0  Los Angeles County  \n",
       "1  Los Angeles County  \n",
       "2  Los Angeles County  \n",
       "3  Los Angeles County  \n",
       "4        Marin County  "
      ]
     },
     "execution_count": 5,
     "metadata": {},
     "output_type": "execute_result"
    }
   ],
   "source": [
    "cali_layoffs.head()"
   ]
  },
  {
   "cell_type": "code",
   "execution_count": 6,
   "metadata": {},
   "outputs": [
    {
     "data": {
      "text/plain": [
       "[{'Notice Date': '06/09/2020',\n",
       "  'Effective Date': '06/07/2020',\n",
       "  'Received Date': '07/01/2020',\n",
       "  'Company': 'Bay Club Redondo Beach',\n",
       "  'City': 'Redondo Beach',\n",
       "  'County': 'Los Angeles County',\n",
       "  'Employees': 102.0,\n",
       "  'Layoff/Closure': 'Layoff Permanent',\n",
       "  'County Orig': 'Los Angeles County'},\n",
       " {'Notice Date': '06/09/2020',\n",
       "  'Effective Date': '06/07/2020',\n",
       "  'Received Date': '07/01/2020',\n",
       "  'Company': 'Bay Club Rolling Hills',\n",
       "  'City': 'Rolling Hills Estates',\n",
       "  'County': 'Los Angeles County',\n",
       "  'Employees': 64.0,\n",
       "  'Layoff/Closure': 'Layoff Permanent',\n",
       "  'County Orig': 'Los Angeles County'}]"
      ]
     },
     "execution_count": 6,
     "metadata": {},
     "output_type": "execute_result"
    }
   ],
   "source": [
    "cali_dict = cali_layoffs.to_dict(orient='records')\n",
    "cali_dict[0:2]"
   ]
  },
  {
   "cell_type": "code",
   "execution_count": 7,
   "metadata": {},
   "outputs": [
    {
     "data": {
      "text/plain": [
       "array(['Los Angeles County', 'Marin County', 'Orange County',\n",
       "       'Sacramento County', 'San Bernardino County',\n",
       "       'San Francisco County', 'San Mateo County', 'Santa Clara County',\n",
       "       'Ventura County', 'Kern County', 'Stanislaus County',\n",
       "       'Contra Costa County', 'Alameda County', 'San Diego County',\n",
       "       'Kings County', 'San Joaquin County', 'Sonoma County',\n",
       "       'Tulare County', 'Napa County', 'Monterey County', 'Placer County',\n",
       "       'Mono County', 'Riverside County', 'Fresno County',\n",
       "       'Mendocino County', 'Del Norte County', 'Yolo County',\n",
       "       'San Luis Obispo County', 'Madera County', 'Shasta County',\n",
       "       'Solano County', 'Santa Barbara County', 'Imperial County',\n",
       "       'Mariposa County', 'Santa Cruz County', 'El Dorado County',\n",
       "       'Butte County', 'Sutter County', 'Yuba County', 'Siskiyou County',\n",
       "       'Calaveras County', 'Tehama County', 'Glenn County',\n",
       "       'Merced County', 'Humboldt County', 'San Benito County',\n",
       "       'Nevada County', 'Tuolumne County', 'Amador County',\n",
       "       'Colusa County', 'Plumas County', 'Inyo County', 'No Name'],\n",
       "      dtype=object)"
      ]
     },
     "execution_count": 7,
     "metadata": {},
     "output_type": "execute_result"
    }
   ],
   "source": [
    "cali_layoffs['County'].unique()"
   ]
  },
  {
   "cell_type": "code",
   "execution_count": 8,
   "metadata": {},
   "outputs": [
    {
     "data": {
      "text/plain": [
       "2117"
      ]
     },
     "execution_count": 8,
     "metadata": {},
     "output_type": "execute_result"
    }
   ],
   "source": [
    "rows_with_no_county = [r for r in cali_dict if r[\"County\"] == \"No Name\"]\n",
    "len(rows_with_no_county)"
   ]
  },
  {
   "cell_type": "code",
   "execution_count": 9,
   "metadata": {},
   "outputs": [
    {
     "data": {
      "text/plain": [
       "{'Notice Date': '06/30/2016',\n",
       " 'Effective Date': '08/31/2016',\n",
       " 'Received Date': '07/01/2016',\n",
       " 'Company': 'DCS Facility Services',\n",
       " 'City': 'Antelope',\n",
       " 'County': 'No Name',\n",
       " 'Employees': 55.0,\n",
       " 'Layoff/Closure': 'Closure Permanent',\n",
       " 'County Orig': 'No County Name'}"
      ]
     },
     "execution_count": 9,
     "metadata": {},
     "output_type": "execute_result"
    }
   ],
   "source": [
    "rows_with_no_county[0]"
   ]
  },
  {
   "cell_type": "code",
   "execution_count": 10,
   "metadata": {},
   "outputs": [],
   "source": [
    "cities = [r[\"City\"] for r in rows_with_no_county]"
   ]
  },
  {
   "cell_type": "code",
   "execution_count": 11,
   "metadata": {},
   "outputs": [
    {
     "data": {
      "text/plain": [
       "2117"
      ]
     },
     "execution_count": 11,
     "metadata": {},
     "output_type": "execute_result"
    }
   ],
   "source": [
    "len(cities)"
   ]
  },
  {
   "cell_type": "code",
   "execution_count": 12,
   "metadata": {},
   "outputs": [],
   "source": [
    "cities = set(cities)"
   ]
  },
  {
   "cell_type": "code",
   "execution_count": 13,
   "metadata": {},
   "outputs": [
    {
     "data": {
      "text/plain": [
       "355"
      ]
     },
     "execution_count": 13,
     "metadata": {},
     "output_type": "execute_result"
    }
   ],
   "source": [
    "len(cities)"
   ]
  },
  {
   "cell_type": "code",
   "execution_count": 14,
   "metadata": {},
   "outputs": [],
   "source": [
    "rows_with_county = [r for r in cali_dict if r[\"County\"] != \"No Name\"]"
   ]
  },
  {
   "cell_type": "code",
   "execution_count": 15,
   "metadata": {},
   "outputs": [
    {
     "data": {
      "text/plain": [
       "7559"
      ]
     },
     "execution_count": 15,
     "metadata": {},
     "output_type": "execute_result"
    }
   ],
   "source": [
    "len(rows_with_county)"
   ]
  },
  {
   "cell_type": "code",
   "execution_count": 16,
   "metadata": {},
   "outputs": [
    {
     "data": {
      "text/plain": [
       "{'Notice Date': '07/03/2020',\n",
       " 'Effective Date': '07/03/2020',\n",
       " 'Received Date': '08/03/2020',\n",
       " 'Company': 'Wyndham San Diego Bayside',\n",
       " 'City': 'San Diego',\n",
       " 'County': 'San Diego County',\n",
       " 'Employees': 88.0,\n",
       " 'Layoff/Closure': 'Layoff Temporary',\n",
       " 'County Orig': 'San Diego County'}"
      ]
     },
     "execution_count": 16,
     "metadata": {},
     "output_type": "execute_result"
    }
   ],
   "source": [
    "rows_with_county[334]"
   ]
  },
  {
   "cell_type": "code",
   "execution_count": 17,
   "metadata": {},
   "outputs": [],
   "source": [
    "city_to_counties = {}\n",
    "for row in rows_with_county:\n",
    "    city = row[\"City\"]\n",
    "    county = row[\"County\"]\n",
    "    if city not in city_to_counties:\n",
    "        city_to_counties[city] = set()\n",
    "    city_to_counties[city].add(county)"
   ]
  },
  {
   "cell_type": "code",
   "execution_count": 18,
   "metadata": {},
   "outputs": [],
   "source": [
    "unambiguous_cities = [pair for pair in city_to_counties.items() if len(pair[1]) == 1]"
   ]
  },
  {
   "cell_type": "code",
   "execution_count": 19,
   "metadata": {},
   "outputs": [
    {
     "data": {
      "text/plain": [
       "526"
      ]
     },
     "execution_count": 19,
     "metadata": {},
     "output_type": "execute_result"
    }
   ],
   "source": [
    "len(unambiguous_cities)"
   ]
  },
  {
   "cell_type": "code",
   "execution_count": 20,
   "metadata": {},
   "outputs": [],
   "source": [
    "unambiguous_cities = {pair[0]: list(pair[1])[0] for pair in city_to_counties.items() if len(pair[1]) == 1}"
   ]
  },
  {
   "cell_type": "code",
   "execution_count": 21,
   "metadata": {},
   "outputs": [],
   "source": [
    "for row in rows_with_no_county:\n",
    "    if row[\"City\"] in unambiguous_cities:\n",
    "        row[\"County\"] = unambiguous_cities[row[\"City\"]]"
   ]
  },
  {
   "cell_type": "code",
   "execution_count": 22,
   "metadata": {},
   "outputs": [
    {
     "data": {
      "text/plain": [
       "[{'Notice Date': '06/30/2016',\n",
       "  'Effective Date': '08/31/2016',\n",
       "  'Received Date': '07/01/2016',\n",
       "  'Company': 'DCS Facility Services',\n",
       "  'City': 'Antelope',\n",
       "  'County': 'No Name',\n",
       "  'Employees': 55.0,\n",
       "  'Layoff/Closure': 'Closure Permanent',\n",
       "  'County Orig': 'No County Name'},\n",
       " {'Notice Date': '06/30/2016',\n",
       "  'Effective Date': '08/31/2016',\n",
       "  'Received Date': '07/01/2016',\n",
       "  'Company': 'DCS Facility Services',\n",
       "  'City': 'Bakersfield',\n",
       "  'County': 'Kern County',\n",
       "  'Employees': 22.0,\n",
       "  'Layoff/Closure': 'Closure Permanent',\n",
       "  'County Orig': 'No County Name'}]"
      ]
     },
     "execution_count": 22,
     "metadata": {},
     "output_type": "execute_result"
    }
   ],
   "source": [
    "rows_with_no_county[:2]"
   ]
  },
  {
   "cell_type": "code",
   "execution_count": 23,
   "metadata": {},
   "outputs": [],
   "source": [
    "ambiguous_cities = [pair for pair in city_to_counties.items() if len(pair[1]) > 1]"
   ]
  },
  {
   "cell_type": "code",
   "execution_count": 24,
   "metadata": {},
   "outputs": [
    {
     "data": {
      "text/plain": [
       "[('Sacramento', {'Del Norte County', 'Sacramento County'}),\n",
       " ('San Francisco', {'San Francisco County', 'San Mateo County'}),\n",
       " ('Walnut Creek', {'Alameda County', 'Contra Costa County'}),\n",
       " ('Los Angeles', {'Alameda County', 'Los Angeles County'}),\n",
       " ('Hayward', {'Alameda County', 'Contra Costa County'}),\n",
       " ('City of Industry', {'Los Angeles County', 'Orange County'}),\n",
       " ('Roseville', {'Placer County', 'Sacramento County'}),\n",
       " ('Berkeley', {'Alameda County', 'Contra Costa County'}),\n",
       " ('Cerritos', {'Los Angeles County', 'Orange County'}),\n",
       " ('Vista', {'San Diego County', 'San Francisco County'}),\n",
       " ('Del Mar', {'Orange County', 'San Diego County'}),\n",
       " ('Indian Wells', {'Riverside County', 'San Benito County'}),\n",
       " ('Los Gatos', {'Santa Clara County', 'Santa Cruz County'}),\n",
       " ('Rancho', {'Los Angeles County', 'San Bernardino County'})]"
      ]
     },
     "execution_count": 24,
     "metadata": {},
     "output_type": "execute_result"
    }
   ],
   "source": [
    "ambiguous_cities"
   ]
  },
  {
   "cell_type": "markdown",
   "metadata": {},
   "source": [
    "### Manual research narrowed down which cities actually belonged to which counties\n",
    "resulting in our updated `ambiguous_cities` dictionary. `Rancho` is the only city on the list where the two counties actually have cities with the same name. It will be left off the list."
   ]
  },
  {
   "cell_type": "code",
   "execution_count": 25,
   "metadata": {},
   "outputs": [],
   "source": [
    "dict_cities = {\n",
    "    'Sacramento':'Sacramento County',\n",
    "    'San Francisco':'San Francisco County',\n",
    "    'Hayward':'Alameda County',\n",
    "    'Indian Wells':'Riverside County',\n",
    "    'Cerritos':'Los Angeles County',\n",
    "    'Vista':'San Diego County',\n",
    "    'Roseville':'Placer County',\n",
    "    'City of Industry':'Los Angeles County',\n",
    "    'Del Mar':'San Diego County',\n",
    "    'Walnut Creek':'Contra Costa County',\n",
    "    'Los Gatos':'Santa Clara County'\n",
    "}"
   ]
  },
  {
   "cell_type": "code",
   "execution_count": 26,
   "metadata": {},
   "outputs": [],
   "source": [
    "cali_layoffs.to_csv('california_warn_raw_2.csv')"
   ]
  },
  {
   "cell_type": "markdown",
   "metadata": {},
   "source": [
    "### Ambiguous Cities\n",
    "\n",
    "The cities listed above are the only cities that need to be changed for our code before continuing our analysis. In our analysis notebook, we will find these specific records and update them accordingly."
   ]
  }
 ],
 "metadata": {
  "kernelspec": {
   "display_name": "Python 3",
   "language": "python",
   "name": "python3"
  },
  "language_info": {
   "codemirror_mode": {
    "name": "ipython",
    "version": 3
   },
   "file_extension": ".py",
   "mimetype": "text/x-python",
   "name": "python",
   "nbconvert_exporter": "python",
   "pygments_lexer": "ipython3",
   "version": "3.8.1"
  }
 },
 "nbformat": 4,
 "nbformat_minor": 4
}
