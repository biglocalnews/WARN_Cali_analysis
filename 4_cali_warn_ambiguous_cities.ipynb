{
 "cells": [
  {
   "cell_type": "code",
   "execution_count": 1,
   "metadata": {},
   "outputs": [],
   "source": [
    "import pandas as pd\n",
    "import csv"
   ]
  },
  {
   "cell_type": "code",
   "execution_count": 2,
   "metadata": {},
   "outputs": [],
   "source": [
    "cali_layoffs = pd.read_csv('analysis_data/california_warn_raw_recent.csv')"
   ]
  },
  {
   "cell_type": "code",
   "execution_count": 3,
   "metadata": {},
   "outputs": [
    {
     "data": {
      "text/html": [
       "<div>\n",
       "<style scoped>\n",
       "    .dataframe tbody tr th:only-of-type {\n",
       "        vertical-align: middle;\n",
       "    }\n",
       "\n",
       "    .dataframe tbody tr th {\n",
       "        vertical-align: top;\n",
       "    }\n",
       "\n",
       "    .dataframe thead th {\n",
       "        text-align: right;\n",
       "    }\n",
       "</style>\n",
       "<table border=\"1\" class=\"dataframe\">\n",
       "  <thead>\n",
       "    <tr style=\"text-align: right;\">\n",
       "      <th></th>\n",
       "      <th>Notice Date</th>\n",
       "      <th>Effective Date</th>\n",
       "      <th>Received Date</th>\n",
       "      <th>Company</th>\n",
       "      <th>City</th>\n",
       "      <th>County</th>\n",
       "      <th>Employees</th>\n",
       "      <th>Layoff/Closure</th>\n",
       "    </tr>\n",
       "  </thead>\n",
       "  <tbody>\n",
       "    <tr>\n",
       "      <th>0</th>\n",
       "      <td>12/04/2020</td>\n",
       "      <td>12/06/2020</td>\n",
       "      <td>12/30/2020</td>\n",
       "      <td>Blackhawk Country Club</td>\n",
       "      <td>Danville</td>\n",
       "      <td>Contra Costa County</td>\n",
       "      <td>3.0</td>\n",
       "      <td>Layoff Temporary</td>\n",
       "    </tr>\n",
       "    <tr>\n",
       "      <th>1</th>\n",
       "      <td>12/07/2020</td>\n",
       "      <td>12/09/2020</td>\n",
       "      <td>12/30/2020</td>\n",
       "      <td>Fullerton Baekjeong, LLC</td>\n",
       "      <td>Buena Park</td>\n",
       "      <td>Orange County</td>\n",
       "      <td>67.0</td>\n",
       "      <td>Closure Permanent</td>\n",
       "    </tr>\n",
       "    <tr>\n",
       "      <th>2</th>\n",
       "      <td>12/07/2020</td>\n",
       "      <td>12/09/2020</td>\n",
       "      <td>12/30/2020</td>\n",
       "      <td>Irvine Baekjeong, LLC</td>\n",
       "      <td>Irvine</td>\n",
       "      <td>Orange County</td>\n",
       "      <td>68.0</td>\n",
       "      <td>Closure Permanent</td>\n",
       "    </tr>\n",
       "    <tr>\n",
       "      <th>3</th>\n",
       "      <td>12/09/2020</td>\n",
       "      <td>12/10/2020</td>\n",
       "      <td>12/30/2020</td>\n",
       "      <td>OCMC Inc. dba Orange County Mining Co.</td>\n",
       "      <td>Santa Ana</td>\n",
       "      <td>Orange County</td>\n",
       "      <td>59.0</td>\n",
       "      <td>Closure Temporary</td>\n",
       "    </tr>\n",
       "    <tr>\n",
       "      <th>4</th>\n",
       "      <td>12/07/2020</td>\n",
       "      <td>12/07/2020</td>\n",
       "      <td>12/30/2020</td>\n",
       "      <td>Parker Palm Springs, LLC</td>\n",
       "      <td>Palm Springs</td>\n",
       "      <td>Riverside County</td>\n",
       "      <td>79.0</td>\n",
       "      <td>Layoff Temporary</td>\n",
       "    </tr>\n",
       "  </tbody>\n",
       "</table>\n",
       "</div>"
      ],
      "text/plain": [
       "  Notice Date Effective Date Received Date  \\\n",
       "0  12/04/2020     12/06/2020    12/30/2020   \n",
       "1  12/07/2020     12/09/2020    12/30/2020   \n",
       "2  12/07/2020     12/09/2020    12/30/2020   \n",
       "3  12/09/2020     12/10/2020    12/30/2020   \n",
       "4  12/07/2020     12/07/2020    12/30/2020   \n",
       "\n",
       "                                  Company          City                County  \\\n",
       "0                  Blackhawk Country Club      Danville  Contra Costa County    \n",
       "1                Fullerton Baekjeong, LLC    Buena Park        Orange County    \n",
       "2                   Irvine Baekjeong, LLC        Irvine        Orange County    \n",
       "3  OCMC Inc. dba Orange County Mining Co.     Santa Ana        Orange County    \n",
       "4                Parker Palm Springs, LLC  Palm Springs     Riverside County    \n",
       "\n",
       "   Employees     Layoff/Closure  \n",
       "0        3.0   Layoff Temporary  \n",
       "1       67.0  Closure Permanent  \n",
       "2       68.0  Closure Permanent  \n",
       "3       59.0  Closure Temporary  \n",
       "4       79.0   Layoff Temporary  "
      ]
     },
     "execution_count": 3,
     "metadata": {},
     "output_type": "execute_result"
    }
   ],
   "source": [
    "cali_layoffs.head()"
   ]
  },
  {
   "cell_type": "markdown",
   "metadata": {},
   "source": [
    "### Ambiguous Cities\n",
    "\n",
    "In doing some preliminary exploration of the data, we learned that some cities have been assigned the incorrect county name. The code below finds the cities with more than one county assigned. We use the results produced to go back and clean those records in the WARN Layoffs analysis notebook."
   ]
  },
  {
   "cell_type": "markdown",
   "metadata": {},
   "source": [
    "### Clean County Names"
   ]
  },
  {
   "cell_type": "code",
   "execution_count": 4,
   "metadata": {},
   "outputs": [],
   "source": [
    "cali_layoffs['County'] = cali_layoffs['County'].str.strip()\n",
    "cali_layoffs['County Orig'] = cali_layoffs['County']\n",
    "cali_layoffs.loc[~(cali_layoffs['County'].str.endswith('County')),'County'] = cali_layoffs['County'] + \" County\"\n",
    "cali_layoffs['County'] = cali_layoffs['County'].str.replace('No County Name County', 'No Name')"
   ]
  },
  {
   "cell_type": "code",
   "execution_count": 5,
   "metadata": {},
   "outputs": [
    {
     "data": {
      "text/html": [
       "<div>\n",
       "<style scoped>\n",
       "    .dataframe tbody tr th:only-of-type {\n",
       "        vertical-align: middle;\n",
       "    }\n",
       "\n",
       "    .dataframe tbody tr th {\n",
       "        vertical-align: top;\n",
       "    }\n",
       "\n",
       "    .dataframe thead th {\n",
       "        text-align: right;\n",
       "    }\n",
       "</style>\n",
       "<table border=\"1\" class=\"dataframe\">\n",
       "  <thead>\n",
       "    <tr style=\"text-align: right;\">\n",
       "      <th></th>\n",
       "      <th>Notice Date</th>\n",
       "      <th>Effective Date</th>\n",
       "      <th>Received Date</th>\n",
       "      <th>Company</th>\n",
       "      <th>City</th>\n",
       "      <th>County</th>\n",
       "      <th>Employees</th>\n",
       "      <th>Layoff/Closure</th>\n",
       "      <th>County Orig</th>\n",
       "    </tr>\n",
       "  </thead>\n",
       "  <tbody>\n",
       "    <tr>\n",
       "      <th>0</th>\n",
       "      <td>12/04/2020</td>\n",
       "      <td>12/06/2020</td>\n",
       "      <td>12/30/2020</td>\n",
       "      <td>Blackhawk Country Club</td>\n",
       "      <td>Danville</td>\n",
       "      <td>Contra Costa County</td>\n",
       "      <td>3.0</td>\n",
       "      <td>Layoff Temporary</td>\n",
       "      <td>Contra Costa County</td>\n",
       "    </tr>\n",
       "    <tr>\n",
       "      <th>1</th>\n",
       "      <td>12/07/2020</td>\n",
       "      <td>12/09/2020</td>\n",
       "      <td>12/30/2020</td>\n",
       "      <td>Fullerton Baekjeong, LLC</td>\n",
       "      <td>Buena Park</td>\n",
       "      <td>Orange County</td>\n",
       "      <td>67.0</td>\n",
       "      <td>Closure Permanent</td>\n",
       "      <td>Orange County</td>\n",
       "    </tr>\n",
       "    <tr>\n",
       "      <th>2</th>\n",
       "      <td>12/07/2020</td>\n",
       "      <td>12/09/2020</td>\n",
       "      <td>12/30/2020</td>\n",
       "      <td>Irvine Baekjeong, LLC</td>\n",
       "      <td>Irvine</td>\n",
       "      <td>Orange County</td>\n",
       "      <td>68.0</td>\n",
       "      <td>Closure Permanent</td>\n",
       "      <td>Orange County</td>\n",
       "    </tr>\n",
       "    <tr>\n",
       "      <th>3</th>\n",
       "      <td>12/09/2020</td>\n",
       "      <td>12/10/2020</td>\n",
       "      <td>12/30/2020</td>\n",
       "      <td>OCMC Inc. dba Orange County Mining Co.</td>\n",
       "      <td>Santa Ana</td>\n",
       "      <td>Orange County</td>\n",
       "      <td>59.0</td>\n",
       "      <td>Closure Temporary</td>\n",
       "      <td>Orange County</td>\n",
       "    </tr>\n",
       "    <tr>\n",
       "      <th>4</th>\n",
       "      <td>12/07/2020</td>\n",
       "      <td>12/07/2020</td>\n",
       "      <td>12/30/2020</td>\n",
       "      <td>Parker Palm Springs, LLC</td>\n",
       "      <td>Palm Springs</td>\n",
       "      <td>Riverside County</td>\n",
       "      <td>79.0</td>\n",
       "      <td>Layoff Temporary</td>\n",
       "      <td>Riverside County</td>\n",
       "    </tr>\n",
       "  </tbody>\n",
       "</table>\n",
       "</div>"
      ],
      "text/plain": [
       "  Notice Date Effective Date Received Date  \\\n",
       "0  12/04/2020     12/06/2020    12/30/2020   \n",
       "1  12/07/2020     12/09/2020    12/30/2020   \n",
       "2  12/07/2020     12/09/2020    12/30/2020   \n",
       "3  12/09/2020     12/10/2020    12/30/2020   \n",
       "4  12/07/2020     12/07/2020    12/30/2020   \n",
       "\n",
       "                                  Company          City               County  \\\n",
       "0                  Blackhawk Country Club      Danville  Contra Costa County   \n",
       "1                Fullerton Baekjeong, LLC    Buena Park        Orange County   \n",
       "2                   Irvine Baekjeong, LLC        Irvine        Orange County   \n",
       "3  OCMC Inc. dba Orange County Mining Co.     Santa Ana        Orange County   \n",
       "4                Parker Palm Springs, LLC  Palm Springs     Riverside County   \n",
       "\n",
       "   Employees     Layoff/Closure          County Orig  \n",
       "0        3.0   Layoff Temporary  Contra Costa County  \n",
       "1       67.0  Closure Permanent        Orange County  \n",
       "2       68.0  Closure Permanent        Orange County  \n",
       "3       59.0  Closure Temporary        Orange County  \n",
       "4       79.0   Layoff Temporary     Riverside County  "
      ]
     },
     "execution_count": 5,
     "metadata": {},
     "output_type": "execute_result"
    }
   ],
   "source": [
    "cali_layoffs.head()"
   ]
  },
  {
   "cell_type": "code",
   "execution_count": 6,
   "metadata": {},
   "outputs": [
    {
     "data": {
      "text/plain": [
       "[{'Notice Date': '12/04/2020',\n",
       "  'Effective Date': '12/06/2020',\n",
       "  'Received Date': '12/30/2020',\n",
       "  'Company': 'Blackhawk Country Club',\n",
       "  'City': 'Danville',\n",
       "  'County': 'Contra Costa County',\n",
       "  'Employees': 3.0,\n",
       "  'Layoff/Closure': 'Layoff Temporary',\n",
       "  'County Orig': 'Contra Costa County'},\n",
       " {'Notice Date': '12/07/2020',\n",
       "  'Effective Date': '12/09/2020',\n",
       "  'Received Date': '12/30/2020',\n",
       "  'Company': 'Fullerton Baekjeong, LLC',\n",
       "  'City': 'Buena Park',\n",
       "  'County': 'Orange County',\n",
       "  'Employees': 67.0,\n",
       "  'Layoff/Closure': 'Closure Permanent',\n",
       "  'County Orig': 'Orange County'}]"
      ]
     },
     "execution_count": 6,
     "metadata": {},
     "output_type": "execute_result"
    }
   ],
   "source": [
    "cali_dict = cali_layoffs.to_dict(orient='records')\n",
    "cali_dict[0:2]"
   ]
  },
  {
   "cell_type": "code",
   "execution_count": 7,
   "metadata": {},
   "outputs": [
    {
     "data": {
      "text/plain": [
       "array(['Contra Costa County', 'Orange County', 'Riverside County',\n",
       "       'Santa Clara County', 'San Diego County', 'San Mateo County',\n",
       "       'Sacramento County', 'San Luis Obispo County', 'Sonoma County',\n",
       "       'San Francisco County', 'Ventura County', 'Inyo County',\n",
       "       'Los Angeles County', 'San Joaquin County', 'Stanislaus County',\n",
       "       'Alameda County', 'San Bernardino County', 'Napa County',\n",
       "       'Santa Barbara County', 'Marin County', 'Fresno County',\n",
       "       'Santa Cruz County', 'Solano County', 'Butte County',\n",
       "       'Glenn County', 'Tulare County', 'Kings County', 'Monterey County',\n",
       "       'Shasta County', 'Placer County', 'Kern County', 'Tehama County',\n",
       "       'Mendocino County', 'Calaveras County', 'Siskiyou County',\n",
       "       'Yolo County', 'Yuba County', 'Sutter County', 'El Dorado County',\n",
       "       'Mariposa County', 'Imperial County', 'Madera County',\n",
       "       'Del Norte County', 'Mono County', 'Merced County',\n",
       "       'Humboldt County', 'San Benito County', 'Nevada County',\n",
       "       'Tuolumne County', 'Amador County', 'Colusa County',\n",
       "       'Plumas County', 'No Name'], dtype=object)"
      ]
     },
     "execution_count": 7,
     "metadata": {},
     "output_type": "execute_result"
    }
   ],
   "source": [
    "cali_layoffs['County'].unique()"
   ]
  },
  {
   "cell_type": "code",
   "execution_count": 8,
   "metadata": {},
   "outputs": [
    {
     "data": {
      "text/plain": [
       "2117"
      ]
     },
     "execution_count": 8,
     "metadata": {},
     "output_type": "execute_result"
    }
   ],
   "source": [
    "rows_with_no_county = [r for r in cali_dict if r[\"County\"] == \"No Name\"]\n",
    "len(rows_with_no_county)"
   ]
  },
  {
   "cell_type": "code",
   "execution_count": 9,
   "metadata": {},
   "outputs": [
    {
     "data": {
      "text/plain": [
       "{'Notice Date': '06/30/2016',\n",
       " 'Effective Date': '08/31/2016',\n",
       " 'Received Date': '07/01/2016',\n",
       " 'Company': 'DCS Facility Services',\n",
       " 'City': 'Antelope',\n",
       " 'County': 'No Name',\n",
       " 'Employees': 55.0,\n",
       " 'Layoff/Closure': 'Closure Permanent',\n",
       " 'County Orig': 'No County Name'}"
      ]
     },
     "execution_count": 9,
     "metadata": {},
     "output_type": "execute_result"
    }
   ],
   "source": [
    "rows_with_no_county[0]"
   ]
  },
  {
   "cell_type": "code",
   "execution_count": 10,
   "metadata": {},
   "outputs": [],
   "source": [
    "cities = [r[\"City\"] for r in rows_with_no_county]"
   ]
  },
  {
   "cell_type": "code",
   "execution_count": 11,
   "metadata": {},
   "outputs": [
    {
     "data": {
      "text/plain": [
       "2117"
      ]
     },
     "execution_count": 11,
     "metadata": {},
     "output_type": "execute_result"
    }
   ],
   "source": [
    "len(cities)"
   ]
  },
  {
   "cell_type": "code",
   "execution_count": 12,
   "metadata": {},
   "outputs": [],
   "source": [
    "cities = set(cities)"
   ]
  },
  {
   "cell_type": "code",
   "execution_count": 13,
   "metadata": {},
   "outputs": [
    {
     "data": {
      "text/plain": [
       "355"
      ]
     },
     "execution_count": 13,
     "metadata": {},
     "output_type": "execute_result"
    }
   ],
   "source": [
    "len(cities)"
   ]
  },
  {
   "cell_type": "code",
   "execution_count": 14,
   "metadata": {},
   "outputs": [],
   "source": [
    "rows_with_county = [r for r in cali_dict if r[\"County\"] != \"No Name\"]"
   ]
  },
  {
   "cell_type": "code",
   "execution_count": 15,
   "metadata": {},
   "outputs": [
    {
     "data": {
      "text/plain": [
       "7633"
      ]
     },
     "execution_count": 15,
     "metadata": {},
     "output_type": "execute_result"
    }
   ],
   "source": [
    "len(rows_with_county)"
   ]
  },
  {
   "cell_type": "code",
   "execution_count": 16,
   "metadata": {},
   "outputs": [
    {
     "data": {
      "text/plain": [
       "{'Notice Date': '08/03/2020',\n",
       " 'Effective Date': '07/31/2020',\n",
       " 'Received Date': '10/23/2020',\n",
       " 'Company': 'Galpin Motors, Inc.',\n",
       " 'City': 'North Hills',\n",
       " 'County': 'Los Angeles County',\n",
       " 'Employees': 47.0,\n",
       " 'Layoff/Closure': 'Layoff Permanent',\n",
       " 'County Orig': 'Los Angeles County'}"
      ]
     },
     "execution_count": 16,
     "metadata": {},
     "output_type": "execute_result"
    }
   ],
   "source": [
    "rows_with_county[334]"
   ]
  },
  {
   "cell_type": "code",
   "execution_count": 17,
   "metadata": {},
   "outputs": [],
   "source": [
    "city_to_counties = {}\n",
    "for row in rows_with_county:\n",
    "    city = row[\"City\"]\n",
    "    county = row[\"County\"]\n",
    "    if city not in city_to_counties:\n",
    "        city_to_counties[city] = set()\n",
    "    city_to_counties[city].add(county)"
   ]
  },
  {
   "cell_type": "code",
   "execution_count": 18,
   "metadata": {},
   "outputs": [],
   "source": [
    "unambiguous_cities = [pair for pair in city_to_counties.items() if len(pair[1]) == 1]"
   ]
  },
  {
   "cell_type": "code",
   "execution_count": 19,
   "metadata": {},
   "outputs": [
    {
     "data": {
      "text/plain": [
       "525"
      ]
     },
     "execution_count": 19,
     "metadata": {},
     "output_type": "execute_result"
    }
   ],
   "source": [
    "len(unambiguous_cities)"
   ]
  },
  {
   "cell_type": "code",
   "execution_count": 20,
   "metadata": {},
   "outputs": [],
   "source": [
    "unambiguous_cities = {pair[0]: list(pair[1])[0] for pair in city_to_counties.items() if len(pair[1]) == 1}"
   ]
  },
  {
   "cell_type": "code",
   "execution_count": 21,
   "metadata": {},
   "outputs": [],
   "source": [
    "for row in rows_with_no_county:\n",
    "    if row[\"City\"] in unambiguous_cities:\n",
    "        row[\"County\"] = unambiguous_cities[row[\"City\"]]"
   ]
  },
  {
   "cell_type": "code",
   "execution_count": 22,
   "metadata": {},
   "outputs": [
    {
     "data": {
      "text/plain": [
       "[{'Notice Date': '06/30/2016',\n",
       "  'Effective Date': '08/31/2016',\n",
       "  'Received Date': '07/01/2016',\n",
       "  'Company': 'DCS Facility Services',\n",
       "  'City': 'Antelope',\n",
       "  'County': 'No Name',\n",
       "  'Employees': 55.0,\n",
       "  'Layoff/Closure': 'Closure Permanent',\n",
       "  'County Orig': 'No County Name'},\n",
       " {'Notice Date': '06/30/2016',\n",
       "  'Effective Date': '08/31/2016',\n",
       "  'Received Date': '07/01/2016',\n",
       "  'Company': 'DCS Facility Services',\n",
       "  'City': 'Bakersfield',\n",
       "  'County': 'Kern County',\n",
       "  'Employees': 22.0,\n",
       "  'Layoff/Closure': 'Closure Permanent',\n",
       "  'County Orig': 'No County Name'}]"
      ]
     },
     "execution_count": 22,
     "metadata": {},
     "output_type": "execute_result"
    }
   ],
   "source": [
    "rows_with_no_county[:2]"
   ]
  },
  {
   "cell_type": "code",
   "execution_count": 23,
   "metadata": {},
   "outputs": [],
   "source": [
    "ambiguous_cities = [pair for pair in city_to_counties.items() if len(pair[1]) > 1]"
   ]
  },
  {
   "cell_type": "code",
   "execution_count": 24,
   "metadata": {},
   "outputs": [
    {
     "data": {
      "text/plain": [
       "[('Sacramento', {'Del Norte County', 'Sacramento County'}),\n",
       " ('San Francisco', {'San Francisco County', 'San Mateo County'}),\n",
       " ('Roseville', {'Placer County', 'Sacramento County'}),\n",
       " ('Walnut Creek', {'Alameda County', 'Contra Costa County'}),\n",
       " ('Los Angeles', {'Alameda County', 'Los Angeles County'}),\n",
       " ('Berkeley', {'Alameda County', 'Contra Costa County'}),\n",
       " ('Cerritos', {'Los Angeles County', 'Orange County'}),\n",
       " ('Hayward', {'Alameda County', 'Contra Costa County'}),\n",
       " ('Indian Wells', {'Riverside County', 'San Benito County'}),\n",
       " ('Vista', {'San Diego County', 'San Francisco County'}),\n",
       " ('City of Industry', {'Los Angeles County', 'Orange County'}),\n",
       " ('Del Mar', {'Orange County', 'San Diego County'}),\n",
       " ('Los Gatos', {'Santa Clara County', 'Santa Cruz County'}),\n",
       " ('Rancho', {'Los Angeles County', 'San Bernardino County'})]"
      ]
     },
     "execution_count": 24,
     "metadata": {},
     "output_type": "execute_result"
    }
   ],
   "source": [
    "ambiguous_cities"
   ]
  },
  {
   "cell_type": "markdown",
   "metadata": {},
   "source": [
    "### Manual research narrowed down which cities actually belonged to which counties\n",
    "resulting in our updated `ambiguous_cities` dictionary. `Rancho` is the only city on the list where the two counties actually have cities with the same name. It will be left off the list."
   ]
  },
  {
   "cell_type": "code",
   "execution_count": 25,
   "metadata": {},
   "outputs": [],
   "source": [
    "dict_cities = {\n",
    "    'Sacramento':'Sacramento County',\n",
    "    'San Francisco':'San Francisco County',\n",
    "    'Hayward':'Alameda County',\n",
    "    'Indian Wells':'Riverside County',\n",
    "    'Cerritos':'Los Angeles County',\n",
    "    'Vista':'San Diego County',\n",
    "    'Roseville':'Placer County',\n",
    "    'City of Industry':'Los Angeles County',\n",
    "    'Del Mar':'San Diego County',\n",
    "    'Walnut Creek':'Contra Costa County',\n",
    "    'Los Gatos':'Santa Clara County',\n",
    "    'Los Angeles':'Los Angeles County',\n",
    "    'Berkeley': 'Alameda County'\n",
    "}"
   ]
  },
  {
   "cell_type": "code",
   "execution_count": 26,
   "metadata": {},
   "outputs": [],
   "source": [
    "cali_layoffs.to_csv('analysis_data/warn_counties_clean.csv')"
   ]
  },
  {
   "cell_type": "markdown",
   "metadata": {},
   "source": [
    "### Ambiguous Cities\n",
    "\n",
    "The cities listed above are the only cities that need to be changed for our code before continuing our analysis. In our analysis notebook, we will find these specific records and update them accordingly."
   ]
  }
 ],
 "metadata": {
  "kernelspec": {
   "display_name": "Python 3",
   "language": "python",
   "name": "python3"
  },
  "language_info": {
   "codemirror_mode": {
    "name": "ipython",
    "version": 3
   },
   "file_extension": ".py",
   "mimetype": "text/x-python",
   "name": "python",
   "nbconvert_exporter": "python",
   "pygments_lexer": "ipython3",
   "version": "3.7.4"
  }
 },
 "nbformat": 4,
 "nbformat_minor": 4
}
