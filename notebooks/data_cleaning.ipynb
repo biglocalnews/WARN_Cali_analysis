{
 "cells": [
  {
   "cell_type": "code",
   "execution_count": 1,
   "metadata": {},
   "outputs": [],
   "source": [
    "import pandas as pd\n",
    "import numpy as np\n",
    "import csv"
   ]
  },
  {
   "cell_type": "markdown",
   "metadata": {},
   "source": [
    "### Data Cleaning\n",
    "\n",
    "- This notebook takes the file created from the [processed_data.ipynb](https://github.com/biglocalnews/WARN_Cali_analysis/blob/master/notebooks/processed_data.ipynb) and cleans it. This process involves removing whitespace from key columns, resolving conflicts between incorrect company names and removing punctuation from the company column. \n",
    "- This notebook also adds population figures for each county to our layoffs notices data.\n",
    "- Finally, the data gets exported to the `open_refine` directory which leads to a manual cleaning and standardization of company names with [OpenRefine](https://openrefine.org/) software."
   ]
  },
  {
   "cell_type": "code",
   "execution_count": 2,
   "metadata": {},
   "outputs": [],
   "source": [
    "# Here we read in the necessary files from the cleaning directory\n",
    "\n",
    "cali_layoffs = pd.read_csv('../data/cleaning/california_warn_raw_recent.csv')\n",
    "cali_population = pd.read_csv('../data/cleaning/county_population.csv', delimiter='\\t', thousands=',')"
   ]
  },
  {
   "cell_type": "code",
   "execution_count": 3,
   "metadata": {},
   "outputs": [
    {
     "data": {
      "text/html": [
       "<div>\n",
       "<style scoped>\n",
       "    .dataframe tbody tr th:only-of-type {\n",
       "        vertical-align: middle;\n",
       "    }\n",
       "\n",
       "    .dataframe tbody tr th {\n",
       "        vertical-align: top;\n",
       "    }\n",
       "\n",
       "    .dataframe thead th {\n",
       "        text-align: right;\n",
       "    }\n",
       "</style>\n",
       "<table border=\"1\" class=\"dataframe\">\n",
       "  <thead>\n",
       "    <tr style=\"text-align: right;\">\n",
       "      <th></th>\n",
       "      <th>Notice Date</th>\n",
       "      <th>Effective Date</th>\n",
       "      <th>Received Date</th>\n",
       "      <th>Company</th>\n",
       "      <th>City</th>\n",
       "      <th>County</th>\n",
       "      <th>Employees</th>\n",
       "      <th>Layoff/Closure</th>\n",
       "    </tr>\n",
       "  </thead>\n",
       "  <tbody>\n",
       "    <tr>\n",
       "      <th>0</th>\n",
       "      <td>06/09/2020</td>\n",
       "      <td>06/07/2020</td>\n",
       "      <td>07/01/2020</td>\n",
       "      <td>Bay Club Redondo Beach</td>\n",
       "      <td>Redondo Beach</td>\n",
       "      <td>Los Angeles County</td>\n",
       "      <td>102.0</td>\n",
       "      <td>Layoff Permanent</td>\n",
       "    </tr>\n",
       "    <tr>\n",
       "      <th>1</th>\n",
       "      <td>06/09/2020</td>\n",
       "      <td>06/07/2020</td>\n",
       "      <td>07/01/2020</td>\n",
       "      <td>Bay Club Rolling Hills</td>\n",
       "      <td>Rolling Hills Estates</td>\n",
       "      <td>Los Angeles County</td>\n",
       "      <td>64.0</td>\n",
       "      <td>Layoff Permanent</td>\n",
       "    </tr>\n",
       "    <tr>\n",
       "      <th>2</th>\n",
       "      <td>06/09/2020</td>\n",
       "      <td>06/07/2020</td>\n",
       "      <td>07/01/2020</td>\n",
       "      <td>Bay Club Santa Monica</td>\n",
       "      <td>Santa Monica</td>\n",
       "      <td>Los Angeles County</td>\n",
       "      <td>82.0</td>\n",
       "      <td>Layoff Permanent</td>\n",
       "    </tr>\n",
       "    <tr>\n",
       "      <th>3</th>\n",
       "      <td>06/19/2020</td>\n",
       "      <td>08/21/2020</td>\n",
       "      <td>07/01/2020</td>\n",
       "      <td>Weber Metals, Inc</td>\n",
       "      <td>Paramount</td>\n",
       "      <td>Los Angeles County</td>\n",
       "      <td>169.0</td>\n",
       "      <td>Layoff Permanent</td>\n",
       "    </tr>\n",
       "    <tr>\n",
       "      <th>4</th>\n",
       "      <td>06/09/2020</td>\n",
       "      <td>06/07/2020</td>\n",
       "      <td>07/01/2020</td>\n",
       "      <td>StoneTree Golf Club</td>\n",
       "      <td>Novato</td>\n",
       "      <td>Marin County</td>\n",
       "      <td>32.0</td>\n",
       "      <td>Layoff Permanent</td>\n",
       "    </tr>\n",
       "  </tbody>\n",
       "</table>\n",
       "</div>"
      ],
      "text/plain": [
       "  Notice Date Effective Date Received Date                 Company  \\\n",
       "0  06/09/2020     06/07/2020    07/01/2020  Bay Club Redondo Beach   \n",
       "1  06/09/2020     06/07/2020    07/01/2020  Bay Club Rolling Hills   \n",
       "2  06/09/2020     06/07/2020    07/01/2020   Bay Club Santa Monica   \n",
       "3  06/19/2020     08/21/2020    07/01/2020       Weber Metals, Inc   \n",
       "4  06/09/2020     06/07/2020    07/01/2020     StoneTree Golf Club   \n",
       "\n",
       "                    City               County  Employees    Layoff/Closure  \n",
       "0          Redondo Beach  Los Angeles County       102.0  Layoff Permanent  \n",
       "1  Rolling Hills Estates  Los Angeles County        64.0  Layoff Permanent  \n",
       "2           Santa Monica  Los Angeles County        82.0  Layoff Permanent  \n",
       "3              Paramount  Los Angeles County       169.0  Layoff Permanent  \n",
       "4                 Novato        Marin County        32.0  Layoff Permanent  "
      ]
     },
     "execution_count": 3,
     "metadata": {},
     "output_type": "execute_result"
    }
   ],
   "source": [
    "# Calling the function .head() on our dataframe allows us to see what's in the data\n",
    "\n",
    "cali_layoffs.head()"
   ]
  },
  {
   "cell_type": "markdown",
   "metadata": {},
   "source": [
    "### Clean County, Company and City Columns"
   ]
  },
  {
   "cell_type": "code",
   "execution_count": 4,
   "metadata": {},
   "outputs": [],
   "source": [
    "# Removal of whitespace, and hidden characters\n",
    "\n",
    "cali_layoffs['Company'] = cali_layoffs['Company'].str.replace('\\\\r', '')\n",
    "cali_layoffs['Company'] = cali_layoffs['Company'].str.replace('\\\\n', '')\n",
    "cali_layoffs['City'] = cali_layoffs['City'].str.replace('\\\\r', '')\n",
    "cali_layoffs['City'] = cali_layoffs['City'].str.replace('\\\\n', '')\n",
    "cali_layoffs['Layoff/Closure'] = cali_layoffs['Layoff/Closure'].str.replace('\\\\r', '')\n",
    "cali_layoffs['Layoff/Closure'] = cali_layoffs['Layoff/Closure'].str.replace('\\\\n', '')"
   ]
  },
  {
   "cell_type": "code",
   "execution_count": 5,
   "metadata": {},
   "outputs": [
    {
     "data": {
      "text/html": [
       "<div>\n",
       "<style scoped>\n",
       "    .dataframe tbody tr th:only-of-type {\n",
       "        vertical-align: middle;\n",
       "    }\n",
       "\n",
       "    .dataframe tbody tr th {\n",
       "        vertical-align: top;\n",
       "    }\n",
       "\n",
       "    .dataframe thead th {\n",
       "        text-align: right;\n",
       "    }\n",
       "</style>\n",
       "<table border=\"1\" class=\"dataframe\">\n",
       "  <thead>\n",
       "    <tr style=\"text-align: right;\">\n",
       "      <th></th>\n",
       "      <th>Notice Date</th>\n",
       "      <th>Effective Date</th>\n",
       "      <th>Received Date</th>\n",
       "      <th>Company</th>\n",
       "      <th>City</th>\n",
       "      <th>County</th>\n",
       "      <th>Employees</th>\n",
       "      <th>Layoff/Closure</th>\n",
       "      <th>Company 2</th>\n",
       "    </tr>\n",
       "  </thead>\n",
       "  <tbody>\n",
       "    <tr>\n",
       "      <th>0</th>\n",
       "      <td>06/09/2020</td>\n",
       "      <td>06/07/2020</td>\n",
       "      <td>07/01/2020</td>\n",
       "      <td>Bay Club Redondo Beach</td>\n",
       "      <td>Redondo Beach</td>\n",
       "      <td>Los Angeles County</td>\n",
       "      <td>102.0</td>\n",
       "      <td>Layoff Permanent</td>\n",
       "      <td>BAY CLUB REDONDO BEACH</td>\n",
       "    </tr>\n",
       "    <tr>\n",
       "      <th>1</th>\n",
       "      <td>06/09/2020</td>\n",
       "      <td>06/07/2020</td>\n",
       "      <td>07/01/2020</td>\n",
       "      <td>Bay Club Rolling Hills</td>\n",
       "      <td>Rolling Hills Estates</td>\n",
       "      <td>Los Angeles County</td>\n",
       "      <td>64.0</td>\n",
       "      <td>Layoff Permanent</td>\n",
       "      <td>BAY CLUB ROLLING HILLS</td>\n",
       "    </tr>\n",
       "    <tr>\n",
       "      <th>2</th>\n",
       "      <td>06/09/2020</td>\n",
       "      <td>06/07/2020</td>\n",
       "      <td>07/01/2020</td>\n",
       "      <td>Bay Club Santa Monica</td>\n",
       "      <td>Santa Monica</td>\n",
       "      <td>Los Angeles County</td>\n",
       "      <td>82.0</td>\n",
       "      <td>Layoff Permanent</td>\n",
       "      <td>BAY CLUB SANTA MONICA</td>\n",
       "    </tr>\n",
       "    <tr>\n",
       "      <th>3</th>\n",
       "      <td>06/19/2020</td>\n",
       "      <td>08/21/2020</td>\n",
       "      <td>07/01/2020</td>\n",
       "      <td>Weber Metals, Inc</td>\n",
       "      <td>Paramount</td>\n",
       "      <td>Los Angeles County</td>\n",
       "      <td>169.0</td>\n",
       "      <td>Layoff Permanent</td>\n",
       "      <td>WEBER METALS INC</td>\n",
       "    </tr>\n",
       "    <tr>\n",
       "      <th>4</th>\n",
       "      <td>06/09/2020</td>\n",
       "      <td>06/07/2020</td>\n",
       "      <td>07/01/2020</td>\n",
       "      <td>StoneTree Golf Club</td>\n",
       "      <td>Novato</td>\n",
       "      <td>Marin County</td>\n",
       "      <td>32.0</td>\n",
       "      <td>Layoff Permanent</td>\n",
       "      <td>STONETREE GOLF CLUB</td>\n",
       "    </tr>\n",
       "  </tbody>\n",
       "</table>\n",
       "</div>"
      ],
      "text/plain": [
       "  Notice Date Effective Date Received Date                 Company  \\\n",
       "0  06/09/2020     06/07/2020    07/01/2020  Bay Club Redondo Beach   \n",
       "1  06/09/2020     06/07/2020    07/01/2020  Bay Club Rolling Hills   \n",
       "2  06/09/2020     06/07/2020    07/01/2020   Bay Club Santa Monica   \n",
       "3  06/19/2020     08/21/2020    07/01/2020       Weber Metals, Inc   \n",
       "4  06/09/2020     06/07/2020    07/01/2020     StoneTree Golf Club   \n",
       "\n",
       "                    City               County  Employees    Layoff/Closure  \\\n",
       "0          Redondo Beach  Los Angeles County       102.0  Layoff Permanent   \n",
       "1  Rolling Hills Estates  Los Angeles County        64.0  Layoff Permanent   \n",
       "2           Santa Monica  Los Angeles County        82.0  Layoff Permanent   \n",
       "3              Paramount  Los Angeles County       169.0  Layoff Permanent   \n",
       "4                 Novato        Marin County        32.0  Layoff Permanent   \n",
       "\n",
       "                Company 2  \n",
       "0  BAY CLUB REDONDO BEACH  \n",
       "1  BAY CLUB ROLLING HILLS  \n",
       "2   BAY CLUB SANTA MONICA  \n",
       "3        WEBER METALS INC  \n",
       "4     STONETREE GOLF CLUB  "
      ]
     },
     "execution_count": 5,
     "metadata": {},
     "output_type": "execute_result"
    }
   ],
   "source": [
    "# Removal of punctuation\n",
    "\n",
    "cali_layoffs['Company 2'] = cali_layoffs['Company']\n",
    "cali_layoffs['Company 2'] = cali_layoffs['Company 2'].str.upper()\n",
    "cali_layoffs['Company 2'] = cali_layoffs['Company 2'].str.replace(\"[,.\\\\-\\\\';:*#&\\\\(\\\\)\\\\/\\\\_\\\\@]\",'')\n",
    "cali_layoffs.head()"
   ]
  },
  {
   "cell_type": "code",
   "execution_count": 6,
   "metadata": {},
   "outputs": [],
   "source": [
    "# stripping leading and trailing whitespace for a column we will work on\n",
    "\n",
    "cali_layoffs['County'] = cali_layoffs['County'].str.strip()\n",
    "cali_layoffs['County Orig'] = cali_layoffs['County']\n",
    "cali_layoffs['County'].fillna('Not Available', inplace=True)"
   ]
  },
  {
   "cell_type": "code",
   "execution_count": 7,
   "metadata": {},
   "outputs": [
    {
     "data": {
      "text/plain": [
       "array(['Los Angeles County', 'Marin County', 'Orange County',\n",
       "       'Sacramento County', 'San Bernardino County',\n",
       "       'San Francisco County', 'San Mateo County', 'Santa Clara County',\n",
       "       'Ventura County', 'Kern County', 'Stanislaus County',\n",
       "       'Contra Costa County', 'Alameda County', 'San Diego County',\n",
       "       'Kings County', 'San Joaquin County', 'Sonoma County',\n",
       "       'Tulare County', 'Napa County', 'Monterey County', 'Placer County',\n",
       "       'Mono County', 'Riverside County', 'Fresno County',\n",
       "       'Mendocino County', 'Del Norte County', 'Yolo County',\n",
       "       'San Luis Obispo County', 'Madera County', 'Shasta County',\n",
       "       'Solano County', 'Santa Barbara County', 'Imperial County',\n",
       "       'Mariposa County', 'Santa Cruz County', 'El Dorado County',\n",
       "       'Butte County', 'Sutter County', 'Yuba County', 'Siskiyou County',\n",
       "       'Calaveras County', 'Tehama County', 'Glenn County', 'Inyo County',\n",
       "       'Not Available', 'San Benito County', 'Merced County',\n",
       "       'Nevada County', 'Tuolumne County', 'Humboldt County',\n",
       "       'Amador County', 'Colusa County', 'Plumas County'], dtype=object)"
      ]
     },
     "execution_count": 7,
     "metadata": {},
     "output_type": "execute_result"
    }
   ],
   "source": [
    "cali_layoffs.loc[~(cali_layoffs['County'].str.endswith('County')) & (cali_layoffs['County'] != 'Not Available'),'County'] += \" County\"\n",
    "cali_layoffs['County'].unique()"
   ]
  },
  {
   "cell_type": "code",
   "execution_count": 8,
   "metadata": {},
   "outputs": [
    {
     "data": {
      "text/html": [
       "<div>\n",
       "<style scoped>\n",
       "    .dataframe tbody tr th:only-of-type {\n",
       "        vertical-align: middle;\n",
       "    }\n",
       "\n",
       "    .dataframe tbody tr th {\n",
       "        vertical-align: top;\n",
       "    }\n",
       "\n",
       "    .dataframe thead th {\n",
       "        text-align: right;\n",
       "    }\n",
       "</style>\n",
       "<table border=\"1\" class=\"dataframe\">\n",
       "  <thead>\n",
       "    <tr style=\"text-align: right;\">\n",
       "      <th></th>\n",
       "      <th>Notice Date</th>\n",
       "      <th>Effective Date</th>\n",
       "      <th>Received Date</th>\n",
       "      <th>Company</th>\n",
       "      <th>City</th>\n",
       "      <th>County</th>\n",
       "      <th>Employees</th>\n",
       "      <th>Layoff/Closure</th>\n",
       "      <th>Company 2</th>\n",
       "      <th>County Orig</th>\n",
       "      <th>Year</th>\n",
       "    </tr>\n",
       "  </thead>\n",
       "  <tbody>\n",
       "    <tr>\n",
       "      <th>0</th>\n",
       "      <td>06/09/2020</td>\n",
       "      <td>06/07/2020</td>\n",
       "      <td>07/01/2020</td>\n",
       "      <td>Bay Club Redondo Beach</td>\n",
       "      <td>Redondo Beach</td>\n",
       "      <td>Los Angeles County</td>\n",
       "      <td>102.0</td>\n",
       "      <td>Layoff Permanent</td>\n",
       "      <td>BAY CLUB REDONDO BEACH</td>\n",
       "      <td>Los Angeles County</td>\n",
       "      <td>2020</td>\n",
       "    </tr>\n",
       "    <tr>\n",
       "      <th>1</th>\n",
       "      <td>06/09/2020</td>\n",
       "      <td>06/07/2020</td>\n",
       "      <td>07/01/2020</td>\n",
       "      <td>Bay Club Rolling Hills</td>\n",
       "      <td>Rolling Hills Estates</td>\n",
       "      <td>Los Angeles County</td>\n",
       "      <td>64.0</td>\n",
       "      <td>Layoff Permanent</td>\n",
       "      <td>BAY CLUB ROLLING HILLS</td>\n",
       "      <td>Los Angeles County</td>\n",
       "      <td>2020</td>\n",
       "    </tr>\n",
       "    <tr>\n",
       "      <th>2</th>\n",
       "      <td>06/09/2020</td>\n",
       "      <td>06/07/2020</td>\n",
       "      <td>07/01/2020</td>\n",
       "      <td>Bay Club Santa Monica</td>\n",
       "      <td>Santa Monica</td>\n",
       "      <td>Los Angeles County</td>\n",
       "      <td>82.0</td>\n",
       "      <td>Layoff Permanent</td>\n",
       "      <td>BAY CLUB SANTA MONICA</td>\n",
       "      <td>Los Angeles County</td>\n",
       "      <td>2020</td>\n",
       "    </tr>\n",
       "    <tr>\n",
       "      <th>3</th>\n",
       "      <td>06/19/2020</td>\n",
       "      <td>08/21/2020</td>\n",
       "      <td>07/01/2020</td>\n",
       "      <td>Weber Metals, Inc</td>\n",
       "      <td>Paramount</td>\n",
       "      <td>Los Angeles County</td>\n",
       "      <td>169.0</td>\n",
       "      <td>Layoff Permanent</td>\n",
       "      <td>WEBER METALS INC</td>\n",
       "      <td>Los Angeles County</td>\n",
       "      <td>2020</td>\n",
       "    </tr>\n",
       "    <tr>\n",
       "      <th>4</th>\n",
       "      <td>06/09/2020</td>\n",
       "      <td>06/07/2020</td>\n",
       "      <td>07/01/2020</td>\n",
       "      <td>StoneTree Golf Club</td>\n",
       "      <td>Novato</td>\n",
       "      <td>Marin County</td>\n",
       "      <td>32.0</td>\n",
       "      <td>Layoff Permanent</td>\n",
       "      <td>STONETREE GOLF CLUB</td>\n",
       "      <td>Marin County</td>\n",
       "      <td>2020</td>\n",
       "    </tr>\n",
       "  </tbody>\n",
       "</table>\n",
       "</div>"
      ],
      "text/plain": [
       "  Notice Date Effective Date Received Date                 Company  \\\n",
       "0  06/09/2020     06/07/2020    07/01/2020  Bay Club Redondo Beach   \n",
       "1  06/09/2020     06/07/2020    07/01/2020  Bay Club Rolling Hills   \n",
       "2  06/09/2020     06/07/2020    07/01/2020   Bay Club Santa Monica   \n",
       "3  06/19/2020     08/21/2020    07/01/2020       Weber Metals, Inc   \n",
       "4  06/09/2020     06/07/2020    07/01/2020     StoneTree Golf Club   \n",
       "\n",
       "                    City              County  Employees    Layoff/Closure  \\\n",
       "0          Redondo Beach  Los Angeles County      102.0  Layoff Permanent   \n",
       "1  Rolling Hills Estates  Los Angeles County       64.0  Layoff Permanent   \n",
       "2           Santa Monica  Los Angeles County       82.0  Layoff Permanent   \n",
       "3              Paramount  Los Angeles County      169.0  Layoff Permanent   \n",
       "4                 Novato        Marin County       32.0  Layoff Permanent   \n",
       "\n",
       "                Company 2         County Orig  Year  \n",
       "0  BAY CLUB REDONDO BEACH  Los Angeles County  2020  \n",
       "1  BAY CLUB ROLLING HILLS  Los Angeles County  2020  \n",
       "2   BAY CLUB SANTA MONICA  Los Angeles County  2020  \n",
       "3        WEBER METALS INC  Los Angeles County  2020  \n",
       "4     STONETREE GOLF CLUB        Marin County  2020  "
      ]
     },
     "execution_count": 8,
     "metadata": {},
     "output_type": "execute_result"
    }
   ],
   "source": [
    "# Creating a year column based on the last 4 characters of the Notice Date\n",
    "\n",
    "cali_layoffs['Year'] = cali_layoffs['Notice Date'].str[-4:]\n",
    "cali_layoffs['Year'] = cali_layoffs['Year'].astype(np.int64)\n",
    "cali_layoffs.head()"
   ]
  },
  {
   "cell_type": "code",
   "execution_count": 9,
   "metadata": {},
   "outputs": [
    {
     "data": {
      "text/plain": [
       "array(['Los Angeles County', 'Marin County', 'Orange County',\n",
       "       'Sacramento County', 'San Bernardino County',\n",
       "       'San Francisco County', 'San Mateo County', 'Santa Clara County',\n",
       "       'Ventura County', 'Kern County', 'Stanislaus County',\n",
       "       'Contra Costa County', 'Alameda County', 'San Diego County',\n",
       "       'Kings County', 'San Joaquin County', 'Sonoma County',\n",
       "       'Tulare County', 'Napa County', 'Monterey County', 'Placer County',\n",
       "       'Mono County', 'Riverside County', 'Fresno County',\n",
       "       'Mendocino County', 'Del Norte County', 'Yolo County',\n",
       "       'San Luis Obispo County', 'Madera County', 'Shasta County',\n",
       "       'Solano County', 'Santa Barbara County', 'Imperial County',\n",
       "       'Mariposa County', 'Santa Cruz County', 'El Dorado County',\n",
       "       'Butte County', 'Sutter County', 'Yuba County', 'Siskiyou County',\n",
       "       'Calaveras County', 'Tehama County', 'Glenn County', 'Inyo County',\n",
       "       'Not Available', 'San Benito County', 'Merced County',\n",
       "       'Nevada County', 'Tuolumne County', 'Humboldt County',\n",
       "       'Amador County', 'Colusa County', 'Plumas County'], dtype=object)"
      ]
     },
     "execution_count": 9,
     "metadata": {},
     "output_type": "execute_result"
    }
   ],
   "source": [
    "# Viewing unique County Names\n",
    "\n",
    "cali_layoffs['County'].unique()"
   ]
  },
  {
   "cell_type": "markdown",
   "metadata": {},
   "source": [
    "### Dropping 'Cancelled' Layoffs"
   ]
  },
  {
   "cell_type": "code",
   "execution_count": 10,
   "metadata": {},
   "outputs": [
    {
     "data": {
      "text/plain": [
       "10"
      ]
     },
     "execution_count": 10,
     "metadata": {},
     "output_type": "execute_result"
    }
   ],
   "source": [
    "# There are records where it says 'cancelled' in the name - we assume these layoffs were cancelled, thus we are dropping those records from our data\n",
    "# This first 2 lines just identify which records have the words 'cancelled' in them\n",
    "\n",
    "cancelled_layoffs = cali_layoffs[cali_layoffs['Company 2'].str.contains('CANCELLED')]\n",
    "len(cancelled_layoffs)"
   ]
  },
  {
   "cell_type": "code",
   "execution_count": 11,
   "metadata": {},
   "outputs": [
    {
     "data": {
      "text/html": [
       "<div>\n",
       "<style scoped>\n",
       "    .dataframe tbody tr th:only-of-type {\n",
       "        vertical-align: middle;\n",
       "    }\n",
       "\n",
       "    .dataframe tbody tr th {\n",
       "        vertical-align: top;\n",
       "    }\n",
       "\n",
       "    .dataframe thead th {\n",
       "        text-align: right;\n",
       "    }\n",
       "</style>\n",
       "<table border=\"1\" class=\"dataframe\">\n",
       "  <thead>\n",
       "    <tr style=\"text-align: right;\">\n",
       "      <th></th>\n",
       "      <th>Notice Date</th>\n",
       "      <th>Effective Date</th>\n",
       "      <th>Received Date</th>\n",
       "      <th>Company</th>\n",
       "      <th>City</th>\n",
       "      <th>County</th>\n",
       "      <th>Employees</th>\n",
       "      <th>Layoff/Closure</th>\n",
       "      <th>Company 2</th>\n",
       "      <th>County Orig</th>\n",
       "      <th>Year</th>\n",
       "    </tr>\n",
       "  </thead>\n",
       "  <tbody>\n",
       "    <tr>\n",
       "      <th>1082</th>\n",
       "      <td>07/17/2020</td>\n",
       "      <td>09/23/2020</td>\n",
       "      <td>10/02/2020</td>\n",
       "      <td>**JC Penney (Cancelled)</td>\n",
       "      <td>San Bernardino</td>\n",
       "      <td>San Bernardino County</td>\n",
       "      <td>109.0</td>\n",
       "      <td>Closure Permanent</td>\n",
       "      <td>JC PENNEY CANCELLED</td>\n",
       "      <td>San Bernardino County</td>\n",
       "      <td>2020</td>\n",
       "    </tr>\n",
       "    <tr>\n",
       "      <th>1085</th>\n",
       "      <td>07/01/2020</td>\n",
       "      <td>09/04/2020</td>\n",
       "      <td>10/02/2020</td>\n",
       "      <td>**CoreLogic Credco, LLC (Cancelled)</td>\n",
       "      <td>San Diego</td>\n",
       "      <td>San Diego County</td>\n",
       "      <td>137.0</td>\n",
       "      <td>Layoff Permanent</td>\n",
       "      <td>CORELOGIC CREDCO LLC CANCELLED</td>\n",
       "      <td>San Diego County</td>\n",
       "      <td>2020</td>\n",
       "    </tr>\n",
       "    <tr>\n",
       "      <th>4449</th>\n",
       "      <td>04/27/2015</td>\n",
       "      <td>06/26/2015</td>\n",
       "      <td>04/27/2015</td>\n",
       "      <td>Health Net, Inc. (CANCELLED)**</td>\n",
       "      <td>Woodland Hills</td>\n",
       "      <td>Not Available</td>\n",
       "      <td>1217.0</td>\n",
       "      <td>Layoff Unknown at this time</td>\n",
       "      <td>HEALTH NET INC CANCELLED</td>\n",
       "      <td>NaN</td>\n",
       "      <td>2015</td>\n",
       "    </tr>\n",
       "    <tr>\n",
       "      <th>4458</th>\n",
       "      <td>04/27/2015</td>\n",
       "      <td>06/26/2015</td>\n",
       "      <td>04/28/2015</td>\n",
       "      <td>Health Net, Inc. (CANCELLED)**</td>\n",
       "      <td>Rancho Cordova</td>\n",
       "      <td>Not Available</td>\n",
       "      <td>385.0</td>\n",
       "      <td>Layoff Unknown at this time</td>\n",
       "      <td>HEALTH NET INC CANCELLED</td>\n",
       "      <td>NaN</td>\n",
       "      <td>2015</td>\n",
       "    </tr>\n",
       "    <tr>\n",
       "      <th>4459</th>\n",
       "      <td>04/27/2015</td>\n",
       "      <td>06/26/2015</td>\n",
       "      <td>04/28/2015</td>\n",
       "      <td>Health Net, Inc. (CANCELLED)**</td>\n",
       "      <td>Rancho Cordova</td>\n",
       "      <td>Not Available</td>\n",
       "      <td>520.0</td>\n",
       "      <td>Layoff Unknown at this time</td>\n",
       "      <td>HEALTH NET INC CANCELLED</td>\n",
       "      <td>NaN</td>\n",
       "      <td>2015</td>\n",
       "    </tr>\n",
       "    <tr>\n",
       "      <th>6137</th>\n",
       "      <td>04/28/2020</td>\n",
       "      <td>06/29/2020</td>\n",
       "      <td>05/04/2020</td>\n",
       "      <td>Public Health Institute (CANCELLED)**</td>\n",
       "      <td>Oakland</td>\n",
       "      <td>Alameda County</td>\n",
       "      <td>84.0</td>\n",
       "      <td>Layoff Temporary</td>\n",
       "      <td>PUBLIC HEALTH INSTITUTE CANCELLED</td>\n",
       "      <td>Alameda County</td>\n",
       "      <td>2020</td>\n",
       "    </tr>\n",
       "    <tr>\n",
       "      <th>8965</th>\n",
       "      <td>12/11/2019</td>\n",
       "      <td>01/31/2020</td>\n",
       "      <td>12/12/2019</td>\n",
       "      <td>Abercrombie &amp; Fitch ***(CANCELLED)</td>\n",
       "      <td>Palo Alto</td>\n",
       "      <td>Santa Clara County</td>\n",
       "      <td>45.0</td>\n",
       "      <td>Closure Permanent</td>\n",
       "      <td>ABERCROMBIE  FITCH CANCELLED</td>\n",
       "      <td>Santa Clara County</td>\n",
       "      <td>2019</td>\n",
       "    </tr>\n",
       "    <tr>\n",
       "      <th>9165</th>\n",
       "      <td>08/13/2019</td>\n",
       "      <td>10/12/2019</td>\n",
       "      <td>08/20/2019</td>\n",
       "      <td>LA Hearth LLC (CANCELLED)**</td>\n",
       "      <td>Los Angeles</td>\n",
       "      <td>Los Angeles County</td>\n",
       "      <td>73.0</td>\n",
       "      <td>Closure Permanent</td>\n",
       "      <td>LA HEARTH LLC CANCELLED</td>\n",
       "      <td>Los Angeles County</td>\n",
       "      <td>2019</td>\n",
       "    </tr>\n",
       "    <tr>\n",
       "      <th>9166</th>\n",
       "      <td>07/29/2019</td>\n",
       "      <td>09/30/2019</td>\n",
       "      <td>08/19/2019</td>\n",
       "      <td>AECOM (CANCELLED)**</td>\n",
       "      <td>San Diego</td>\n",
       "      <td>San Diego County</td>\n",
       "      <td>3.0</td>\n",
       "      <td>Layoff Permanent</td>\n",
       "      <td>AECOM CANCELLED</td>\n",
       "      <td>San Diego County</td>\n",
       "      <td>2019</td>\n",
       "    </tr>\n",
       "    <tr>\n",
       "      <th>9297</th>\n",
       "      <td>08/19/2016</td>\n",
       "      <td>10/23/2017</td>\n",
       "      <td>08/22/2017</td>\n",
       "      <td>Chili's Grill &amp; Bar Restaurant (CANCELLED)**</td>\n",
       "      <td>Thousand Oaks</td>\n",
       "      <td>Ventura County</td>\n",
       "      <td>48.0</td>\n",
       "      <td>Closure Permanent</td>\n",
       "      <td>CHILIS GRILL  BAR RESTAURANT CANCELLED</td>\n",
       "      <td>Ventura County</td>\n",
       "      <td>2016</td>\n",
       "    </tr>\n",
       "  </tbody>\n",
       "</table>\n",
       "</div>"
      ],
      "text/plain": [
       "     Notice Date Effective Date Received Date  \\\n",
       "1082  07/17/2020     09/23/2020    10/02/2020   \n",
       "1085  07/01/2020     09/04/2020    10/02/2020   \n",
       "4449  04/27/2015     06/26/2015    04/27/2015   \n",
       "4458  04/27/2015     06/26/2015    04/28/2015   \n",
       "4459  04/27/2015     06/26/2015    04/28/2015   \n",
       "6137  04/28/2020     06/29/2020    05/04/2020   \n",
       "8965  12/11/2019     01/31/2020    12/12/2019   \n",
       "9165  08/13/2019     10/12/2019    08/20/2019   \n",
       "9166  07/29/2019     09/30/2019    08/19/2019   \n",
       "9297  08/19/2016     10/23/2017    08/22/2017   \n",
       "\n",
       "                                           Company            City  \\\n",
       "1082                       **JC Penney (Cancelled)  San Bernardino   \n",
       "1085           **CoreLogic Credco, LLC (Cancelled)       San Diego   \n",
       "4449                Health Net, Inc. (CANCELLED)**  Woodland Hills   \n",
       "4458                Health Net, Inc. (CANCELLED)**  Rancho Cordova   \n",
       "4459                Health Net, Inc. (CANCELLED)**  Rancho Cordova   \n",
       "6137         Public Health Institute (CANCELLED)**         Oakland   \n",
       "8965            Abercrombie & Fitch ***(CANCELLED)       Palo Alto   \n",
       "9165                   LA Hearth LLC (CANCELLED)**     Los Angeles   \n",
       "9166                           AECOM (CANCELLED)**       San Diego   \n",
       "9297  Chili's Grill & Bar Restaurant (CANCELLED)**   Thousand Oaks   \n",
       "\n",
       "                     County  Employees               Layoff/Closure  \\\n",
       "1082  San Bernardino County      109.0            Closure Permanent   \n",
       "1085       San Diego County      137.0             Layoff Permanent   \n",
       "4449          Not Available     1217.0  Layoff Unknown at this time   \n",
       "4458          Not Available      385.0  Layoff Unknown at this time   \n",
       "4459          Not Available      520.0  Layoff Unknown at this time   \n",
       "6137         Alameda County       84.0             Layoff Temporary   \n",
       "8965     Santa Clara County       45.0            Closure Permanent   \n",
       "9165     Los Angeles County       73.0            Closure Permanent   \n",
       "9166       San Diego County        3.0             Layoff Permanent   \n",
       "9297         Ventura County       48.0            Closure Permanent   \n",
       "\n",
       "                                   Company 2            County Orig  Year  \n",
       "1082                     JC PENNEY CANCELLED  San Bernardino County  2020  \n",
       "1085          CORELOGIC CREDCO LLC CANCELLED       San Diego County  2020  \n",
       "4449                HEALTH NET INC CANCELLED                    NaN  2015  \n",
       "4458                HEALTH NET INC CANCELLED                    NaN  2015  \n",
       "4459                HEALTH NET INC CANCELLED                    NaN  2015  \n",
       "6137       PUBLIC HEALTH INSTITUTE CANCELLED         Alameda County  2020  \n",
       "8965            ABERCROMBIE  FITCH CANCELLED     Santa Clara County  2019  \n",
       "9165                 LA HEARTH LLC CANCELLED     Los Angeles County  2019  \n",
       "9166                         AECOM CANCELLED       San Diego County  2019  \n",
       "9297  CHILIS GRILL  BAR RESTAURANT CANCELLED         Ventura County  2016  "
      ]
     },
     "execution_count": 11,
     "metadata": {},
     "output_type": "execute_result"
    }
   ],
   "source": [
    "# View the records we are dropping\n",
    "\n",
    "cancelled_layoffs"
   ]
  },
  {
   "cell_type": "code",
   "execution_count": 12,
   "metadata": {},
   "outputs": [
    {
     "data": {
      "text/plain": [
       "Int64Index([1082, 1085, 4449, 4458, 4459, 6137, 8965, 9165, 9166, 9297], dtype='int64')"
      ]
     },
     "execution_count": 12,
     "metadata": {},
     "output_type": "execute_result"
    }
   ],
   "source": [
    "# Get the specific index of those records\n",
    "\n",
    "cancelled_layoffs.index"
   ]
  },
  {
   "cell_type": "code",
   "execution_count": 13,
   "metadata": {},
   "outputs": [
    {
     "data": {
      "text/plain": [
       "9864"
      ]
     },
     "execution_count": 13,
     "metadata": {},
     "output_type": "execute_result"
    }
   ],
   "source": [
    "# Get the length of our dataframe\n",
    "\n",
    "len(cali_layoffs)"
   ]
  },
  {
   "cell_type": "code",
   "execution_count": 14,
   "metadata": {},
   "outputs": [
    {
     "data": {
      "text/plain": [
       "9854"
      ]
     },
     "execution_count": 14,
     "metadata": {},
     "output_type": "execute_result"
    }
   ],
   "source": [
    "# Drop cancelled records and then re-calculate len of our dataframe\n",
    "\n",
    "cali_layoffs.drop(cancelled_layoffs.index, inplace=True)\n",
    "len(cali_layoffs)"
   ]
  },
  {
   "cell_type": "markdown",
   "metadata": {},
   "source": [
    "### Cleaning Layoff Types\n",
    "\n",
    "Type Unknown and unknown at this time will be combined."
   ]
  },
  {
   "cell_type": "code",
   "execution_count": 15,
   "metadata": {},
   "outputs": [
    {
     "data": {
      "text/plain": [
       "array(['Layoff Permanent', 'Layoff Type Unknown', 'Layoff Temporary',\n",
       "       'Closure Temporary', 'Closure Permanent', 'Closure Type Unknown',\n",
       "       'Layoff Unknown at this time', 'Closure Unknown at this time',\n",
       "       'Closure Unknown at thistime', 'Layoff Unknown at thistime'],\n",
       "      dtype=object)"
      ]
     },
     "execution_count": 15,
     "metadata": {},
     "output_type": "execute_result"
    }
   ],
   "source": [
    "# View unqiue number of options for the Layoff/Closure colum\n",
    "\n",
    "cali_layoffs['Layoff/Closure'].unique()"
   ]
  },
  {
   "cell_type": "code",
   "execution_count": 16,
   "metadata": {},
   "outputs": [
    {
     "data": {
      "text/plain": [
       "array(['layoff permanent', 'layoff type uncategorized',\n",
       "       'layoff temporary', 'closure temporary', 'closure permanent',\n",
       "       'closure type uncategorized'], dtype=object)"
      ]
     },
     "execution_count": 16,
     "metadata": {},
     "output_type": "execute_result"
    }
   ],
   "source": [
    "# Standardize the columns by stripping whitespace, making everything lowercase and replacing unknown with uncategorized, replacing mispellings \n",
    "\n",
    "cali_layoffs['Layoff/Closure clean'] = cali_layoffs['Layoff/Closure'].str.replace('at thistime', 'at this time')\n",
    "cali_layoffs['Layoff/Closure clean'] = cali_layoffs['Layoff/Closure clean'].str.strip()\n",
    "cali_layoffs['Layoff/Closure clean'] = cali_layoffs['Layoff/Closure clean'].str.lower()\n",
    "cali_layoffs['Layoff/Closure clean'] = cali_layoffs['Layoff/Closure clean'].str.replace('unknown at this time', 'type unknown')\n",
    "cali_layoffs['Layoff/Closure clean'] = cali_layoffs['Layoff/Closure clean'].str.replace('type unknown', 'type uncategorized')\n",
    "cali_layoffs['Layoff/Closure clean'].unique()"
   ]
  },
  {
   "cell_type": "code",
   "execution_count": 17,
   "metadata": {},
   "outputs": [
    {
     "data": {
      "text/html": [
       "<div>\n",
       "<style scoped>\n",
       "    .dataframe tbody tr th:only-of-type {\n",
       "        vertical-align: middle;\n",
       "    }\n",
       "\n",
       "    .dataframe tbody tr th {\n",
       "        vertical-align: top;\n",
       "    }\n",
       "\n",
       "    .dataframe thead th {\n",
       "        text-align: right;\n",
       "    }\n",
       "</style>\n",
       "<table border=\"1\" class=\"dataframe\">\n",
       "  <thead>\n",
       "    <tr style=\"text-align: right;\">\n",
       "      <th></th>\n",
       "      <th>Notice Date</th>\n",
       "      <th>Effective Date</th>\n",
       "      <th>Received Date</th>\n",
       "      <th>Company</th>\n",
       "      <th>City</th>\n",
       "      <th>County</th>\n",
       "      <th>Employees</th>\n",
       "      <th>Layoff/Closure</th>\n",
       "      <th>Company 2</th>\n",
       "      <th>County Orig</th>\n",
       "      <th>Year</th>\n",
       "      <th>Layoff/Closure clean</th>\n",
       "    </tr>\n",
       "  </thead>\n",
       "  <tbody>\n",
       "    <tr>\n",
       "      <th>0</th>\n",
       "      <td>06/09/2020</td>\n",
       "      <td>06/07/2020</td>\n",
       "      <td>07/01/2020</td>\n",
       "      <td>Bay Club Redondo Beach</td>\n",
       "      <td>Redondo Beach</td>\n",
       "      <td>Los Angeles County</td>\n",
       "      <td>102.0</td>\n",
       "      <td>Layoff Permanent</td>\n",
       "      <td>BAY CLUB REDONDO BEACH</td>\n",
       "      <td>Los Angeles County</td>\n",
       "      <td>2020</td>\n",
       "      <td>layoff permanent</td>\n",
       "    </tr>\n",
       "    <tr>\n",
       "      <th>1</th>\n",
       "      <td>06/09/2020</td>\n",
       "      <td>06/07/2020</td>\n",
       "      <td>07/01/2020</td>\n",
       "      <td>Bay Club Rolling Hills</td>\n",
       "      <td>Rolling Hills Estates</td>\n",
       "      <td>Los Angeles County</td>\n",
       "      <td>64.0</td>\n",
       "      <td>Layoff Permanent</td>\n",
       "      <td>BAY CLUB ROLLING HILLS</td>\n",
       "      <td>Los Angeles County</td>\n",
       "      <td>2020</td>\n",
       "      <td>layoff permanent</td>\n",
       "    </tr>\n",
       "    <tr>\n",
       "      <th>2</th>\n",
       "      <td>06/09/2020</td>\n",
       "      <td>06/07/2020</td>\n",
       "      <td>07/01/2020</td>\n",
       "      <td>Bay Club Santa Monica</td>\n",
       "      <td>Santa Monica</td>\n",
       "      <td>Los Angeles County</td>\n",
       "      <td>82.0</td>\n",
       "      <td>Layoff Permanent</td>\n",
       "      <td>BAY CLUB SANTA MONICA</td>\n",
       "      <td>Los Angeles County</td>\n",
       "      <td>2020</td>\n",
       "      <td>layoff permanent</td>\n",
       "    </tr>\n",
       "    <tr>\n",
       "      <th>3</th>\n",
       "      <td>06/19/2020</td>\n",
       "      <td>08/21/2020</td>\n",
       "      <td>07/01/2020</td>\n",
       "      <td>Weber Metals, Inc</td>\n",
       "      <td>Paramount</td>\n",
       "      <td>Los Angeles County</td>\n",
       "      <td>169.0</td>\n",
       "      <td>Layoff Permanent</td>\n",
       "      <td>WEBER METALS INC</td>\n",
       "      <td>Los Angeles County</td>\n",
       "      <td>2020</td>\n",
       "      <td>layoff permanent</td>\n",
       "    </tr>\n",
       "    <tr>\n",
       "      <th>4</th>\n",
       "      <td>06/09/2020</td>\n",
       "      <td>06/07/2020</td>\n",
       "      <td>07/01/2020</td>\n",
       "      <td>StoneTree Golf Club</td>\n",
       "      <td>Novato</td>\n",
       "      <td>Marin County</td>\n",
       "      <td>32.0</td>\n",
       "      <td>Layoff Permanent</td>\n",
       "      <td>STONETREE GOLF CLUB</td>\n",
       "      <td>Marin County</td>\n",
       "      <td>2020</td>\n",
       "      <td>layoff permanent</td>\n",
       "    </tr>\n",
       "  </tbody>\n",
       "</table>\n",
       "</div>"
      ],
      "text/plain": [
       "  Notice Date Effective Date Received Date                 Company  \\\n",
       "0  06/09/2020     06/07/2020    07/01/2020  Bay Club Redondo Beach   \n",
       "1  06/09/2020     06/07/2020    07/01/2020  Bay Club Rolling Hills   \n",
       "2  06/09/2020     06/07/2020    07/01/2020   Bay Club Santa Monica   \n",
       "3  06/19/2020     08/21/2020    07/01/2020       Weber Metals, Inc   \n",
       "4  06/09/2020     06/07/2020    07/01/2020     StoneTree Golf Club   \n",
       "\n",
       "                    City              County  Employees    Layoff/Closure  \\\n",
       "0          Redondo Beach  Los Angeles County      102.0  Layoff Permanent   \n",
       "1  Rolling Hills Estates  Los Angeles County       64.0  Layoff Permanent   \n",
       "2           Santa Monica  Los Angeles County       82.0  Layoff Permanent   \n",
       "3              Paramount  Los Angeles County      169.0  Layoff Permanent   \n",
       "4                 Novato        Marin County       32.0  Layoff Permanent   \n",
       "\n",
       "                Company 2         County Orig  Year Layoff/Closure clean  \n",
       "0  BAY CLUB REDONDO BEACH  Los Angeles County  2020     layoff permanent  \n",
       "1  BAY CLUB ROLLING HILLS  Los Angeles County  2020     layoff permanent  \n",
       "2   BAY CLUB SANTA MONICA  Los Angeles County  2020     layoff permanent  \n",
       "3        WEBER METALS INC  Los Angeles County  2020     layoff permanent  \n",
       "4     STONETREE GOLF CLUB        Marin County  2020     layoff permanent  "
      ]
     },
     "execution_count": 17,
     "metadata": {},
     "output_type": "execute_result"
    }
   ],
   "source": [
    "# Taking another look at our data because we've made a few changes\n",
    "\n",
    "cali_layoffs.head()"
   ]
  },
  {
   "cell_type": "markdown",
   "metadata": {},
   "source": [
    "### Ambiguous Cities\n",
    "\n",
    "In doing some preliminary exploration of the data, we learned that some cities have been assigned the incorrect county name. The code below finds the cities with more than one county assigned. This code identifies cities that have more than one county paired with it. It then creates a list of tuples with the city name and the two counties it got paired with.\n",
    "\n",
    "After that, we select the correct county manually and create a dictionary with the correct city,county key,value pairs. We then take that dictionary and go through our dataframe to find the entries that do not match this pairing. When a record that doesn't match is found, the record is updated according to the key,value pair in our dictionary.\n",
    "\n",
    "The code also populates empty counties with the correct county name based on the name of the city.\n",
    "\n",
    "This leaves us with an updated dataset where all the cities have the correct counties listed in the `County` column.\n",
    "In order to see the original incorrect entries, the `County Orig` column has the original untouched data."
   ]
  },
  {
   "cell_type": "code",
   "execution_count": 18,
   "metadata": {},
   "outputs": [
    {
     "data": {
      "text/plain": [
       "[{'Notice Date': '06/09/2020',\n",
       "  'Effective Date': '06/07/2020',\n",
       "  'Received Date': '07/01/2020',\n",
       "  'Company': 'Bay Club Redondo Beach',\n",
       "  'City': 'Redondo Beach',\n",
       "  'County': 'Los Angeles County',\n",
       "  'Employees': 102.0,\n",
       "  'Layoff/Closure': 'Layoff Permanent',\n",
       "  'Company 2': 'BAY CLUB REDONDO BEACH',\n",
       "  'County Orig': 'Los Angeles County',\n",
       "  'Year': 2020,\n",
       "  'Layoff/Closure clean': 'layoff permanent'},\n",
       " {'Notice Date': '06/09/2020',\n",
       "  'Effective Date': '06/07/2020',\n",
       "  'Received Date': '07/01/2020',\n",
       "  'Company': 'Bay Club Rolling Hills',\n",
       "  'City': 'Rolling Hills Estates',\n",
       "  'County': 'Los Angeles County',\n",
       "  'Employees': 64.0,\n",
       "  'Layoff/Closure': 'Layoff Permanent',\n",
       "  'Company 2': 'BAY CLUB ROLLING HILLS',\n",
       "  'County Orig': 'Los Angeles County',\n",
       "  'Year': 2020,\n",
       "  'Layoff/Closure clean': 'layoff permanent'}]"
      ]
     },
     "execution_count": 18,
     "metadata": {},
     "output_type": "execute_result"
    }
   ],
   "source": [
    "# Make my dataframe a dictionary\n",
    "\n",
    "cali_dict = cali_layoffs.to_dict(orient='records')\n",
    "cali_dict[0:2]"
   ]
  },
  {
   "cell_type": "code",
   "execution_count": 19,
   "metadata": {},
   "outputs": [
    {
     "data": {
      "text/plain": [
       "array(['Los Angeles County', 'Marin County', 'Orange County',\n",
       "       'Sacramento County', 'San Bernardino County',\n",
       "       'San Francisco County', 'San Mateo County', 'Santa Clara County',\n",
       "       'Ventura County', 'Kern County', 'Stanislaus County',\n",
       "       'Contra Costa County', 'Alameda County', 'San Diego County',\n",
       "       'Kings County', 'San Joaquin County', 'Sonoma County',\n",
       "       'Tulare County', 'Napa County', 'Monterey County', 'Placer County',\n",
       "       'Mono County', 'Riverside County', 'Fresno County',\n",
       "       'Mendocino County', 'Del Norte County', 'Yolo County',\n",
       "       'San Luis Obispo County', 'Madera County', 'Shasta County',\n",
       "       'Solano County', 'Santa Barbara County', 'Imperial County',\n",
       "       'Mariposa County', 'Santa Cruz County', 'El Dorado County',\n",
       "       'Butte County', 'Sutter County', 'Yuba County', 'Siskiyou County',\n",
       "       'Calaveras County', 'Tehama County', 'Glenn County', 'Inyo County',\n",
       "       'Not Available', 'San Benito County', 'Merced County',\n",
       "       'Nevada County', 'Tuolumne County', 'Humboldt County',\n",
       "       'Amador County', 'Colusa County', 'Plumas County'], dtype=object)"
      ]
     },
     "execution_count": 19,
     "metadata": {},
     "output_type": "execute_result"
    }
   ],
   "source": [
    "# List unqiue counties\n",
    "\n",
    "cali_layoffs['County'].unique()"
   ]
  },
  {
   "cell_type": "code",
   "execution_count": 20,
   "metadata": {},
   "outputs": [
    {
     "data": {
      "text/plain": [
       "2114"
      ]
     },
     "execution_count": 20,
     "metadata": {},
     "output_type": "execute_result"
    }
   ],
   "source": [
    "# Create a list of records where the county column has string 'Not Available'\n",
    "\n",
    "rows_with_no_county = [r for r in cali_dict if r[\"County\"] == \"Not Available\"]\n",
    "len(rows_with_no_county)"
   ]
  },
  {
   "cell_type": "code",
   "execution_count": 21,
   "metadata": {},
   "outputs": [
    {
     "data": {
      "text/plain": [
       "{'Notice Date': '06/22/2015',\n",
       " 'Effective Date': '03/25/2016',\n",
       " 'Received Date': '07/01/2015',\n",
       " 'Company': 'Maxim Integrated Product',\n",
       " 'City': 'San Jose',\n",
       " 'County': 'Not Available',\n",
       " 'Employees': 150.0,\n",
       " 'Layoff/Closure': 'Closure Permanent',\n",
       " 'Company 2': 'MAXIM INTEGRATED PRODUCT',\n",
       " 'County Orig': nan,\n",
       " 'Year': 2015,\n",
       " 'Layoff/Closure clean': 'closure permanent'}"
      ]
     },
     "execution_count": 21,
     "metadata": {},
     "output_type": "execute_result"
    }
   ],
   "source": [
    "# Shows a single record\n",
    "\n",
    "rows_with_no_county[0]"
   ]
  },
  {
   "cell_type": "code",
   "execution_count": 22,
   "metadata": {},
   "outputs": [],
   "source": [
    "# Create a list of records where we get # of cities that have no county listed\n",
    "\n",
    "cities = [r[\"City\"] for r in rows_with_no_county]"
   ]
  },
  {
   "cell_type": "code",
   "execution_count": 23,
   "metadata": {},
   "outputs": [
    {
     "data": {
      "text/plain": [
       "2114"
      ]
     },
     "execution_count": 23,
     "metadata": {},
     "output_type": "execute_result"
    }
   ],
   "source": [
    "# Get length of that list\n",
    "\n",
    "len(cities)"
   ]
  },
  {
   "cell_type": "code",
   "execution_count": 24,
   "metadata": {},
   "outputs": [],
   "source": [
    "# creates a set out of the cities list\n",
    "\n",
    "cities = set(cities)"
   ]
  },
  {
   "cell_type": "code",
   "execution_count": 25,
   "metadata": {},
   "outputs": [
    {
     "data": {
      "text/plain": [
       "355"
      ]
     },
     "execution_count": 25,
     "metadata": {},
     "output_type": "execute_result"
    }
   ],
   "source": [
    "# Get length of that list\n",
    "\n",
    "len(cities)"
   ]
  },
  {
   "cell_type": "code",
   "execution_count": 26,
   "metadata": {},
   "outputs": [],
   "source": [
    "# Create a list of records where we get # of cities that have a county listed\n",
    "\n",
    "rows_with_county = [r for r in cali_dict if r[\"County\"] != \"Not Available\"]"
   ]
  },
  {
   "cell_type": "code",
   "execution_count": 27,
   "metadata": {},
   "outputs": [
    {
     "data": {
      "text/plain": [
       "7740"
      ]
     },
     "execution_count": 27,
     "metadata": {},
     "output_type": "execute_result"
    }
   ],
   "source": [
    "# Get length of list we created above\n",
    "\n",
    "len(rows_with_county)"
   ]
  },
  {
   "cell_type": "code",
   "execution_count": 28,
   "metadata": {},
   "outputs": [
    {
     "data": {
      "text/plain": [
       "{'Notice Date': '07/03/2020',\n",
       " 'Effective Date': '07/03/2020',\n",
       " 'Received Date': '08/03/2020',\n",
       " 'Company': 'Wyndham San Diego Bayside',\n",
       " 'City': 'San Diego',\n",
       " 'County': 'San Diego County',\n",
       " 'Employees': 88.0,\n",
       " 'Layoff/Closure': 'Layoff Temporary',\n",
       " 'Company 2': 'WYNDHAM SAN DIEGO BAYSIDE',\n",
       " 'County Orig': 'San Diego County',\n",
       " 'Year': 2020,\n",
       " 'Layoff/Closure clean': 'layoff temporary'}"
      ]
     },
     "execution_count": 28,
     "metadata": {},
     "output_type": "execute_result"
    }
   ],
   "source": [
    "# Take a look at a specific record within the above list\n",
    "\n",
    "rows_with_county[334]"
   ]
  },
  {
   "cell_type": "code",
   "execution_count": 29,
   "metadata": {},
   "outputs": [],
   "source": [
    "# Creates a dictionary, loops through rows_with_county list\n",
    "# Every city gets added as a key with its given county as the value\n",
    "# If a city has two counties, the entry will have two values\n",
    "\n",
    "city_to_counties = {}\n",
    "for row in rows_with_county:\n",
    "    city = row[\"City\"]\n",
    "    county = row[\"County\"]\n",
    "    if city not in city_to_counties:\n",
    "        city_to_counties[city] = set()\n",
    "    city_to_counties[city].add(county)"
   ]
  },
  {
   "cell_type": "code",
   "execution_count": 30,
   "metadata": {},
   "outputs": [],
   "source": [
    "# Makes a list from cities that only have one value\n",
    "\n",
    "unambiguous_cities = [pair for pair in city_to_counties.items() if len(pair[1]) == 1]"
   ]
  },
  {
   "cell_type": "code",
   "execution_count": 31,
   "metadata": {},
   "outputs": [
    {
     "data": {
      "text/plain": [
       "525"
      ]
     },
     "execution_count": 31,
     "metadata": {},
     "output_type": "execute_result"
    }
   ],
   "source": [
    "# Gets length of above list\n",
    "\n",
    "len(unambiguous_cities)"
   ]
  },
  {
   "cell_type": "code",
   "execution_count": 32,
   "metadata": {},
   "outputs": [],
   "source": [
    "# Makes a dictionary from cities that only have one value\n",
    "\n",
    "unambiguous_cities = {pair[0]: list(pair[1])[0] for pair in city_to_counties.items() if len(pair[1]) == 1}"
   ]
  },
  {
   "cell_type": "code",
   "execution_count": 33,
   "metadata": {},
   "outputs": [],
   "source": [
    "# Loop through rows_with_no_county list\n",
    "# Adds the correct county based on unambiguous_cities dictionary which has the correct city, county pairings\n",
    "\n",
    "for row in rows_with_no_county:\n",
    "    if row[\"City\"] in unambiguous_cities:\n",
    "        row[\"County\"] = unambiguous_cities[row[\"City\"]]"
   ]
  },
  {
   "cell_type": "code",
   "execution_count": 34,
   "metadata": {},
   "outputs": [
    {
     "data": {
      "text/plain": [
       "[{'Notice Date': '06/22/2015',\n",
       "  'Effective Date': '03/25/2016',\n",
       "  'Received Date': '07/01/2015',\n",
       "  'Company': 'Maxim Integrated Product',\n",
       "  'City': 'San Jose',\n",
       "  'County': 'Santa Clara County',\n",
       "  'Employees': 150.0,\n",
       "  'Layoff/Closure': 'Closure Permanent',\n",
       "  'Company 2': 'MAXIM INTEGRATED PRODUCT',\n",
       "  'County Orig': nan,\n",
       "  'Year': 2015,\n",
       "  'Layoff/Closure clean': 'closure permanent'},\n",
       " {'Notice Date': '06/30/2015',\n",
       "  'Effective Date': '08/29/2015',\n",
       "  'Received Date': '07/01/2015',\n",
       "  'Company': 'McGraw-Hill Education',\n",
       "  'City': 'Monterey',\n",
       "  'County': 'Monterey County',\n",
       "  'Employees': 137.0,\n",
       "  'Layoff/Closure': 'Layoff Unknown at this time',\n",
       "  'Company 2': 'MCGRAWHILL EDUCATION',\n",
       "  'County Orig': nan,\n",
       "  'Year': 2015,\n",
       "  'Layoff/Closure clean': 'layoff type uncategorized'}]"
      ]
     },
     "execution_count": 34,
     "metadata": {},
     "output_type": "execute_result"
    }
   ],
   "source": [
    "# Take a look at a random record\n",
    "\n",
    "rows_with_no_county[:2]"
   ]
  },
  {
   "cell_type": "code",
   "execution_count": 35,
   "metadata": {},
   "outputs": [],
   "source": [
    "# Makes list from cities that have more than one value\n",
    "\n",
    "ambiguous_cities = [pair for pair in city_to_counties.items() if len(pair[1]) > 1]"
   ]
  },
  {
   "cell_type": "code",
   "execution_count": 36,
   "metadata": {},
   "outputs": [
    {
     "data": {
      "text/plain": [
       "[('Sacramento', {'Del Norte County', 'Sacramento County'}),\n",
       " ('San Francisco', {'San Francisco County', 'San Mateo County'}),\n",
       " ('Walnut Creek', {'Alameda County', 'Contra Costa County'}),\n",
       " ('Los Angeles', {'Alameda County', 'Los Angeles County'}),\n",
       " ('Hayward', {'Alameda County', 'Contra Costa County'}),\n",
       " ('City of Industry', {'Los Angeles County', 'Orange County'}),\n",
       " ('Roseville', {'Placer County', 'Sacramento County'}),\n",
       " ('Berkeley', {'Alameda County', 'Contra Costa County'}),\n",
       " ('Cerritos', {'Los Angeles County', 'Orange County'}),\n",
       " ('Vista', {'San Diego County', 'San Francisco County'}),\n",
       " ('Del Mar', {'Orange County', 'San Diego County'}),\n",
       " ('Indian Wells', {'Riverside County', 'San Benito County'}),\n",
       " ('Rancho', {'Los Angeles County', 'San Bernardino County'}),\n",
       " ('Los Gatos', {'Santa Clara County', 'Santa Cruz County'})]"
      ]
     },
     "execution_count": 36,
     "metadata": {},
     "output_type": "execute_result"
    }
   ],
   "source": [
    "# shows the list of cities with more than one county listed\n",
    "\n",
    "ambiguous_cities"
   ]
  },
  {
   "cell_type": "markdown",
   "metadata": {},
   "source": [
    "### Manual research narrowed down which cities actually belonged to which counties\n",
    "resulting in our updated `ambiguous_cities` dictionary. `Rancho` is the only city on the list where the two counties actually have cities with the same name. It will be left off the list. \n",
    "\n",
    "***The dictionary below may need further manual adjusting if this notebook is being run with updated data.***"
   ]
  },
  {
   "cell_type": "code",
   "execution_count": 37,
   "metadata": {},
   "outputs": [],
   "source": [
    "dict_cities = {\n",
    "    'Sacramento':'Sacramento County',\n",
    "    'San Francisco':'San Francisco County',\n",
    "    'Hayward':'Alameda County',\n",
    "    'Indian Wells':'Riverside County',\n",
    "    'Cerritos':'Los Angeles County',\n",
    "    'Vista':'San Diego County',\n",
    "    'Roseville':'Placer County',\n",
    "    'City of Industry':'Los Angeles County',\n",
    "    'Del Mar':'San Diego County',\n",
    "    'Walnut Creek':'Contra Costa County',\n",
    "    'Los Gatos':'Santa Clara County',\n",
    "    'Los Angeles':'Los Angeles County',\n",
    "    'Berkeley': 'Alameda County'\n",
    "}"
   ]
  },
  {
   "cell_type": "markdown",
   "metadata": {},
   "source": [
    "### Clean County Names\n",
    "Below is our code to correct County Names based on City Names. \n",
    "We are taking the dictionary above, looping through the city and county names, which are the keys and values, replacing the incorrect County Name with the correct one for each city's record."
   ]
  },
  {
   "cell_type": "code",
   "execution_count": 38,
   "metadata": {},
   "outputs": [],
   "source": [
    "for city, county in dict_cities.items():\n",
    "    cali_layoffs.loc[cali_layoffs['City'] == city, ['County']] = county"
   ]
  },
  {
   "cell_type": "code",
   "execution_count": 39,
   "metadata": {},
   "outputs": [
    {
     "data": {
      "text/html": [
       "<div>\n",
       "<style scoped>\n",
       "    .dataframe tbody tr th:only-of-type {\n",
       "        vertical-align: middle;\n",
       "    }\n",
       "\n",
       "    .dataframe tbody tr th {\n",
       "        vertical-align: top;\n",
       "    }\n",
       "\n",
       "    .dataframe thead th {\n",
       "        text-align: right;\n",
       "    }\n",
       "</style>\n",
       "<table border=\"1\" class=\"dataframe\">\n",
       "  <thead>\n",
       "    <tr style=\"text-align: right;\">\n",
       "      <th></th>\n",
       "      <th>Notice Date</th>\n",
       "      <th>Effective Date</th>\n",
       "      <th>Received Date</th>\n",
       "      <th>Company</th>\n",
       "      <th>City</th>\n",
       "      <th>County</th>\n",
       "      <th>Employees</th>\n",
       "      <th>Layoff/Closure</th>\n",
       "      <th>Company 2</th>\n",
       "      <th>County Orig</th>\n",
       "      <th>Year</th>\n",
       "      <th>Layoff/Closure clean</th>\n",
       "    </tr>\n",
       "  </thead>\n",
       "  <tbody>\n",
       "    <tr>\n",
       "      <th>3060</th>\n",
       "      <td>04/26/2019</td>\n",
       "      <td>06/30/2019</td>\n",
       "      <td>04/26/2019</td>\n",
       "      <td>Covia Communities</td>\n",
       "      <td>Los Gatos</td>\n",
       "      <td>Santa Clara County</td>\n",
       "      <td>66.0</td>\n",
       "      <td>Closure Permanent</td>\n",
       "      <td>COVIA COMMUNITIES</td>\n",
       "      <td>Santa Clara</td>\n",
       "      <td>2019</td>\n",
       "      <td>closure permanent</td>\n",
       "    </tr>\n",
       "    <tr>\n",
       "      <th>3173</th>\n",
       "      <td>06/03/2019</td>\n",
       "      <td>10/01/2019</td>\n",
       "      <td>06/04/2019</td>\n",
       "      <td>Roche Molecular Systems, Inc.</td>\n",
       "      <td>Los Gatos</td>\n",
       "      <td>Santa Clara County</td>\n",
       "      <td>17.0</td>\n",
       "      <td>Closure Permanent</td>\n",
       "      <td>ROCHE MOLECULAR SYSTEMS INC</td>\n",
       "      <td>Santa Clara</td>\n",
       "      <td>2019</td>\n",
       "      <td>closure permanent</td>\n",
       "    </tr>\n",
       "    <tr>\n",
       "      <th>3327</th>\n",
       "      <td>09/01/2016</td>\n",
       "      <td>11/01/2016</td>\n",
       "      <td>09/02/2016</td>\n",
       "      <td>Valley Medical Oncology Consultants</td>\n",
       "      <td>Los Gatos</td>\n",
       "      <td>Santa Clara County</td>\n",
       "      <td>29.0</td>\n",
       "      <td>Layoff Permanent</td>\n",
       "      <td>VALLEY MEDICAL ONCOLOGY CONSULTANTS</td>\n",
       "      <td>NaN</td>\n",
       "      <td>2016</td>\n",
       "      <td>layoff permanent</td>\n",
       "    </tr>\n",
       "    <tr>\n",
       "      <th>4043</th>\n",
       "      <td>10/01/2014</td>\n",
       "      <td>12/31/2014</td>\n",
       "      <td>10/16/2014</td>\n",
       "      <td>Prometheus Real Estate Group</td>\n",
       "      <td>Los Gatos</td>\n",
       "      <td>Santa Clara County</td>\n",
       "      <td>8.0</td>\n",
       "      <td>Layoff Permanent</td>\n",
       "      <td>PROMETHEUS REAL ESTATE GROUP</td>\n",
       "      <td>NaN</td>\n",
       "      <td>2014</td>\n",
       "      <td>layoff permanent</td>\n",
       "    </tr>\n",
       "    <tr>\n",
       "      <th>4406</th>\n",
       "      <td>03/27/2015</td>\n",
       "      <td>03/16/2015</td>\n",
       "      <td>03/27/2015</td>\n",
       "      <td>Cryptic Studios, Inc.</td>\n",
       "      <td>Los Gatos</td>\n",
       "      <td>Santa Clara County</td>\n",
       "      <td>27.0</td>\n",
       "      <td>Layoff Permanent</td>\n",
       "      <td>CRYPTIC STUDIOS INC</td>\n",
       "      <td>NaN</td>\n",
       "      <td>2015</td>\n",
       "      <td>layoff permanent</td>\n",
       "    </tr>\n",
       "    <tr>\n",
       "      <th>4658</th>\n",
       "      <td>06/23/2020</td>\n",
       "      <td>08/20/2020</td>\n",
       "      <td>06/29/2020</td>\n",
       "      <td>Boston Scientific Corporation</td>\n",
       "      <td>Los Gatos</td>\n",
       "      <td>Santa Clara County</td>\n",
       "      <td>60.0</td>\n",
       "      <td>Closure Permanent</td>\n",
       "      <td>BOSTON SCIENTIFIC CORPORATION</td>\n",
       "      <td>Santa Clara County</td>\n",
       "      <td>2020</td>\n",
       "      <td>closure permanent</td>\n",
       "    </tr>\n",
       "    <tr>\n",
       "      <th>4750</th>\n",
       "      <td>06/09/2020</td>\n",
       "      <td>06/07/2020</td>\n",
       "      <td>06/24/2020</td>\n",
       "      <td>Bay Club Courtside</td>\n",
       "      <td>Los Gatos</td>\n",
       "      <td>Santa Clara County</td>\n",
       "      <td>294.0</td>\n",
       "      <td>Layoff Permanent</td>\n",
       "      <td>BAY CLUB COURTSIDE</td>\n",
       "      <td>Santa Clara County</td>\n",
       "      <td>2020</td>\n",
       "      <td>layoff permanent</td>\n",
       "    </tr>\n",
       "    <tr>\n",
       "      <th>5656</th>\n",
       "      <td>03/30/2020</td>\n",
       "      <td>03/17/2020</td>\n",
       "      <td>05/20/2020</td>\n",
       "      <td>BACK OF THE HOUSE DBA SUPER DUPER</td>\n",
       "      <td>Los Gatos</td>\n",
       "      <td>Santa Clara County</td>\n",
       "      <td>30.0</td>\n",
       "      <td>Layoff Temporary</td>\n",
       "      <td>BACK OF THE HOUSE DBA SUPER DUPER</td>\n",
       "      <td>Santa Clara County</td>\n",
       "      <td>2020</td>\n",
       "      <td>layoff temporary</td>\n",
       "    </tr>\n",
       "  </tbody>\n",
       "</table>\n",
       "</div>"
      ],
      "text/plain": [
       "     Notice Date Effective Date Received Date  \\\n",
       "3060  04/26/2019     06/30/2019    04/26/2019   \n",
       "3173  06/03/2019     10/01/2019    06/04/2019   \n",
       "3327  09/01/2016     11/01/2016    09/02/2016   \n",
       "4043  10/01/2014     12/31/2014    10/16/2014   \n",
       "4406  03/27/2015     03/16/2015    03/27/2015   \n",
       "4658  06/23/2020     08/20/2020    06/29/2020   \n",
       "4750  06/09/2020     06/07/2020    06/24/2020   \n",
       "5656  03/30/2020     03/17/2020    05/20/2020   \n",
       "\n",
       "                                  Company       City              County  \\\n",
       "3060                    Covia Communities  Los Gatos  Santa Clara County   \n",
       "3173        Roche Molecular Systems, Inc.  Los Gatos  Santa Clara County   \n",
       "3327  Valley Medical Oncology Consultants  Los Gatos  Santa Clara County   \n",
       "4043         Prometheus Real Estate Group  Los Gatos  Santa Clara County   \n",
       "4406                Cryptic Studios, Inc.  Los Gatos  Santa Clara County   \n",
       "4658        Boston Scientific Corporation  Los Gatos  Santa Clara County   \n",
       "4750                   Bay Club Courtside  Los Gatos  Santa Clara County   \n",
       "5656    BACK OF THE HOUSE DBA SUPER DUPER  Los Gatos  Santa Clara County   \n",
       "\n",
       "      Employees     Layoff/Closure                            Company 2  \\\n",
       "3060       66.0  Closure Permanent                    COVIA COMMUNITIES   \n",
       "3173       17.0  Closure Permanent          ROCHE MOLECULAR SYSTEMS INC   \n",
       "3327       29.0   Layoff Permanent  VALLEY MEDICAL ONCOLOGY CONSULTANTS   \n",
       "4043        8.0   Layoff Permanent         PROMETHEUS REAL ESTATE GROUP   \n",
       "4406       27.0   Layoff Permanent                  CRYPTIC STUDIOS INC   \n",
       "4658       60.0  Closure Permanent        BOSTON SCIENTIFIC CORPORATION   \n",
       "4750      294.0   Layoff Permanent                   BAY CLUB COURTSIDE   \n",
       "5656       30.0   Layoff Temporary    BACK OF THE HOUSE DBA SUPER DUPER   \n",
       "\n",
       "             County Orig  Year Layoff/Closure clean  \n",
       "3060         Santa Clara  2019    closure permanent  \n",
       "3173         Santa Clara  2019    closure permanent  \n",
       "3327                 NaN  2016     layoff permanent  \n",
       "4043                 NaN  2014     layoff permanent  \n",
       "4406                 NaN  2015     layoff permanent  \n",
       "4658  Santa Clara County  2020    closure permanent  \n",
       "4750  Santa Clara County  2020     layoff permanent  \n",
       "5656  Santa Clara County  2020     layoff temporary  "
      ]
     },
     "execution_count": 39,
     "metadata": {},
     "output_type": "execute_result"
    }
   ],
   "source": [
    "# Take a look at a city - compare the County column with the County Orig column.\n",
    "# The County column should have the correct county for each entry\n",
    "# The County Orig column may have some missing values and/or incorrect county names\n",
    "\n",
    "los_gatos_clean = cali_layoffs[cali_layoffs['City'] == 'Los Gatos']\n",
    "los_gatos_clean.head(8)"
   ]
  },
  {
   "cell_type": "markdown",
   "metadata": {},
   "source": [
    "### Adding Population Data\n",
    "\n",
    "The data has been grabbed from the census link above. These figures will be used to calculate per capita layoff numbers per county."
   ]
  },
  {
   "cell_type": "code",
   "execution_count": 40,
   "metadata": {},
   "outputs": [
    {
     "data": {
      "text/html": [
       "<div>\n",
       "<style scoped>\n",
       "    .dataframe tbody tr th:only-of-type {\n",
       "        vertical-align: middle;\n",
       "    }\n",
       "\n",
       "    .dataframe tbody tr th {\n",
       "        vertical-align: top;\n",
       "    }\n",
       "\n",
       "    .dataframe thead th {\n",
       "        text-align: right;\n",
       "    }\n",
       "</style>\n",
       "<table border=\"1\" class=\"dataframe\">\n",
       "  <thead>\n",
       "    <tr style=\"text-align: right;\">\n",
       "      <th></th>\n",
       "      <th>Counties</th>\n",
       "      <th>Population</th>\n",
       "      <th>County Names</th>\n",
       "    </tr>\n",
       "  </thead>\n",
       "  <tbody>\n",
       "    <tr>\n",
       "      <th>0</th>\n",
       "      <td>.Alameda County, California</td>\n",
       "      <td>1671329</td>\n",
       "      <td>Alameda County</td>\n",
       "    </tr>\n",
       "    <tr>\n",
       "      <th>1</th>\n",
       "      <td>.Alpine County, California</td>\n",
       "      <td>1129</td>\n",
       "      <td>Alpine County</td>\n",
       "    </tr>\n",
       "    <tr>\n",
       "      <th>2</th>\n",
       "      <td>.Amador County, California</td>\n",
       "      <td>39752</td>\n",
       "      <td>Amador County</td>\n",
       "    </tr>\n",
       "    <tr>\n",
       "      <th>3</th>\n",
       "      <td>.Butte County, California</td>\n",
       "      <td>219186</td>\n",
       "      <td>Butte County</td>\n",
       "    </tr>\n",
       "  </tbody>\n",
       "</table>\n",
       "</div>"
      ],
      "text/plain": [
       "                      Counties  Population    County Names\n",
       "0  .Alameda County, California     1671329  Alameda County\n",
       "1   .Alpine County, California        1129   Alpine County\n",
       "2   .Amador County, California       39752   Amador County\n",
       "3    .Butte County, California      219186    Butte County"
      ]
     },
     "execution_count": 40,
     "metadata": {},
     "output_type": "execute_result"
    }
   ],
   "source": [
    "# Here we rename columns\n",
    "# We do some data cleaning on the County Names column which has an extra character at the beginning\n",
    "# We split on the comma and keep the first part of the entry because we already know it's California data\n",
    "\n",
    "cali_population.rename(columns={'California':'Counties','39,512,223':'Population'}, inplace=True)\n",
    "cali_population['County Names'] = cali_population['Counties'].str[1:]\n",
    "cali_population['County Names'] = cali_population['County Names'].str.split(',').str[0]\n",
    "cali_population.head(4)"
   ]
  },
  {
   "cell_type": "code",
   "execution_count": 41,
   "metadata": {},
   "outputs": [
    {
     "data": {
      "text/html": [
       "<div>\n",
       "<style scoped>\n",
       "    .dataframe tbody tr th:only-of-type {\n",
       "        vertical-align: middle;\n",
       "    }\n",
       "\n",
       "    .dataframe tbody tr th {\n",
       "        vertical-align: top;\n",
       "    }\n",
       "\n",
       "    .dataframe thead th {\n",
       "        text-align: right;\n",
       "    }\n",
       "</style>\n",
       "<table border=\"1\" class=\"dataframe\">\n",
       "  <thead>\n",
       "    <tr style=\"text-align: right;\">\n",
       "      <th></th>\n",
       "      <th>Notice Date</th>\n",
       "      <th>Effective Date</th>\n",
       "      <th>Received Date</th>\n",
       "      <th>Company</th>\n",
       "      <th>City</th>\n",
       "      <th>County</th>\n",
       "      <th>Employees</th>\n",
       "      <th>Layoff/Closure</th>\n",
       "      <th>Company 2</th>\n",
       "      <th>County Orig</th>\n",
       "      <th>Year</th>\n",
       "      <th>Layoff/Closure clean</th>\n",
       "      <th>Population</th>\n",
       "      <th>County Names</th>\n",
       "      <th>City 2</th>\n",
       "    </tr>\n",
       "  </thead>\n",
       "  <tbody>\n",
       "    <tr>\n",
       "      <th>0</th>\n",
       "      <td>06/09/2020</td>\n",
       "      <td>06/07/2020</td>\n",
       "      <td>07/01/2020</td>\n",
       "      <td>Bay Club Redondo Beach</td>\n",
       "      <td>Redondo Beach</td>\n",
       "      <td>Los Angeles County</td>\n",
       "      <td>102.0</td>\n",
       "      <td>Layoff Permanent</td>\n",
       "      <td>BAY CLUB REDONDO BEACH</td>\n",
       "      <td>Los Angeles County</td>\n",
       "      <td>2020</td>\n",
       "      <td>layoff permanent</td>\n",
       "      <td>10039107.0</td>\n",
       "      <td>Los Angeles County</td>\n",
       "      <td>redondo beach</td>\n",
       "    </tr>\n",
       "    <tr>\n",
       "      <th>1</th>\n",
       "      <td>06/09/2020</td>\n",
       "      <td>06/07/2020</td>\n",
       "      <td>07/01/2020</td>\n",
       "      <td>Bay Club Rolling Hills</td>\n",
       "      <td>Rolling Hills Estates</td>\n",
       "      <td>Los Angeles County</td>\n",
       "      <td>64.0</td>\n",
       "      <td>Layoff Permanent</td>\n",
       "      <td>BAY CLUB ROLLING HILLS</td>\n",
       "      <td>Los Angeles County</td>\n",
       "      <td>2020</td>\n",
       "      <td>layoff permanent</td>\n",
       "      <td>10039107.0</td>\n",
       "      <td>Los Angeles County</td>\n",
       "      <td>rolling hills estates</td>\n",
       "    </tr>\n",
       "    <tr>\n",
       "      <th>2</th>\n",
       "      <td>06/09/2020</td>\n",
       "      <td>06/07/2020</td>\n",
       "      <td>07/01/2020</td>\n",
       "      <td>Bay Club Santa Monica</td>\n",
       "      <td>Santa Monica</td>\n",
       "      <td>Los Angeles County</td>\n",
       "      <td>82.0</td>\n",
       "      <td>Layoff Permanent</td>\n",
       "      <td>BAY CLUB SANTA MONICA</td>\n",
       "      <td>Los Angeles County</td>\n",
       "      <td>2020</td>\n",
       "      <td>layoff permanent</td>\n",
       "      <td>10039107.0</td>\n",
       "      <td>Los Angeles County</td>\n",
       "      <td>santa monica</td>\n",
       "    </tr>\n",
       "    <tr>\n",
       "      <th>3</th>\n",
       "      <td>06/19/2020</td>\n",
       "      <td>08/21/2020</td>\n",
       "      <td>07/01/2020</td>\n",
       "      <td>Weber Metals, Inc</td>\n",
       "      <td>Paramount</td>\n",
       "      <td>Los Angeles County</td>\n",
       "      <td>169.0</td>\n",
       "      <td>Layoff Permanent</td>\n",
       "      <td>WEBER METALS INC</td>\n",
       "      <td>Los Angeles County</td>\n",
       "      <td>2020</td>\n",
       "      <td>layoff permanent</td>\n",
       "      <td>10039107.0</td>\n",
       "      <td>Los Angeles County</td>\n",
       "      <td>paramount</td>\n",
       "    </tr>\n",
       "    <tr>\n",
       "      <th>4</th>\n",
       "      <td>06/09/2020</td>\n",
       "      <td>06/07/2020</td>\n",
       "      <td>07/01/2020</td>\n",
       "      <td>StoneTree Golf Club</td>\n",
       "      <td>Novato</td>\n",
       "      <td>Marin County</td>\n",
       "      <td>32.0</td>\n",
       "      <td>Layoff Permanent</td>\n",
       "      <td>STONETREE GOLF CLUB</td>\n",
       "      <td>Marin County</td>\n",
       "      <td>2020</td>\n",
       "      <td>layoff permanent</td>\n",
       "      <td>258826.0</td>\n",
       "      <td>Marin County</td>\n",
       "      <td>novato</td>\n",
       "    </tr>\n",
       "  </tbody>\n",
       "</table>\n",
       "</div>"
      ],
      "text/plain": [
       "  Notice Date Effective Date Received Date                 Company  \\\n",
       "0  06/09/2020     06/07/2020    07/01/2020  Bay Club Redondo Beach   \n",
       "1  06/09/2020     06/07/2020    07/01/2020  Bay Club Rolling Hills   \n",
       "2  06/09/2020     06/07/2020    07/01/2020   Bay Club Santa Monica   \n",
       "3  06/19/2020     08/21/2020    07/01/2020       Weber Metals, Inc   \n",
       "4  06/09/2020     06/07/2020    07/01/2020     StoneTree Golf Club   \n",
       "\n",
       "                    City              County  Employees    Layoff/Closure  \\\n",
       "0          Redondo Beach  Los Angeles County      102.0  Layoff Permanent   \n",
       "1  Rolling Hills Estates  Los Angeles County       64.0  Layoff Permanent   \n",
       "2           Santa Monica  Los Angeles County       82.0  Layoff Permanent   \n",
       "3              Paramount  Los Angeles County      169.0  Layoff Permanent   \n",
       "4                 Novato        Marin County       32.0  Layoff Permanent   \n",
       "\n",
       "                Company 2         County Orig  Year Layoff/Closure clean  \\\n",
       "0  BAY CLUB REDONDO BEACH  Los Angeles County  2020     layoff permanent   \n",
       "1  BAY CLUB ROLLING HILLS  Los Angeles County  2020     layoff permanent   \n",
       "2   BAY CLUB SANTA MONICA  Los Angeles County  2020     layoff permanent   \n",
       "3        WEBER METALS INC  Los Angeles County  2020     layoff permanent   \n",
       "4     STONETREE GOLF CLUB        Marin County  2020     layoff permanent   \n",
       "\n",
       "   Population        County Names                 City 2  \n",
       "0  10039107.0  Los Angeles County          redondo beach  \n",
       "1  10039107.0  Los Angeles County  rolling hills estates  \n",
       "2  10039107.0  Los Angeles County           santa monica  \n",
       "3  10039107.0  Los Angeles County              paramount  \n",
       "4    258826.0        Marin County                 novato  "
      ]
     },
     "execution_count": 41,
     "metadata": {},
     "output_type": "execute_result"
    }
   ],
   "source": [
    "# Here the layoffs and population data gets merged\n",
    "# Duplicate columns such as Counties are dropped\n",
    "# city 2 is created as a lowercase version of the original city column\n",
    "\n",
    "cali_merge = pd.merge(cali_layoffs, cali_population, how=\"left\", left_on=\"County\", right_on=\"County Names\")\n",
    "cali_merge.drop(columns='Counties', inplace=True)\n",
    "cali_merge['City 2'] = cali_merge['City'].str.lower()\n",
    "cali_merge.head()"
   ]
  },
  {
   "cell_type": "markdown",
   "metadata": {},
   "source": [
    "### Extracting Only Necessary Records\n",
    "\n",
    "Now that the data has been transformed to a more usable version, we will be selecting the records that have a notice date from the year 2020 or 2019. This will allow for comparisons between a pandemic and non-pandemic year in terms of layoff notices. "
   ]
  },
  {
   "cell_type": "code",
   "execution_count": 42,
   "metadata": {},
   "outputs": [
    {
     "name": "stderr",
     "output_type": "stream",
     "text": [
      "/Users/dilcia_mercedes/.local/share/virtualenvs/cali_WARN-MY_IDcvv/lib/python3.8/site-packages/pandas/core/frame.py:4162: SettingWithCopyWarning: \n",
      "A value is trying to be set on a copy of a slice from a DataFrame\n",
      "\n",
      "See the caveats in the documentation: https://pandas.pydata.org/pandas-docs/stable/user_guide/indexing.html#returning-a-view-versus-a-copy\n",
      "  return super().drop(\n"
     ]
    },
    {
     "data": {
      "text/html": [
       "<div>\n",
       "<style scoped>\n",
       "    .dataframe tbody tr th:only-of-type {\n",
       "        vertical-align: middle;\n",
       "    }\n",
       "\n",
       "    .dataframe tbody tr th {\n",
       "        vertical-align: top;\n",
       "    }\n",
       "\n",
       "    .dataframe thead th {\n",
       "        text-align: right;\n",
       "    }\n",
       "</style>\n",
       "<table border=\"1\" class=\"dataframe\">\n",
       "  <thead>\n",
       "    <tr style=\"text-align: right;\">\n",
       "      <th></th>\n",
       "      <th>Notice Date</th>\n",
       "      <th>Effective Date</th>\n",
       "      <th>Received Date</th>\n",
       "      <th>Company</th>\n",
       "      <th>City</th>\n",
       "      <th>County</th>\n",
       "      <th>Employees</th>\n",
       "      <th>Layoff/Closure</th>\n",
       "      <th>Company 2</th>\n",
       "      <th>County Orig</th>\n",
       "      <th>Year</th>\n",
       "      <th>Layoff/Closure clean</th>\n",
       "      <th>Population</th>\n",
       "      <th>City 2</th>\n",
       "    </tr>\n",
       "  </thead>\n",
       "  <tbody>\n",
       "    <tr>\n",
       "      <th>0</th>\n",
       "      <td>06/09/2020</td>\n",
       "      <td>06/07/2020</td>\n",
       "      <td>07/01/2020</td>\n",
       "      <td>Bay Club Redondo Beach</td>\n",
       "      <td>Redondo Beach</td>\n",
       "      <td>Los Angeles County</td>\n",
       "      <td>102.0</td>\n",
       "      <td>Layoff Permanent</td>\n",
       "      <td>BAY CLUB REDONDO BEACH</td>\n",
       "      <td>Los Angeles County</td>\n",
       "      <td>2020</td>\n",
       "      <td>layoff permanent</td>\n",
       "      <td>10039107.0</td>\n",
       "      <td>redondo beach</td>\n",
       "    </tr>\n",
       "    <tr>\n",
       "      <th>1</th>\n",
       "      <td>06/09/2020</td>\n",
       "      <td>06/07/2020</td>\n",
       "      <td>07/01/2020</td>\n",
       "      <td>Bay Club Rolling Hills</td>\n",
       "      <td>Rolling Hills Estates</td>\n",
       "      <td>Los Angeles County</td>\n",
       "      <td>64.0</td>\n",
       "      <td>Layoff Permanent</td>\n",
       "      <td>BAY CLUB ROLLING HILLS</td>\n",
       "      <td>Los Angeles County</td>\n",
       "      <td>2020</td>\n",
       "      <td>layoff permanent</td>\n",
       "      <td>10039107.0</td>\n",
       "      <td>rolling hills estates</td>\n",
       "    </tr>\n",
       "    <tr>\n",
       "      <th>2</th>\n",
       "      <td>06/09/2020</td>\n",
       "      <td>06/07/2020</td>\n",
       "      <td>07/01/2020</td>\n",
       "      <td>Bay Club Santa Monica</td>\n",
       "      <td>Santa Monica</td>\n",
       "      <td>Los Angeles County</td>\n",
       "      <td>82.0</td>\n",
       "      <td>Layoff Permanent</td>\n",
       "      <td>BAY CLUB SANTA MONICA</td>\n",
       "      <td>Los Angeles County</td>\n",
       "      <td>2020</td>\n",
       "      <td>layoff permanent</td>\n",
       "      <td>10039107.0</td>\n",
       "      <td>santa monica</td>\n",
       "    </tr>\n",
       "    <tr>\n",
       "      <th>3</th>\n",
       "      <td>06/19/2020</td>\n",
       "      <td>08/21/2020</td>\n",
       "      <td>07/01/2020</td>\n",
       "      <td>Weber Metals, Inc</td>\n",
       "      <td>Paramount</td>\n",
       "      <td>Los Angeles County</td>\n",
       "      <td>169.0</td>\n",
       "      <td>Layoff Permanent</td>\n",
       "      <td>WEBER METALS INC</td>\n",
       "      <td>Los Angeles County</td>\n",
       "      <td>2020</td>\n",
       "      <td>layoff permanent</td>\n",
       "      <td>10039107.0</td>\n",
       "      <td>paramount</td>\n",
       "    </tr>\n",
       "    <tr>\n",
       "      <th>4</th>\n",
       "      <td>06/09/2020</td>\n",
       "      <td>06/07/2020</td>\n",
       "      <td>07/01/2020</td>\n",
       "      <td>StoneTree Golf Club</td>\n",
       "      <td>Novato</td>\n",
       "      <td>Marin County</td>\n",
       "      <td>32.0</td>\n",
       "      <td>Layoff Permanent</td>\n",
       "      <td>STONETREE GOLF CLUB</td>\n",
       "      <td>Marin County</td>\n",
       "      <td>2020</td>\n",
       "      <td>layoff permanent</td>\n",
       "      <td>258826.0</td>\n",
       "      <td>novato</td>\n",
       "    </tr>\n",
       "  </tbody>\n",
       "</table>\n",
       "</div>"
      ],
      "text/plain": [
       "  Notice Date Effective Date Received Date                 Company  \\\n",
       "0  06/09/2020     06/07/2020    07/01/2020  Bay Club Redondo Beach   \n",
       "1  06/09/2020     06/07/2020    07/01/2020  Bay Club Rolling Hills   \n",
       "2  06/09/2020     06/07/2020    07/01/2020   Bay Club Santa Monica   \n",
       "3  06/19/2020     08/21/2020    07/01/2020       Weber Metals, Inc   \n",
       "4  06/09/2020     06/07/2020    07/01/2020     StoneTree Golf Club   \n",
       "\n",
       "                    City              County  Employees    Layoff/Closure  \\\n",
       "0          Redondo Beach  Los Angeles County      102.0  Layoff Permanent   \n",
       "1  Rolling Hills Estates  Los Angeles County       64.0  Layoff Permanent   \n",
       "2           Santa Monica  Los Angeles County       82.0  Layoff Permanent   \n",
       "3              Paramount  Los Angeles County      169.0  Layoff Permanent   \n",
       "4                 Novato        Marin County       32.0  Layoff Permanent   \n",
       "\n",
       "                Company 2         County Orig  Year Layoff/Closure clean  \\\n",
       "0  BAY CLUB REDONDO BEACH  Los Angeles County  2020     layoff permanent   \n",
       "1  BAY CLUB ROLLING HILLS  Los Angeles County  2020     layoff permanent   \n",
       "2   BAY CLUB SANTA MONICA  Los Angeles County  2020     layoff permanent   \n",
       "3        WEBER METALS INC  Los Angeles County  2020     layoff permanent   \n",
       "4     STONETREE GOLF CLUB        Marin County  2020     layoff permanent   \n",
       "\n",
       "   Population                 City 2  \n",
       "0  10039107.0          redondo beach  \n",
       "1  10039107.0  rolling hills estates  \n",
       "2  10039107.0           santa monica  \n",
       "3  10039107.0              paramount  \n",
       "4    258826.0                 novato  "
      ]
     },
     "execution_count": 42,
     "metadata": {},
     "output_type": "execute_result"
    }
   ],
   "source": [
    "# Creates a list of the 2 years we will be analyzing\n",
    "# Creates a new dataframe from just the records that fall within the range of the two years listed above\n",
    "\n",
    "years = ['2020', '2019']\n",
    "\n",
    "cali_2020_2019 = cali_merge[cali_merge[\"Year\"].isin(years)]\n",
    "cali_2020_2019.drop(columns='County Names', inplace=True)\n",
    "cali_2020_2019.head()"
   ]
  },
  {
   "cell_type": "code",
   "execution_count": 43,
   "metadata": {},
   "outputs": [
    {
     "data": {
      "text/plain": [
       "6708"
      ]
     },
     "execution_count": 43,
     "metadata": {},
     "output_type": "execute_result"
    }
   ],
   "source": [
    "# Get length of the new dataset\n",
    "\n",
    "len(cali_2020_2019)"
   ]
  },
  {
   "cell_type": "markdown",
   "metadata": {},
   "source": [
    "### Export to Open Refine\n",
    "\n",
    "Now that the data has gone through some necessary transformations, we will export the file to OpenRefine. [OpenRefine](https://openrefine.org/) is software for standardizing and further cleaning data. This is a manual process which will be explained in the [open_refine_dedupe.ipynb](https://github.com/biglocalnews/WARN_Cali_analysis/blob/master/notebooks/open_refine_dedupe.ipynb). "
   ]
  },
  {
   "cell_type": "code",
   "execution_count": 44,
   "metadata": {},
   "outputs": [],
   "source": [
    "cali_2020_2019.to_csv('../data/open_refine/clean_warn_data.csv', index=False)"
   ]
  }
 ],
 "metadata": {
  "kernelspec": {
   "display_name": "Python 3",
   "language": "python",
   "name": "python3"
  },
  "language_info": {
   "codemirror_mode": {
    "name": "ipython",
    "version": 3
   },
   "file_extension": ".py",
   "mimetype": "text/x-python",
   "name": "python",
   "nbconvert_exporter": "python",
   "pygments_lexer": "ipython3",
   "version": "3.8.1"
  }
 },
 "nbformat": 4,
 "nbformat_minor": 4
}
