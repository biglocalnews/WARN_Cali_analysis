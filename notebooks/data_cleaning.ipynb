{
 "cells": [
  {
   "cell_type": "code",
   "execution_count": 1,
   "metadata": {},
   "outputs": [],
   "source": [
    "import pandas as pd\n",
    "import numpy as np\n",
    "import csv"
   ]
  },
  {
   "cell_type": "code",
   "execution_count": 2,
   "metadata": {},
   "outputs": [],
   "source": [
    "cali_layoffs = pd.read_csv('../data/cleaning/california_warn_raw_recent.csv')\n",
    "cali_population = pd.read_csv('../data/cleaning/county_population.csv', delimiter='\\t', thousands=',')"
   ]
  },
  {
   "cell_type": "code",
   "execution_count": 3,
   "metadata": {},
   "outputs": [
    {
     "data": {
      "text/html": [
       "<div>\n",
       "<style scoped>\n",
       "    .dataframe tbody tr th:only-of-type {\n",
       "        vertical-align: middle;\n",
       "    }\n",
       "\n",
       "    .dataframe tbody tr th {\n",
       "        vertical-align: top;\n",
       "    }\n",
       "\n",
       "    .dataframe thead th {\n",
       "        text-align: right;\n",
       "    }\n",
       "</style>\n",
       "<table border=\"1\" class=\"dataframe\">\n",
       "  <thead>\n",
       "    <tr style=\"text-align: right;\">\n",
       "      <th></th>\n",
       "      <th>Notice Date</th>\n",
       "      <th>Effective Date</th>\n",
       "      <th>Received Date</th>\n",
       "      <th>Company</th>\n",
       "      <th>City</th>\n",
       "      <th>County</th>\n",
       "      <th>Employees</th>\n",
       "      <th>Layoff/Closure</th>\n",
       "    </tr>\n",
       "  </thead>\n",
       "  <tbody>\n",
       "    <tr>\n",
       "      <th>0</th>\n",
       "      <td>06/09/2020</td>\n",
       "      <td>06/07/2020</td>\n",
       "      <td>07/01/2020</td>\n",
       "      <td>Bay Club Redondo Beach</td>\n",
       "      <td>Redondo Beach</td>\n",
       "      <td>Los Angeles County</td>\n",
       "      <td>102.0</td>\n",
       "      <td>Layoff Permanent</td>\n",
       "    </tr>\n",
       "    <tr>\n",
       "      <th>1</th>\n",
       "      <td>06/09/2020</td>\n",
       "      <td>06/07/2020</td>\n",
       "      <td>07/01/2020</td>\n",
       "      <td>Bay Club Rolling Hills</td>\n",
       "      <td>Rolling Hills Estates</td>\n",
       "      <td>Los Angeles County</td>\n",
       "      <td>64.0</td>\n",
       "      <td>Layoff Permanent</td>\n",
       "    </tr>\n",
       "    <tr>\n",
       "      <th>2</th>\n",
       "      <td>06/09/2020</td>\n",
       "      <td>06/07/2020</td>\n",
       "      <td>07/01/2020</td>\n",
       "      <td>Bay Club Santa Monica</td>\n",
       "      <td>Santa Monica</td>\n",
       "      <td>Los Angeles County</td>\n",
       "      <td>82.0</td>\n",
       "      <td>Layoff Permanent</td>\n",
       "    </tr>\n",
       "    <tr>\n",
       "      <th>3</th>\n",
       "      <td>06/19/2020</td>\n",
       "      <td>08/21/2020</td>\n",
       "      <td>07/01/2020</td>\n",
       "      <td>Weber Metals, Inc</td>\n",
       "      <td>Paramount</td>\n",
       "      <td>Los Angeles County</td>\n",
       "      <td>169.0</td>\n",
       "      <td>Layoff Permanent</td>\n",
       "    </tr>\n",
       "    <tr>\n",
       "      <th>4</th>\n",
       "      <td>06/09/2020</td>\n",
       "      <td>06/07/2020</td>\n",
       "      <td>07/01/2020</td>\n",
       "      <td>StoneTree Golf Club</td>\n",
       "      <td>Novato</td>\n",
       "      <td>Marin County</td>\n",
       "      <td>32.0</td>\n",
       "      <td>Layoff Permanent</td>\n",
       "    </tr>\n",
       "  </tbody>\n",
       "</table>\n",
       "</div>"
      ],
      "text/plain": [
       "  Notice Date Effective Date Received Date                 Company  \\\n",
       "0  06/09/2020     06/07/2020    07/01/2020  Bay Club Redondo Beach   \n",
       "1  06/09/2020     06/07/2020    07/01/2020  Bay Club Rolling Hills   \n",
       "2  06/09/2020     06/07/2020    07/01/2020   Bay Club Santa Monica   \n",
       "3  06/19/2020     08/21/2020    07/01/2020       Weber Metals, Inc   \n",
       "4  06/09/2020     06/07/2020    07/01/2020     StoneTree Golf Club   \n",
       "\n",
       "                    City               County  Employees    Layoff/Closure  \n",
       "0          Redondo Beach  Los Angeles County       102.0  Layoff Permanent  \n",
       "1  Rolling Hills Estates  Los Angeles County        64.0  Layoff Permanent  \n",
       "2           Santa Monica  Los Angeles County        82.0  Layoff Permanent  \n",
       "3              Paramount  Los Angeles County       169.0  Layoff Permanent  \n",
       "4                 Novato        Marin County        32.0  Layoff Permanent  "
      ]
     },
     "execution_count": 3,
     "metadata": {},
     "output_type": "execute_result"
    }
   ],
   "source": [
    "cali_layoffs.head()"
   ]
  },
  {
   "cell_type": "markdown",
   "metadata": {},
   "source": [
    "### Ambiguous Cities\n",
    "\n",
    "In doing some preliminary exploration of the data, we learned that some cities have been assigned the incorrect county name. The code below finds the cities with more than one county assigned. We use the results produced to go back and clean those records in the WARN Layoffs analysis notebook."
   ]
  },
  {
   "cell_type": "markdown",
   "metadata": {},
   "source": [
    "### Clean County, Company and City Columns"
   ]
  },
  {
   "cell_type": "code",
   "execution_count": 4,
   "metadata": {},
   "outputs": [],
   "source": [
    "cali_layoffs['Company'] = cali_layoffs['Company'].str.replace('\\\\r', '')\n",
    "cali_layoffs['Company'] = cali_layoffs['Company'].str.replace('\\\\n', '')\n",
    "cali_layoffs['City'] = cali_layoffs['City'].str.replace('\\\\r', '')\n",
    "cali_layoffs['City'] = cali_layoffs['City'].str.replace('\\\\n', '')\n",
    "cali_layoffs['Layoff/Closure'] = cali_layoffs['Layoff/Closure'].str.replace('\\\\r', '')\n",
    "cali_layoffs['Layoff/Closure'] = cali_layoffs['Layoff/Closure'].str.replace('\\\\n', '')"
   ]
  },
  {
   "cell_type": "code",
   "execution_count": 5,
   "metadata": {},
   "outputs": [],
   "source": [
    "cali_layoffs['County'] = cali_layoffs['County'].str.strip()\n",
    "cali_layoffs['County Orig'] = cali_layoffs['County']\n",
    "cali_layoffs['County'].fillna('Not Available', inplace=True)"
   ]
  },
  {
   "cell_type": "code",
   "execution_count": 6,
   "metadata": {},
   "outputs": [
    {
     "data": {
      "text/plain": [
       "array(['Los Angeles County', 'Marin County', 'Orange County',\n",
       "       'Sacramento County', 'San Bernardino County',\n",
       "       'San Francisco County', 'San Mateo County', 'Santa Clara County',\n",
       "       'Ventura County', 'Kern County', 'Stanislaus County',\n",
       "       'Contra Costa County', 'Alameda County', 'San Diego County',\n",
       "       'Kings County', 'San Joaquin County', 'Sonoma County',\n",
       "       'Tulare County', 'Napa County', 'Monterey County', 'Placer County',\n",
       "       'Mono County', 'Riverside County', 'Fresno County',\n",
       "       'Mendocino County', 'Del Norte County', 'Yolo County',\n",
       "       'San Luis Obispo County', 'Madera County', 'Shasta County',\n",
       "       'Solano County', 'Santa Barbara County', 'Imperial County',\n",
       "       'Mariposa County', 'Santa Cruz County', 'El Dorado County',\n",
       "       'Butte County', 'Sutter County', 'Yuba County', 'Siskiyou County',\n",
       "       'Calaveras County', 'Tehama County', 'Glenn County', 'Inyo County',\n",
       "       'Not Available', 'San Benito County', 'Merced County',\n",
       "       'Nevada County', 'Tuolumne County', 'Humboldt County',\n",
       "       'Amador County', 'Colusa County', 'Plumas County'], dtype=object)"
      ]
     },
     "execution_count": 6,
     "metadata": {},
     "output_type": "execute_result"
    }
   ],
   "source": [
    "cali_layoffs.loc[~(cali_layoffs['County'].str.endswith('County')) & (cali_layoffs['County'] != 'Not Available'),'County'] += \" County\"\n",
    "cali_layoffs['County'].unique()"
   ]
  },
  {
   "cell_type": "code",
   "execution_count": 7,
   "metadata": {},
   "outputs": [
    {
     "data": {
      "text/html": [
       "<div>\n",
       "<style scoped>\n",
       "    .dataframe tbody tr th:only-of-type {\n",
       "        vertical-align: middle;\n",
       "    }\n",
       "\n",
       "    .dataframe tbody tr th {\n",
       "        vertical-align: top;\n",
       "    }\n",
       "\n",
       "    .dataframe thead th {\n",
       "        text-align: right;\n",
       "    }\n",
       "</style>\n",
       "<table border=\"1\" class=\"dataframe\">\n",
       "  <thead>\n",
       "    <tr style=\"text-align: right;\">\n",
       "      <th></th>\n",
       "      <th>Notice Date</th>\n",
       "      <th>Effective Date</th>\n",
       "      <th>Received Date</th>\n",
       "      <th>Company</th>\n",
       "      <th>City</th>\n",
       "      <th>County</th>\n",
       "      <th>Employees</th>\n",
       "      <th>Layoff/Closure</th>\n",
       "      <th>County Orig</th>\n",
       "      <th>Year</th>\n",
       "    </tr>\n",
       "  </thead>\n",
       "  <tbody>\n",
       "    <tr>\n",
       "      <th>0</th>\n",
       "      <td>06/09/2020</td>\n",
       "      <td>06/07/2020</td>\n",
       "      <td>07/01/2020</td>\n",
       "      <td>Bay Club Redondo Beach</td>\n",
       "      <td>Redondo Beach</td>\n",
       "      <td>Los Angeles County</td>\n",
       "      <td>102.0</td>\n",
       "      <td>Layoff Permanent</td>\n",
       "      <td>Los Angeles County</td>\n",
       "      <td>2020</td>\n",
       "    </tr>\n",
       "    <tr>\n",
       "      <th>1</th>\n",
       "      <td>06/09/2020</td>\n",
       "      <td>06/07/2020</td>\n",
       "      <td>07/01/2020</td>\n",
       "      <td>Bay Club Rolling Hills</td>\n",
       "      <td>Rolling Hills Estates</td>\n",
       "      <td>Los Angeles County</td>\n",
       "      <td>64.0</td>\n",
       "      <td>Layoff Permanent</td>\n",
       "      <td>Los Angeles County</td>\n",
       "      <td>2020</td>\n",
       "    </tr>\n",
       "    <tr>\n",
       "      <th>2</th>\n",
       "      <td>06/09/2020</td>\n",
       "      <td>06/07/2020</td>\n",
       "      <td>07/01/2020</td>\n",
       "      <td>Bay Club Santa Monica</td>\n",
       "      <td>Santa Monica</td>\n",
       "      <td>Los Angeles County</td>\n",
       "      <td>82.0</td>\n",
       "      <td>Layoff Permanent</td>\n",
       "      <td>Los Angeles County</td>\n",
       "      <td>2020</td>\n",
       "    </tr>\n",
       "    <tr>\n",
       "      <th>3</th>\n",
       "      <td>06/19/2020</td>\n",
       "      <td>08/21/2020</td>\n",
       "      <td>07/01/2020</td>\n",
       "      <td>Weber Metals, Inc</td>\n",
       "      <td>Paramount</td>\n",
       "      <td>Los Angeles County</td>\n",
       "      <td>169.0</td>\n",
       "      <td>Layoff Permanent</td>\n",
       "      <td>Los Angeles County</td>\n",
       "      <td>2020</td>\n",
       "    </tr>\n",
       "    <tr>\n",
       "      <th>4</th>\n",
       "      <td>06/09/2020</td>\n",
       "      <td>06/07/2020</td>\n",
       "      <td>07/01/2020</td>\n",
       "      <td>StoneTree Golf Club</td>\n",
       "      <td>Novato</td>\n",
       "      <td>Marin County</td>\n",
       "      <td>32.0</td>\n",
       "      <td>Layoff Permanent</td>\n",
       "      <td>Marin County</td>\n",
       "      <td>2020</td>\n",
       "    </tr>\n",
       "  </tbody>\n",
       "</table>\n",
       "</div>"
      ],
      "text/plain": [
       "  Notice Date Effective Date Received Date                 Company  \\\n",
       "0  06/09/2020     06/07/2020    07/01/2020  Bay Club Redondo Beach   \n",
       "1  06/09/2020     06/07/2020    07/01/2020  Bay Club Rolling Hills   \n",
       "2  06/09/2020     06/07/2020    07/01/2020   Bay Club Santa Monica   \n",
       "3  06/19/2020     08/21/2020    07/01/2020       Weber Metals, Inc   \n",
       "4  06/09/2020     06/07/2020    07/01/2020     StoneTree Golf Club   \n",
       "\n",
       "                    City              County  Employees    Layoff/Closure  \\\n",
       "0          Redondo Beach  Los Angeles County      102.0  Layoff Permanent   \n",
       "1  Rolling Hills Estates  Los Angeles County       64.0  Layoff Permanent   \n",
       "2           Santa Monica  Los Angeles County       82.0  Layoff Permanent   \n",
       "3              Paramount  Los Angeles County      169.0  Layoff Permanent   \n",
       "4                 Novato        Marin County       32.0  Layoff Permanent   \n",
       "\n",
       "          County Orig  Year  \n",
       "0  Los Angeles County  2020  \n",
       "1  Los Angeles County  2020  \n",
       "2  Los Angeles County  2020  \n",
       "3  Los Angeles County  2020  \n",
       "4        Marin County  2020  "
      ]
     },
     "execution_count": 7,
     "metadata": {},
     "output_type": "execute_result"
    }
   ],
   "source": [
    "cali_layoffs['Year'] = cali_layoffs['Notice Date'].str[-4:]\n",
    "cali_layoffs['Year'] = cali_layoffs['Year'].astype(np.int64)\n",
    "cali_layoffs.head()"
   ]
  },
  {
   "cell_type": "code",
   "execution_count": 8,
   "metadata": {},
   "outputs": [
    {
     "data": {
      "text/plain": [
       "array(['Los Angeles County', 'Marin County', 'Orange County',\n",
       "       'Sacramento County', 'San Bernardino County',\n",
       "       'San Francisco County', 'San Mateo County', 'Santa Clara County',\n",
       "       'Ventura County', 'Kern County', 'Stanislaus County',\n",
       "       'Contra Costa County', 'Alameda County', 'San Diego County',\n",
       "       'Kings County', 'San Joaquin County', 'Sonoma County',\n",
       "       'Tulare County', 'Napa County', 'Monterey County', 'Placer County',\n",
       "       'Mono County', 'Riverside County', 'Fresno County',\n",
       "       'Mendocino County', 'Del Norte County', 'Yolo County',\n",
       "       'San Luis Obispo County', 'Madera County', 'Shasta County',\n",
       "       'Solano County', 'Santa Barbara County', 'Imperial County',\n",
       "       'Mariposa County', 'Santa Cruz County', 'El Dorado County',\n",
       "       'Butte County', 'Sutter County', 'Yuba County', 'Siskiyou County',\n",
       "       'Calaveras County', 'Tehama County', 'Glenn County', 'Inyo County',\n",
       "       'Not Available', 'San Benito County', 'Merced County',\n",
       "       'Nevada County', 'Tuolumne County', 'Humboldt County',\n",
       "       'Amador County', 'Colusa County', 'Plumas County'], dtype=object)"
      ]
     },
     "execution_count": 8,
     "metadata": {},
     "output_type": "execute_result"
    }
   ],
   "source": [
    "cali_layoffs['County'].unique()"
   ]
  },
  {
   "cell_type": "markdown",
   "metadata": {},
   "source": [
    "### Cleaning Layoff Types\n",
    "\n",
    "Type Unknown and unknown at this time will be combined."
   ]
  },
  {
   "cell_type": "code",
   "execution_count": 9,
   "metadata": {},
   "outputs": [
    {
     "data": {
      "text/plain": [
       "array(['Layoff Permanent', 'Layoff Type Unknown', 'Layoff Temporary',\n",
       "       'Closure Temporary', 'Closure Permanent', 'Closure Type Unknown',\n",
       "       'Layoff Unknown at this time', 'Closure Unknown at this time',\n",
       "       'Closure Unknown at thistime', 'Layoff Unknown at thistime'],\n",
       "      dtype=object)"
      ]
     },
     "execution_count": 9,
     "metadata": {},
     "output_type": "execute_result"
    }
   ],
   "source": [
    "cali_layoffs['Layoff/Closure'].unique()"
   ]
  },
  {
   "cell_type": "code",
   "execution_count": 10,
   "metadata": {},
   "outputs": [
    {
     "data": {
      "text/plain": [
       "array(['layoff permanent', 'layoff type uncategorized',\n",
       "       'layoff temporary', 'closure temporary', 'closure permanent',\n",
       "       'closure type uncategorized'], dtype=object)"
      ]
     },
     "execution_count": 10,
     "metadata": {},
     "output_type": "execute_result"
    }
   ],
   "source": [
    "cali_layoffs['Layoff/Closure clean'] = cali_layoffs['Layoff/Closure'].str.replace('at thistime', 'at this time')\n",
    "cali_layoffs['Layoff/Closure clean'] = cali_layoffs['Layoff/Closure clean'].str.strip()\n",
    "cali_layoffs['Layoff/Closure clean'] = cali_layoffs['Layoff/Closure clean'].str.lower()\n",
    "cali_layoffs['Layoff/Closure clean'] = cali_layoffs['Layoff/Closure clean'].str.replace('unknown at this time', 'type unknown')\n",
    "cali_layoffs['Layoff/Closure clean'] = cali_layoffs['Layoff/Closure clean'].str.replace('type unknown', 'type uncategorized')\n",
    "cali_layoffs['Layoff/Closure clean'].unique()"
   ]
  },
  {
   "cell_type": "code",
   "execution_count": 11,
   "metadata": {},
   "outputs": [
    {
     "data": {
      "text/plain": [
       "[{'Notice Date': '06/09/2020',\n",
       "  'Effective Date': '06/07/2020',\n",
       "  'Received Date': '07/01/2020',\n",
       "  'Company': 'Bay Club Redondo Beach',\n",
       "  'City': 'Redondo Beach',\n",
       "  'County': 'Los Angeles County',\n",
       "  'Employees': 102.0,\n",
       "  'Layoff/Closure': 'Layoff Permanent',\n",
       "  'County Orig': 'Los Angeles County',\n",
       "  'Year': 2020,\n",
       "  'Layoff/Closure clean': 'layoff permanent'},\n",
       " {'Notice Date': '06/09/2020',\n",
       "  'Effective Date': '06/07/2020',\n",
       "  'Received Date': '07/01/2020',\n",
       "  'Company': 'Bay Club Rolling Hills',\n",
       "  'City': 'Rolling Hills Estates',\n",
       "  'County': 'Los Angeles County',\n",
       "  'Employees': 64.0,\n",
       "  'Layoff/Closure': 'Layoff Permanent',\n",
       "  'County Orig': 'Los Angeles County',\n",
       "  'Year': 2020,\n",
       "  'Layoff/Closure clean': 'layoff permanent'}]"
      ]
     },
     "execution_count": 11,
     "metadata": {},
     "output_type": "execute_result"
    }
   ],
   "source": [
    "cali_dict = cali_layoffs.to_dict(orient='records')\n",
    "cali_dict[0:2]"
   ]
  },
  {
   "cell_type": "code",
   "execution_count": 12,
   "metadata": {},
   "outputs": [
    {
     "data": {
      "text/plain": [
       "array(['Los Angeles County', 'Marin County', 'Orange County',\n",
       "       'Sacramento County', 'San Bernardino County',\n",
       "       'San Francisco County', 'San Mateo County', 'Santa Clara County',\n",
       "       'Ventura County', 'Kern County', 'Stanislaus County',\n",
       "       'Contra Costa County', 'Alameda County', 'San Diego County',\n",
       "       'Kings County', 'San Joaquin County', 'Sonoma County',\n",
       "       'Tulare County', 'Napa County', 'Monterey County', 'Placer County',\n",
       "       'Mono County', 'Riverside County', 'Fresno County',\n",
       "       'Mendocino County', 'Del Norte County', 'Yolo County',\n",
       "       'San Luis Obispo County', 'Madera County', 'Shasta County',\n",
       "       'Solano County', 'Santa Barbara County', 'Imperial County',\n",
       "       'Mariposa County', 'Santa Cruz County', 'El Dorado County',\n",
       "       'Butte County', 'Sutter County', 'Yuba County', 'Siskiyou County',\n",
       "       'Calaveras County', 'Tehama County', 'Glenn County', 'Inyo County',\n",
       "       'Not Available', 'San Benito County', 'Merced County',\n",
       "       'Nevada County', 'Tuolumne County', 'Humboldt County',\n",
       "       'Amador County', 'Colusa County', 'Plumas County'], dtype=object)"
      ]
     },
     "execution_count": 12,
     "metadata": {},
     "output_type": "execute_result"
    }
   ],
   "source": [
    "cali_layoffs['County'].unique()"
   ]
  },
  {
   "cell_type": "code",
   "execution_count": 13,
   "metadata": {},
   "outputs": [
    {
     "data": {
      "text/plain": [
       "2117"
      ]
     },
     "execution_count": 13,
     "metadata": {},
     "output_type": "execute_result"
    }
   ],
   "source": [
    "rows_with_no_county = [r for r in cali_dict if r[\"County\"] == \"Not Available\"]\n",
    "len(rows_with_no_county)"
   ]
  },
  {
   "cell_type": "code",
   "execution_count": 14,
   "metadata": {},
   "outputs": [
    {
     "data": {
      "text/plain": [
       "{'Notice Date': '06/22/2015',\n",
       " 'Effective Date': '03/25/2016',\n",
       " 'Received Date': '07/01/2015',\n",
       " 'Company': 'Maxim Integrated Product',\n",
       " 'City': 'San Jose',\n",
       " 'County': 'Not Available',\n",
       " 'Employees': 150.0,\n",
       " 'Layoff/Closure': 'Closure Permanent',\n",
       " 'County Orig': nan,\n",
       " 'Year': 2015,\n",
       " 'Layoff/Closure clean': 'closure permanent'}"
      ]
     },
     "execution_count": 14,
     "metadata": {},
     "output_type": "execute_result"
    }
   ],
   "source": [
    "rows_with_no_county[0]"
   ]
  },
  {
   "cell_type": "code",
   "execution_count": 15,
   "metadata": {},
   "outputs": [],
   "source": [
    "cities = [r[\"City\"] for r in rows_with_no_county]"
   ]
  },
  {
   "cell_type": "code",
   "execution_count": 16,
   "metadata": {},
   "outputs": [
    {
     "data": {
      "text/plain": [
       "2117"
      ]
     },
     "execution_count": 16,
     "metadata": {},
     "output_type": "execute_result"
    }
   ],
   "source": [
    "len(cities)"
   ]
  },
  {
   "cell_type": "code",
   "execution_count": 17,
   "metadata": {},
   "outputs": [],
   "source": [
    "cities = set(cities)"
   ]
  },
  {
   "cell_type": "code",
   "execution_count": 18,
   "metadata": {},
   "outputs": [
    {
     "data": {
      "text/plain": [
       "355"
      ]
     },
     "execution_count": 18,
     "metadata": {},
     "output_type": "execute_result"
    }
   ],
   "source": [
    "len(cities)"
   ]
  },
  {
   "cell_type": "code",
   "execution_count": 19,
   "metadata": {},
   "outputs": [],
   "source": [
    "rows_with_county = [r for r in cali_dict if r[\"County\"] != \"Not Available\"]"
   ]
  },
  {
   "cell_type": "code",
   "execution_count": 20,
   "metadata": {},
   "outputs": [
    {
     "data": {
      "text/plain": [
       "7747"
      ]
     },
     "execution_count": 20,
     "metadata": {},
     "output_type": "execute_result"
    }
   ],
   "source": [
    "len(rows_with_county)"
   ]
  },
  {
   "cell_type": "code",
   "execution_count": 21,
   "metadata": {},
   "outputs": [
    {
     "data": {
      "text/plain": [
       "{'Notice Date': '07/03/2020',\n",
       " 'Effective Date': '07/03/2020',\n",
       " 'Received Date': '08/03/2020',\n",
       " 'Company': 'Wyndham San Diego Bayside',\n",
       " 'City': 'San Diego',\n",
       " 'County': 'San Diego County',\n",
       " 'Employees': 88.0,\n",
       " 'Layoff/Closure': 'Layoff Temporary',\n",
       " 'County Orig': 'San Diego County',\n",
       " 'Year': 2020,\n",
       " 'Layoff/Closure clean': 'layoff temporary'}"
      ]
     },
     "execution_count": 21,
     "metadata": {},
     "output_type": "execute_result"
    }
   ],
   "source": [
    "rows_with_county[334]"
   ]
  },
  {
   "cell_type": "code",
   "execution_count": 22,
   "metadata": {},
   "outputs": [],
   "source": [
    "city_to_counties = {}\n",
    "for row in rows_with_county:\n",
    "    city = row[\"City\"]\n",
    "    county = row[\"County\"]\n",
    "    if city not in city_to_counties:\n",
    "        city_to_counties[city] = set()\n",
    "    city_to_counties[city].add(county)"
   ]
  },
  {
   "cell_type": "code",
   "execution_count": 23,
   "metadata": {},
   "outputs": [],
   "source": [
    "unambiguous_cities = [pair for pair in city_to_counties.items() if len(pair[1]) == 1]"
   ]
  },
  {
   "cell_type": "code",
   "execution_count": 24,
   "metadata": {},
   "outputs": [
    {
     "data": {
      "text/plain": [
       "525"
      ]
     },
     "execution_count": 24,
     "metadata": {},
     "output_type": "execute_result"
    }
   ],
   "source": [
    "len(unambiguous_cities)"
   ]
  },
  {
   "cell_type": "code",
   "execution_count": 25,
   "metadata": {},
   "outputs": [],
   "source": [
    "unambiguous_cities = {pair[0]: list(pair[1])[0] for pair in city_to_counties.items() if len(pair[1]) == 1}"
   ]
  },
  {
   "cell_type": "code",
   "execution_count": 26,
   "metadata": {},
   "outputs": [],
   "source": [
    "for row in rows_with_no_county:\n",
    "    if row[\"City\"] in unambiguous_cities:\n",
    "        row[\"County\"] = unambiguous_cities[row[\"City\"]]"
   ]
  },
  {
   "cell_type": "code",
   "execution_count": 27,
   "metadata": {},
   "outputs": [
    {
     "data": {
      "text/plain": [
       "[{'Notice Date': '06/22/2015',\n",
       "  'Effective Date': '03/25/2016',\n",
       "  'Received Date': '07/01/2015',\n",
       "  'Company': 'Maxim Integrated Product',\n",
       "  'City': 'San Jose',\n",
       "  'County': 'Santa Clara County',\n",
       "  'Employees': 150.0,\n",
       "  'Layoff/Closure': 'Closure Permanent',\n",
       "  'County Orig': nan,\n",
       "  'Year': 2015,\n",
       "  'Layoff/Closure clean': 'closure permanent'},\n",
       " {'Notice Date': '06/30/2015',\n",
       "  'Effective Date': '08/29/2015',\n",
       "  'Received Date': '07/01/2015',\n",
       "  'Company': 'McGraw-Hill Education',\n",
       "  'City': 'Monterey',\n",
       "  'County': 'Monterey County',\n",
       "  'Employees': 137.0,\n",
       "  'Layoff/Closure': 'Layoff Unknown at this time',\n",
       "  'County Orig': nan,\n",
       "  'Year': 2015,\n",
       "  'Layoff/Closure clean': 'layoff type uncategorized'}]"
      ]
     },
     "execution_count": 27,
     "metadata": {},
     "output_type": "execute_result"
    }
   ],
   "source": [
    "rows_with_no_county[:2]"
   ]
  },
  {
   "cell_type": "code",
   "execution_count": 28,
   "metadata": {},
   "outputs": [],
   "source": [
    "ambiguous_cities = [pair for pair in city_to_counties.items() if len(pair[1]) > 1]"
   ]
  },
  {
   "cell_type": "code",
   "execution_count": 29,
   "metadata": {},
   "outputs": [
    {
     "data": {
      "text/plain": [
       "[('Sacramento', {'Del Norte County', 'Sacramento County'}),\n",
       " ('San Francisco', {'San Francisco County', 'San Mateo County'}),\n",
       " ('Walnut Creek', {'Alameda County', 'Contra Costa County'}),\n",
       " ('Los Angeles', {'Alameda County', 'Los Angeles County'}),\n",
       " ('Hayward', {'Alameda County', 'Contra Costa County'}),\n",
       " ('City of Industry', {'Los Angeles County', 'Orange County'}),\n",
       " ('Roseville', {'Placer County', 'Sacramento County'}),\n",
       " ('Berkeley', {'Alameda County', 'Contra Costa County'}),\n",
       " ('Cerritos', {'Los Angeles County', 'Orange County'}),\n",
       " ('Vista', {'San Diego County', 'San Francisco County'}),\n",
       " ('Del Mar', {'Orange County', 'San Diego County'}),\n",
       " ('Indian Wells', {'Riverside County', 'San Benito County'}),\n",
       " ('Rancho', {'Los Angeles County', 'San Bernardino County'}),\n",
       " ('Los Gatos', {'Santa Clara County', 'Santa Cruz County'})]"
      ]
     },
     "execution_count": 29,
     "metadata": {},
     "output_type": "execute_result"
    }
   ],
   "source": [
    "ambiguous_cities"
   ]
  },
  {
   "cell_type": "markdown",
   "metadata": {},
   "source": [
    "### Manual research narrowed down which cities actually belonged to which counties\n",
    "resulting in our updated `ambiguous_cities` dictionary. `Rancho` is the only city on the list where the two counties actually have cities with the same name. It will be left off the list. \n",
    "\n",
    "***The dictionary below may need further manual adjusting if this notebook is being run with updated data.***"
   ]
  },
  {
   "cell_type": "code",
   "execution_count": 30,
   "metadata": {},
   "outputs": [],
   "source": [
    "dict_cities = {\n",
    "    'Sacramento':'Sacramento County',\n",
    "    'San Francisco':'San Francisco County',\n",
    "    'Hayward':'Alameda County',\n",
    "    'Indian Wells':'Riverside County',\n",
    "    'Cerritos':'Los Angeles County',\n",
    "    'Vista':'San Diego County',\n",
    "    'Roseville':'Placer County',\n",
    "    'City of Industry':'Los Angeles County',\n",
    "    'Del Mar':'San Diego County',\n",
    "    'Walnut Creek':'Contra Costa County',\n",
    "    'Los Gatos':'Santa Clara County',\n",
    "    'Los Angeles':'Los Angeles County',\n",
    "    'Berkeley': 'Alameda County'\n",
    "}"
   ]
  },
  {
   "cell_type": "markdown",
   "metadata": {},
   "source": [
    "### Clean County Names\n",
    "Below is our code to correct County Names based on City Names. \n",
    "We are taking the dictionary above, looping through the city and county names, which are the keys and values, replacing the incorrect County Name with the correct one for each city's record."
   ]
  },
  {
   "cell_type": "code",
   "execution_count": 31,
   "metadata": {},
   "outputs": [],
   "source": [
    "for city, county in dict_cities.items():\n",
    "    cali_layoffs.loc[cali_layoffs['City'] == city, ['County']] = county"
   ]
  },
  {
   "cell_type": "code",
   "execution_count": 32,
   "metadata": {},
   "outputs": [
    {
     "data": {
      "text/html": [
       "<div>\n",
       "<style scoped>\n",
       "    .dataframe tbody tr th:only-of-type {\n",
       "        vertical-align: middle;\n",
       "    }\n",
       "\n",
       "    .dataframe tbody tr th {\n",
       "        vertical-align: top;\n",
       "    }\n",
       "\n",
       "    .dataframe thead th {\n",
       "        text-align: right;\n",
       "    }\n",
       "</style>\n",
       "<table border=\"1\" class=\"dataframe\">\n",
       "  <thead>\n",
       "    <tr style=\"text-align: right;\">\n",
       "      <th></th>\n",
       "      <th>Notice Date</th>\n",
       "      <th>Effective Date</th>\n",
       "      <th>Received Date</th>\n",
       "      <th>Company</th>\n",
       "      <th>City</th>\n",
       "      <th>County</th>\n",
       "      <th>Employees</th>\n",
       "      <th>Layoff/Closure</th>\n",
       "      <th>County Orig</th>\n",
       "      <th>Year</th>\n",
       "      <th>Layoff/Closure clean</th>\n",
       "    </tr>\n",
       "  </thead>\n",
       "  <tbody>\n",
       "    <tr>\n",
       "      <th>3060</th>\n",
       "      <td>04/26/2019</td>\n",
       "      <td>06/30/2019</td>\n",
       "      <td>04/26/2019</td>\n",
       "      <td>Covia Communities</td>\n",
       "      <td>Los Gatos</td>\n",
       "      <td>Santa Clara County</td>\n",
       "      <td>66.0</td>\n",
       "      <td>Closure Permanent</td>\n",
       "      <td>Santa Clara</td>\n",
       "      <td>2019</td>\n",
       "      <td>closure permanent</td>\n",
       "    </tr>\n",
       "    <tr>\n",
       "      <th>3173</th>\n",
       "      <td>06/03/2019</td>\n",
       "      <td>10/01/2019</td>\n",
       "      <td>06/04/2019</td>\n",
       "      <td>Roche Molecular Systems, Inc.</td>\n",
       "      <td>Los Gatos</td>\n",
       "      <td>Santa Clara County</td>\n",
       "      <td>17.0</td>\n",
       "      <td>Closure Permanent</td>\n",
       "      <td>Santa Clara</td>\n",
       "      <td>2019</td>\n",
       "      <td>closure permanent</td>\n",
       "    </tr>\n",
       "    <tr>\n",
       "      <th>3327</th>\n",
       "      <td>09/01/2016</td>\n",
       "      <td>11/01/2016</td>\n",
       "      <td>09/02/2016</td>\n",
       "      <td>Valley Medical Oncology Consultants</td>\n",
       "      <td>Los Gatos</td>\n",
       "      <td>Santa Clara County</td>\n",
       "      <td>29.0</td>\n",
       "      <td>Layoff Permanent</td>\n",
       "      <td>NaN</td>\n",
       "      <td>2016</td>\n",
       "      <td>layoff permanent</td>\n",
       "    </tr>\n",
       "    <tr>\n",
       "      <th>4043</th>\n",
       "      <td>10/01/2014</td>\n",
       "      <td>12/31/2014</td>\n",
       "      <td>10/16/2014</td>\n",
       "      <td>Prometheus Real Estate Group</td>\n",
       "      <td>Los Gatos</td>\n",
       "      <td>Santa Clara County</td>\n",
       "      <td>8.0</td>\n",
       "      <td>Layoff Permanent</td>\n",
       "      <td>NaN</td>\n",
       "      <td>2014</td>\n",
       "      <td>layoff permanent</td>\n",
       "    </tr>\n",
       "    <tr>\n",
       "      <th>4406</th>\n",
       "      <td>03/27/2015</td>\n",
       "      <td>03/16/2015</td>\n",
       "      <td>03/27/2015</td>\n",
       "      <td>Cryptic Studios, Inc.</td>\n",
       "      <td>Los Gatos</td>\n",
       "      <td>Santa Clara County</td>\n",
       "      <td>27.0</td>\n",
       "      <td>Layoff Permanent</td>\n",
       "      <td>NaN</td>\n",
       "      <td>2015</td>\n",
       "      <td>layoff permanent</td>\n",
       "    </tr>\n",
       "    <tr>\n",
       "      <th>4658</th>\n",
       "      <td>06/23/2020</td>\n",
       "      <td>08/20/2020</td>\n",
       "      <td>06/29/2020</td>\n",
       "      <td>Boston Scientific Corporation</td>\n",
       "      <td>Los Gatos</td>\n",
       "      <td>Santa Clara County</td>\n",
       "      <td>60.0</td>\n",
       "      <td>Closure Permanent</td>\n",
       "      <td>Santa Clara County</td>\n",
       "      <td>2020</td>\n",
       "      <td>closure permanent</td>\n",
       "    </tr>\n",
       "    <tr>\n",
       "      <th>4750</th>\n",
       "      <td>06/09/2020</td>\n",
       "      <td>06/07/2020</td>\n",
       "      <td>06/24/2020</td>\n",
       "      <td>Bay Club Courtside</td>\n",
       "      <td>Los Gatos</td>\n",
       "      <td>Santa Clara County</td>\n",
       "      <td>294.0</td>\n",
       "      <td>Layoff Permanent</td>\n",
       "      <td>Santa Clara County</td>\n",
       "      <td>2020</td>\n",
       "      <td>layoff permanent</td>\n",
       "    </tr>\n",
       "    <tr>\n",
       "      <th>5656</th>\n",
       "      <td>03/30/2020</td>\n",
       "      <td>03/17/2020</td>\n",
       "      <td>05/20/2020</td>\n",
       "      <td>BACK OF THE HOUSE DBA SUPER DUPER</td>\n",
       "      <td>Los Gatos</td>\n",
       "      <td>Santa Clara County</td>\n",
       "      <td>30.0</td>\n",
       "      <td>Layoff Temporary</td>\n",
       "      <td>Santa Clara County</td>\n",
       "      <td>2020</td>\n",
       "      <td>layoff temporary</td>\n",
       "    </tr>\n",
       "  </tbody>\n",
       "</table>\n",
       "</div>"
      ],
      "text/plain": [
       "     Notice Date Effective Date Received Date  \\\n",
       "3060  04/26/2019     06/30/2019    04/26/2019   \n",
       "3173  06/03/2019     10/01/2019    06/04/2019   \n",
       "3327  09/01/2016     11/01/2016    09/02/2016   \n",
       "4043  10/01/2014     12/31/2014    10/16/2014   \n",
       "4406  03/27/2015     03/16/2015    03/27/2015   \n",
       "4658  06/23/2020     08/20/2020    06/29/2020   \n",
       "4750  06/09/2020     06/07/2020    06/24/2020   \n",
       "5656  03/30/2020     03/17/2020    05/20/2020   \n",
       "\n",
       "                                  Company       City              County  \\\n",
       "3060                    Covia Communities  Los Gatos  Santa Clara County   \n",
       "3173        Roche Molecular Systems, Inc.  Los Gatos  Santa Clara County   \n",
       "3327  Valley Medical Oncology Consultants  Los Gatos  Santa Clara County   \n",
       "4043         Prometheus Real Estate Group  Los Gatos  Santa Clara County   \n",
       "4406                Cryptic Studios, Inc.  Los Gatos  Santa Clara County   \n",
       "4658        Boston Scientific Corporation  Los Gatos  Santa Clara County   \n",
       "4750                   Bay Club Courtside  Los Gatos  Santa Clara County   \n",
       "5656    BACK OF THE HOUSE DBA SUPER DUPER  Los Gatos  Santa Clara County   \n",
       "\n",
       "      Employees     Layoff/Closure         County Orig  Year  \\\n",
       "3060       66.0  Closure Permanent         Santa Clara  2019   \n",
       "3173       17.0  Closure Permanent         Santa Clara  2019   \n",
       "3327       29.0   Layoff Permanent                 NaN  2016   \n",
       "4043        8.0   Layoff Permanent                 NaN  2014   \n",
       "4406       27.0   Layoff Permanent                 NaN  2015   \n",
       "4658       60.0  Closure Permanent  Santa Clara County  2020   \n",
       "4750      294.0   Layoff Permanent  Santa Clara County  2020   \n",
       "5656       30.0   Layoff Temporary  Santa Clara County  2020   \n",
       "\n",
       "     Layoff/Closure clean  \n",
       "3060    closure permanent  \n",
       "3173    closure permanent  \n",
       "3327     layoff permanent  \n",
       "4043     layoff permanent  \n",
       "4406     layoff permanent  \n",
       "4658    closure permanent  \n",
       "4750     layoff permanent  \n",
       "5656     layoff temporary  "
      ]
     },
     "execution_count": 32,
     "metadata": {},
     "output_type": "execute_result"
    }
   ],
   "source": [
    "los_gatos_clean = cali_layoffs[cali_layoffs['City'] == 'Los Gatos']\n",
    "los_gatos_clean.head(8)"
   ]
  },
  {
   "cell_type": "markdown",
   "metadata": {},
   "source": [
    "### Adding Population Data\n",
    "\n",
    "The data has been grabbed from the census link above. These figures will be used to calculate per capita layoff numbers per county."
   ]
  },
  {
   "cell_type": "code",
   "execution_count": 33,
   "metadata": {},
   "outputs": [
    {
     "data": {
      "text/html": [
       "<div>\n",
       "<style scoped>\n",
       "    .dataframe tbody tr th:only-of-type {\n",
       "        vertical-align: middle;\n",
       "    }\n",
       "\n",
       "    .dataframe tbody tr th {\n",
       "        vertical-align: top;\n",
       "    }\n",
       "\n",
       "    .dataframe thead th {\n",
       "        text-align: right;\n",
       "    }\n",
       "</style>\n",
       "<table border=\"1\" class=\"dataframe\">\n",
       "  <thead>\n",
       "    <tr style=\"text-align: right;\">\n",
       "      <th></th>\n",
       "      <th>Counties</th>\n",
       "      <th>Population</th>\n",
       "      <th>County Names</th>\n",
       "    </tr>\n",
       "  </thead>\n",
       "  <tbody>\n",
       "    <tr>\n",
       "      <th>0</th>\n",
       "      <td>.Alameda County, California</td>\n",
       "      <td>1671329</td>\n",
       "      <td>Alameda County</td>\n",
       "    </tr>\n",
       "    <tr>\n",
       "      <th>1</th>\n",
       "      <td>.Alpine County, California</td>\n",
       "      <td>1129</td>\n",
       "      <td>Alpine County</td>\n",
       "    </tr>\n",
       "    <tr>\n",
       "      <th>2</th>\n",
       "      <td>.Amador County, California</td>\n",
       "      <td>39752</td>\n",
       "      <td>Amador County</td>\n",
       "    </tr>\n",
       "    <tr>\n",
       "      <th>3</th>\n",
       "      <td>.Butte County, California</td>\n",
       "      <td>219186</td>\n",
       "      <td>Butte County</td>\n",
       "    </tr>\n",
       "  </tbody>\n",
       "</table>\n",
       "</div>"
      ],
      "text/plain": [
       "                      Counties  Population    County Names\n",
       "0  .Alameda County, California     1671329  Alameda County\n",
       "1   .Alpine County, California        1129   Alpine County\n",
       "2   .Amador County, California       39752   Amador County\n",
       "3    .Butte County, California      219186    Butte County"
      ]
     },
     "execution_count": 33,
     "metadata": {},
     "output_type": "execute_result"
    }
   ],
   "source": [
    "cali_population.rename(columns={'California':'Counties','39,512,223':'Population'}, inplace=True)\n",
    "cali_population['County Names'] = cali_population['Counties'].str[1:]\n",
    "cali_population['County Names'] = cali_population['County Names'].str.split(',').str[0]\n",
    "cali_population.head(4)"
   ]
  },
  {
   "cell_type": "code",
   "execution_count": 34,
   "metadata": {},
   "outputs": [
    {
     "data": {
      "text/html": [
       "<div>\n",
       "<style scoped>\n",
       "    .dataframe tbody tr th:only-of-type {\n",
       "        vertical-align: middle;\n",
       "    }\n",
       "\n",
       "    .dataframe tbody tr th {\n",
       "        vertical-align: top;\n",
       "    }\n",
       "\n",
       "    .dataframe thead th {\n",
       "        text-align: right;\n",
       "    }\n",
       "</style>\n",
       "<table border=\"1\" class=\"dataframe\">\n",
       "  <thead>\n",
       "    <tr style=\"text-align: right;\">\n",
       "      <th></th>\n",
       "      <th>Notice Date</th>\n",
       "      <th>Effective Date</th>\n",
       "      <th>Received Date</th>\n",
       "      <th>Company</th>\n",
       "      <th>City</th>\n",
       "      <th>County</th>\n",
       "      <th>Employees</th>\n",
       "      <th>Layoff/Closure</th>\n",
       "      <th>County Orig</th>\n",
       "      <th>Year</th>\n",
       "      <th>Layoff/Closure clean</th>\n",
       "      <th>Population</th>\n",
       "      <th>County Names</th>\n",
       "      <th>City 2</th>\n",
       "    </tr>\n",
       "  </thead>\n",
       "  <tbody>\n",
       "    <tr>\n",
       "      <th>0</th>\n",
       "      <td>06/09/2020</td>\n",
       "      <td>06/07/2020</td>\n",
       "      <td>07/01/2020</td>\n",
       "      <td>Bay Club Redondo Beach</td>\n",
       "      <td>Redondo Beach</td>\n",
       "      <td>Los Angeles County</td>\n",
       "      <td>102.0</td>\n",
       "      <td>Layoff Permanent</td>\n",
       "      <td>Los Angeles County</td>\n",
       "      <td>2020</td>\n",
       "      <td>layoff permanent</td>\n",
       "      <td>10039107.0</td>\n",
       "      <td>Los Angeles County</td>\n",
       "      <td>redondo beach</td>\n",
       "    </tr>\n",
       "    <tr>\n",
       "      <th>1</th>\n",
       "      <td>06/09/2020</td>\n",
       "      <td>06/07/2020</td>\n",
       "      <td>07/01/2020</td>\n",
       "      <td>Bay Club Rolling Hills</td>\n",
       "      <td>Rolling Hills Estates</td>\n",
       "      <td>Los Angeles County</td>\n",
       "      <td>64.0</td>\n",
       "      <td>Layoff Permanent</td>\n",
       "      <td>Los Angeles County</td>\n",
       "      <td>2020</td>\n",
       "      <td>layoff permanent</td>\n",
       "      <td>10039107.0</td>\n",
       "      <td>Los Angeles County</td>\n",
       "      <td>rolling hills estates</td>\n",
       "    </tr>\n",
       "    <tr>\n",
       "      <th>2</th>\n",
       "      <td>06/09/2020</td>\n",
       "      <td>06/07/2020</td>\n",
       "      <td>07/01/2020</td>\n",
       "      <td>Bay Club Santa Monica</td>\n",
       "      <td>Santa Monica</td>\n",
       "      <td>Los Angeles County</td>\n",
       "      <td>82.0</td>\n",
       "      <td>Layoff Permanent</td>\n",
       "      <td>Los Angeles County</td>\n",
       "      <td>2020</td>\n",
       "      <td>layoff permanent</td>\n",
       "      <td>10039107.0</td>\n",
       "      <td>Los Angeles County</td>\n",
       "      <td>santa monica</td>\n",
       "    </tr>\n",
       "    <tr>\n",
       "      <th>3</th>\n",
       "      <td>06/19/2020</td>\n",
       "      <td>08/21/2020</td>\n",
       "      <td>07/01/2020</td>\n",
       "      <td>Weber Metals, Inc</td>\n",
       "      <td>Paramount</td>\n",
       "      <td>Los Angeles County</td>\n",
       "      <td>169.0</td>\n",
       "      <td>Layoff Permanent</td>\n",
       "      <td>Los Angeles County</td>\n",
       "      <td>2020</td>\n",
       "      <td>layoff permanent</td>\n",
       "      <td>10039107.0</td>\n",
       "      <td>Los Angeles County</td>\n",
       "      <td>paramount</td>\n",
       "    </tr>\n",
       "    <tr>\n",
       "      <th>4</th>\n",
       "      <td>06/09/2020</td>\n",
       "      <td>06/07/2020</td>\n",
       "      <td>07/01/2020</td>\n",
       "      <td>StoneTree Golf Club</td>\n",
       "      <td>Novato</td>\n",
       "      <td>Marin County</td>\n",
       "      <td>32.0</td>\n",
       "      <td>Layoff Permanent</td>\n",
       "      <td>Marin County</td>\n",
       "      <td>2020</td>\n",
       "      <td>layoff permanent</td>\n",
       "      <td>258826.0</td>\n",
       "      <td>Marin County</td>\n",
       "      <td>novato</td>\n",
       "    </tr>\n",
       "  </tbody>\n",
       "</table>\n",
       "</div>"
      ],
      "text/plain": [
       "  Notice Date Effective Date Received Date                 Company  \\\n",
       "0  06/09/2020     06/07/2020    07/01/2020  Bay Club Redondo Beach   \n",
       "1  06/09/2020     06/07/2020    07/01/2020  Bay Club Rolling Hills   \n",
       "2  06/09/2020     06/07/2020    07/01/2020   Bay Club Santa Monica   \n",
       "3  06/19/2020     08/21/2020    07/01/2020       Weber Metals, Inc   \n",
       "4  06/09/2020     06/07/2020    07/01/2020     StoneTree Golf Club   \n",
       "\n",
       "                    City              County  Employees    Layoff/Closure  \\\n",
       "0          Redondo Beach  Los Angeles County      102.0  Layoff Permanent   \n",
       "1  Rolling Hills Estates  Los Angeles County       64.0  Layoff Permanent   \n",
       "2           Santa Monica  Los Angeles County       82.0  Layoff Permanent   \n",
       "3              Paramount  Los Angeles County      169.0  Layoff Permanent   \n",
       "4                 Novato        Marin County       32.0  Layoff Permanent   \n",
       "\n",
       "          County Orig  Year Layoff/Closure clean  Population  \\\n",
       "0  Los Angeles County  2020     layoff permanent  10039107.0   \n",
       "1  Los Angeles County  2020     layoff permanent  10039107.0   \n",
       "2  Los Angeles County  2020     layoff permanent  10039107.0   \n",
       "3  Los Angeles County  2020     layoff permanent  10039107.0   \n",
       "4        Marin County  2020     layoff permanent    258826.0   \n",
       "\n",
       "         County Names                 City 2  \n",
       "0  Los Angeles County          redondo beach  \n",
       "1  Los Angeles County  rolling hills estates  \n",
       "2  Los Angeles County           santa monica  \n",
       "3  Los Angeles County              paramount  \n",
       "4        Marin County                 novato  "
      ]
     },
     "execution_count": 34,
     "metadata": {},
     "output_type": "execute_result"
    }
   ],
   "source": [
    "cali_merge = pd.merge(cali_layoffs, cali_population, how=\"left\", left_on=\"County\", right_on=\"County Names\")\n",
    "cali_merge.drop(columns='Counties', inplace=True)\n",
    "cali_merge['City 2'] = cali_merge['City'].str.lower()\n",
    "cali_merge.head()"
   ]
  },
  {
   "cell_type": "markdown",
   "metadata": {},
   "source": [
    "### Extracting Only Necessary Records\n",
    "\n",
    "Now that the data has been standardized, we will be selecting the records that have a notice date from the year 2020 or 2019. This will allow for comparisons between a pandemic and non-pandemic year in terms of layoff notices. "
   ]
  },
  {
   "cell_type": "code",
   "execution_count": 35,
   "metadata": {},
   "outputs": [
    {
     "name": "stderr",
     "output_type": "stream",
     "text": [
      "/Users/dilcia_mercedes/.local/share/virtualenvs/cali_WARN-MY_IDcvv/lib/python3.8/site-packages/pandas/core/frame.py:4162: SettingWithCopyWarning: \n",
      "A value is trying to be set on a copy of a slice from a DataFrame\n",
      "\n",
      "See the caveats in the documentation: https://pandas.pydata.org/pandas-docs/stable/user_guide/indexing.html#returning-a-view-versus-a-copy\n",
      "  return super().drop(\n"
     ]
    },
    {
     "data": {
      "text/html": [
       "<div>\n",
       "<style scoped>\n",
       "    .dataframe tbody tr th:only-of-type {\n",
       "        vertical-align: middle;\n",
       "    }\n",
       "\n",
       "    .dataframe tbody tr th {\n",
       "        vertical-align: top;\n",
       "    }\n",
       "\n",
       "    .dataframe thead th {\n",
       "        text-align: right;\n",
       "    }\n",
       "</style>\n",
       "<table border=\"1\" class=\"dataframe\">\n",
       "  <thead>\n",
       "    <tr style=\"text-align: right;\">\n",
       "      <th></th>\n",
       "      <th>Notice Date</th>\n",
       "      <th>Effective Date</th>\n",
       "      <th>Received Date</th>\n",
       "      <th>Company</th>\n",
       "      <th>City</th>\n",
       "      <th>County</th>\n",
       "      <th>Employees</th>\n",
       "      <th>Layoff/Closure</th>\n",
       "      <th>County Orig</th>\n",
       "      <th>Year</th>\n",
       "      <th>Layoff/Closure clean</th>\n",
       "      <th>Population</th>\n",
       "      <th>City 2</th>\n",
       "    </tr>\n",
       "  </thead>\n",
       "  <tbody>\n",
       "    <tr>\n",
       "      <th>0</th>\n",
       "      <td>06/09/2020</td>\n",
       "      <td>06/07/2020</td>\n",
       "      <td>07/01/2020</td>\n",
       "      <td>Bay Club Redondo Beach</td>\n",
       "      <td>Redondo Beach</td>\n",
       "      <td>Los Angeles County</td>\n",
       "      <td>102.0</td>\n",
       "      <td>Layoff Permanent</td>\n",
       "      <td>Los Angeles County</td>\n",
       "      <td>2020</td>\n",
       "      <td>layoff permanent</td>\n",
       "      <td>10039107.0</td>\n",
       "      <td>redondo beach</td>\n",
       "    </tr>\n",
       "    <tr>\n",
       "      <th>1</th>\n",
       "      <td>06/09/2020</td>\n",
       "      <td>06/07/2020</td>\n",
       "      <td>07/01/2020</td>\n",
       "      <td>Bay Club Rolling Hills</td>\n",
       "      <td>Rolling Hills Estates</td>\n",
       "      <td>Los Angeles County</td>\n",
       "      <td>64.0</td>\n",
       "      <td>Layoff Permanent</td>\n",
       "      <td>Los Angeles County</td>\n",
       "      <td>2020</td>\n",
       "      <td>layoff permanent</td>\n",
       "      <td>10039107.0</td>\n",
       "      <td>rolling hills estates</td>\n",
       "    </tr>\n",
       "    <tr>\n",
       "      <th>2</th>\n",
       "      <td>06/09/2020</td>\n",
       "      <td>06/07/2020</td>\n",
       "      <td>07/01/2020</td>\n",
       "      <td>Bay Club Santa Monica</td>\n",
       "      <td>Santa Monica</td>\n",
       "      <td>Los Angeles County</td>\n",
       "      <td>82.0</td>\n",
       "      <td>Layoff Permanent</td>\n",
       "      <td>Los Angeles County</td>\n",
       "      <td>2020</td>\n",
       "      <td>layoff permanent</td>\n",
       "      <td>10039107.0</td>\n",
       "      <td>santa monica</td>\n",
       "    </tr>\n",
       "    <tr>\n",
       "      <th>3</th>\n",
       "      <td>06/19/2020</td>\n",
       "      <td>08/21/2020</td>\n",
       "      <td>07/01/2020</td>\n",
       "      <td>Weber Metals, Inc</td>\n",
       "      <td>Paramount</td>\n",
       "      <td>Los Angeles County</td>\n",
       "      <td>169.0</td>\n",
       "      <td>Layoff Permanent</td>\n",
       "      <td>Los Angeles County</td>\n",
       "      <td>2020</td>\n",
       "      <td>layoff permanent</td>\n",
       "      <td>10039107.0</td>\n",
       "      <td>paramount</td>\n",
       "    </tr>\n",
       "    <tr>\n",
       "      <th>4</th>\n",
       "      <td>06/09/2020</td>\n",
       "      <td>06/07/2020</td>\n",
       "      <td>07/01/2020</td>\n",
       "      <td>StoneTree Golf Club</td>\n",
       "      <td>Novato</td>\n",
       "      <td>Marin County</td>\n",
       "      <td>32.0</td>\n",
       "      <td>Layoff Permanent</td>\n",
       "      <td>Marin County</td>\n",
       "      <td>2020</td>\n",
       "      <td>layoff permanent</td>\n",
       "      <td>258826.0</td>\n",
       "      <td>novato</td>\n",
       "    </tr>\n",
       "  </tbody>\n",
       "</table>\n",
       "</div>"
      ],
      "text/plain": [
       "  Notice Date Effective Date Received Date                 Company  \\\n",
       "0  06/09/2020     06/07/2020    07/01/2020  Bay Club Redondo Beach   \n",
       "1  06/09/2020     06/07/2020    07/01/2020  Bay Club Rolling Hills   \n",
       "2  06/09/2020     06/07/2020    07/01/2020   Bay Club Santa Monica   \n",
       "3  06/19/2020     08/21/2020    07/01/2020       Weber Metals, Inc   \n",
       "4  06/09/2020     06/07/2020    07/01/2020     StoneTree Golf Club   \n",
       "\n",
       "                    City              County  Employees    Layoff/Closure  \\\n",
       "0          Redondo Beach  Los Angeles County      102.0  Layoff Permanent   \n",
       "1  Rolling Hills Estates  Los Angeles County       64.0  Layoff Permanent   \n",
       "2           Santa Monica  Los Angeles County       82.0  Layoff Permanent   \n",
       "3              Paramount  Los Angeles County      169.0  Layoff Permanent   \n",
       "4                 Novato        Marin County       32.0  Layoff Permanent   \n",
       "\n",
       "          County Orig  Year Layoff/Closure clean  Population  \\\n",
       "0  Los Angeles County  2020     layoff permanent  10039107.0   \n",
       "1  Los Angeles County  2020     layoff permanent  10039107.0   \n",
       "2  Los Angeles County  2020     layoff permanent  10039107.0   \n",
       "3  Los Angeles County  2020     layoff permanent  10039107.0   \n",
       "4        Marin County  2020     layoff permanent    258826.0   \n",
       "\n",
       "                  City 2  \n",
       "0          redondo beach  \n",
       "1  rolling hills estates  \n",
       "2           santa monica  \n",
       "3              paramount  \n",
       "4                 novato  "
      ]
     },
     "execution_count": 35,
     "metadata": {},
     "output_type": "execute_result"
    }
   ],
   "source": [
    "years = ['2020', '2019']\n",
    "\n",
    "cali_2020_2019 = cali_merge[cali_merge[\"Year\"].isin(years)]\n",
    "cali_2020_2019.drop(columns='County Names', inplace=True)\n",
    "cali_2020_2019.head()"
   ]
  },
  {
   "cell_type": "code",
   "execution_count": 36,
   "metadata": {},
   "outputs": [
    {
     "data": {
      "text/plain": [
       "6714"
      ]
     },
     "execution_count": 36,
     "metadata": {},
     "output_type": "execute_result"
    }
   ],
   "source": [
    "len(cali_2020_2019)"
   ]
  },
  {
   "cell_type": "code",
   "execution_count": 37,
   "metadata": {},
   "outputs": [],
   "source": [
    "cali_2020_2019.to_csv('../data/harmonizing/clean_warn_data.csv', index=False)"
   ]
  }
 ],
 "metadata": {
  "kernelspec": {
   "display_name": "Python 3",
   "language": "python",
   "name": "python3"
  },
  "language_info": {
   "codemirror_mode": {
    "name": "ipython",
    "version": 3
   },
   "file_extension": ".py",
   "mimetype": "text/x-python",
   "name": "python",
   "nbconvert_exporter": "python",
   "pygments_lexer": "ipython3",
   "version": "3.8.1"
  }
 },
 "nbformat": 4,
 "nbformat_minor": 4
}
