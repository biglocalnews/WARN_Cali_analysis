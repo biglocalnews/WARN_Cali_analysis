{
 "cells": [
  {
   "cell_type": "code",
   "execution_count": 1,
   "metadata": {},
   "outputs": [],
   "source": [
    "import pandas as pd\n",
    "import numpy as np"
   ]
  },
  {
   "cell_type": "markdown",
   "metadata": {},
   "source": [
    "### The California WARN Analysis\n",
    "\n",
    "We are comparing 2019 layoffs to 2020 layoffs."
   ]
  },
  {
   "cell_type": "code",
   "execution_count": 2,
   "metadata": {},
   "outputs": [],
   "source": [
    "warn_data = pd.read_csv('../data/analysis/finalized_warn_data.csv')"
   ]
  },
  {
   "cell_type": "code",
   "execution_count": 3,
   "metadata": {},
   "outputs": [
    {
     "data": {
      "text/html": [
       "<div>\n",
       "<style scoped>\n",
       "    .dataframe tbody tr th:only-of-type {\n",
       "        vertical-align: middle;\n",
       "    }\n",
       "\n",
       "    .dataframe tbody tr th {\n",
       "        vertical-align: top;\n",
       "    }\n",
       "\n",
       "    .dataframe thead th {\n",
       "        text-align: right;\n",
       "    }\n",
       "</style>\n",
       "<table border=\"1\" class=\"dataframe\">\n",
       "  <thead>\n",
       "    <tr style=\"text-align: right;\">\n",
       "      <th></th>\n",
       "      <th>Notice Date</th>\n",
       "      <th>Effective Date</th>\n",
       "      <th>Received Date</th>\n",
       "      <th>Company</th>\n",
       "      <th>City</th>\n",
       "      <th>County</th>\n",
       "      <th>Employees</th>\n",
       "      <th>Layoff/Closure</th>\n",
       "      <th>Company 2</th>\n",
       "      <th>Parent Company</th>\n",
       "      <th>Company Affiliation</th>\n",
       "      <th>DBA Name</th>\n",
       "      <th>County Orig</th>\n",
       "      <th>Year</th>\n",
       "      <th>Layoff/Closure clean</th>\n",
       "      <th>Population</th>\n",
       "      <th>City 2</th>\n",
       "    </tr>\n",
       "  </thead>\n",
       "  <tbody>\n",
       "    <tr>\n",
       "      <th>0</th>\n",
       "      <td>06/09/2020</td>\n",
       "      <td>06/07/2020</td>\n",
       "      <td>07/01/2020</td>\n",
       "      <td>Bay Club Redondo Beach</td>\n",
       "      <td>Redondo Beach</td>\n",
       "      <td>Los Angeles County</td>\n",
       "      <td>102.0</td>\n",
       "      <td>Layoff Permanent</td>\n",
       "      <td>BAY CLUB</td>\n",
       "      <td>BAY CLUB</td>\n",
       "      <td>BAY CLUB</td>\n",
       "      <td>BAY CLUB</td>\n",
       "      <td>Los Angeles County</td>\n",
       "      <td>2020.0</td>\n",
       "      <td>layoff permanent</td>\n",
       "      <td>10039107.0</td>\n",
       "      <td>redondo beach</td>\n",
       "    </tr>\n",
       "    <tr>\n",
       "      <th>1</th>\n",
       "      <td>06/09/2020</td>\n",
       "      <td>06/07/2020</td>\n",
       "      <td>07/01/2020</td>\n",
       "      <td>Bay Club Rolling Hills</td>\n",
       "      <td>Rolling Hills Estates</td>\n",
       "      <td>Los Angeles County</td>\n",
       "      <td>64.0</td>\n",
       "      <td>Layoff Permanent</td>\n",
       "      <td>BAY CLUB ROLLING HILLS</td>\n",
       "      <td>BAY CLUB ROLLING HILLS</td>\n",
       "      <td>BAY CLUB</td>\n",
       "      <td>BAY CLUB ROLLING HILLS</td>\n",
       "      <td>Los Angeles County</td>\n",
       "      <td>2020.0</td>\n",
       "      <td>layoff permanent</td>\n",
       "      <td>10039107.0</td>\n",
       "      <td>rolling hills estates</td>\n",
       "    </tr>\n",
       "    <tr>\n",
       "      <th>2</th>\n",
       "      <td>06/09/2020</td>\n",
       "      <td>06/07/2020</td>\n",
       "      <td>07/01/2020</td>\n",
       "      <td>Bay Club Santa Monica</td>\n",
       "      <td>Santa Monica</td>\n",
       "      <td>Los Angeles County</td>\n",
       "      <td>82.0</td>\n",
       "      <td>Layoff Permanent</td>\n",
       "      <td>BAY CLUB SANTA MONICA</td>\n",
       "      <td>BAY CLUB SANTA MONICA</td>\n",
       "      <td>BAY CLUB</td>\n",
       "      <td>BAY CLUB SANTA MONICA</td>\n",
       "      <td>Los Angeles County</td>\n",
       "      <td>2020.0</td>\n",
       "      <td>layoff permanent</td>\n",
       "      <td>10039107.0</td>\n",
       "      <td>santa monica</td>\n",
       "    </tr>\n",
       "    <tr>\n",
       "      <th>3</th>\n",
       "      <td>06/19/2020</td>\n",
       "      <td>08/21/2020</td>\n",
       "      <td>07/01/2020</td>\n",
       "      <td>Weber Metals, Inc</td>\n",
       "      <td>Paramount</td>\n",
       "      <td>Los Angeles County</td>\n",
       "      <td>169.0</td>\n",
       "      <td>Layoff Permanent</td>\n",
       "      <td>WEBER METALS INC</td>\n",
       "      <td>WEBER METALS INC</td>\n",
       "      <td>WEBER METALS INC</td>\n",
       "      <td>WEBER METALS INC</td>\n",
       "      <td>Los Angeles County</td>\n",
       "      <td>2020.0</td>\n",
       "      <td>layoff permanent</td>\n",
       "      <td>10039107.0</td>\n",
       "      <td>paramount</td>\n",
       "    </tr>\n",
       "    <tr>\n",
       "      <th>4</th>\n",
       "      <td>06/09/2020</td>\n",
       "      <td>06/07/2020</td>\n",
       "      <td>07/01/2020</td>\n",
       "      <td>StoneTree Golf Club</td>\n",
       "      <td>Novato</td>\n",
       "      <td>Marin County</td>\n",
       "      <td>32.0</td>\n",
       "      <td>Layoff Permanent</td>\n",
       "      <td>STONETREE GOLF CLUB</td>\n",
       "      <td>STONETREE GOLF CLUB</td>\n",
       "      <td>STONETREE GOLF CLUB</td>\n",
       "      <td>STONETREE GOLF CLUB</td>\n",
       "      <td>Marin County</td>\n",
       "      <td>2020.0</td>\n",
       "      <td>layoff permanent</td>\n",
       "      <td>258826.0</td>\n",
       "      <td>novato</td>\n",
       "    </tr>\n",
       "  </tbody>\n",
       "</table>\n",
       "</div>"
      ],
      "text/plain": [
       "  Notice Date Effective Date Received Date                 Company  \\\n",
       "0  06/09/2020     06/07/2020    07/01/2020  Bay Club Redondo Beach   \n",
       "1  06/09/2020     06/07/2020    07/01/2020  Bay Club Rolling Hills   \n",
       "2  06/09/2020     06/07/2020    07/01/2020   Bay Club Santa Monica   \n",
       "3  06/19/2020     08/21/2020    07/01/2020       Weber Metals, Inc   \n",
       "4  06/09/2020     06/07/2020    07/01/2020     StoneTree Golf Club   \n",
       "\n",
       "                    City              County  Employees    Layoff/Closure  \\\n",
       "0          Redondo Beach  Los Angeles County      102.0  Layoff Permanent   \n",
       "1  Rolling Hills Estates  Los Angeles County       64.0  Layoff Permanent   \n",
       "2           Santa Monica  Los Angeles County       82.0  Layoff Permanent   \n",
       "3              Paramount  Los Angeles County      169.0  Layoff Permanent   \n",
       "4                 Novato        Marin County       32.0  Layoff Permanent   \n",
       "\n",
       "                Company 2          Parent Company  Company Affiliation  \\\n",
       "0                BAY CLUB                BAY CLUB             BAY CLUB   \n",
       "1  BAY CLUB ROLLING HILLS  BAY CLUB ROLLING HILLS             BAY CLUB   \n",
       "2   BAY CLUB SANTA MONICA   BAY CLUB SANTA MONICA             BAY CLUB   \n",
       "3        WEBER METALS INC        WEBER METALS INC     WEBER METALS INC   \n",
       "4     STONETREE GOLF CLUB     STONETREE GOLF CLUB  STONETREE GOLF CLUB   \n",
       "\n",
       "                 DBA Name         County Orig    Year Layoff/Closure clean  \\\n",
       "0                BAY CLUB  Los Angeles County  2020.0     layoff permanent   \n",
       "1  BAY CLUB ROLLING HILLS  Los Angeles County  2020.0     layoff permanent   \n",
       "2   BAY CLUB SANTA MONICA  Los Angeles County  2020.0     layoff permanent   \n",
       "3        WEBER METALS INC  Los Angeles County  2020.0     layoff permanent   \n",
       "4     STONETREE GOLF CLUB        Marin County  2020.0     layoff permanent   \n",
       "\n",
       "   Population                 City 2  \n",
       "0  10039107.0          redondo beach  \n",
       "1  10039107.0  rolling hills estates  \n",
       "2  10039107.0           santa monica  \n",
       "3  10039107.0              paramount  \n",
       "4    258826.0                 novato  "
      ]
     },
     "execution_count": 3,
     "metadata": {},
     "output_type": "execute_result"
    }
   ],
   "source": [
    "warn_data.head()"
   ]
  },
  {
   "cell_type": "code",
   "execution_count": 4,
   "metadata": {},
   "outputs": [
    {
     "data": {
      "text/html": [
       "<div>\n",
       "<style scoped>\n",
       "    .dataframe tbody tr th:only-of-type {\n",
       "        vertical-align: middle;\n",
       "    }\n",
       "\n",
       "    .dataframe tbody tr th {\n",
       "        vertical-align: top;\n",
       "    }\n",
       "\n",
       "    .dataframe thead th {\n",
       "        text-align: right;\n",
       "    }\n",
       "</style>\n",
       "<table border=\"1\" class=\"dataframe\">\n",
       "  <thead>\n",
       "    <tr style=\"text-align: right;\">\n",
       "      <th></th>\n",
       "      <th>Notice Date</th>\n",
       "      <th>Effective Date</th>\n",
       "      <th>Received Date</th>\n",
       "      <th>Company</th>\n",
       "      <th>City</th>\n",
       "      <th>County</th>\n",
       "      <th>Employees</th>\n",
       "      <th>Layoff/Closure</th>\n",
       "      <th>Company 2</th>\n",
       "      <th>Parent Company</th>\n",
       "      <th>Company Affiliation</th>\n",
       "      <th>DBA Name</th>\n",
       "      <th>County Orig</th>\n",
       "      <th>Year</th>\n",
       "      <th>Layoff/Closure clean</th>\n",
       "      <th>Population</th>\n",
       "      <th>City 2</th>\n",
       "    </tr>\n",
       "  </thead>\n",
       "  <tbody>\n",
       "    <tr>\n",
       "      <th>6259</th>\n",
       "      <td>07/01/2019</td>\n",
       "      <td>09/03/2019</td>\n",
       "      <td>07/02/2019</td>\n",
       "      <td>Prometheus Laboratories Inc</td>\n",
       "      <td>San Diego</td>\n",
       "      <td>San Diego County</td>\n",
       "      <td>72.0</td>\n",
       "      <td>Layoff Permanent</td>\n",
       "      <td>PROMETHEUS LABORATORIES INC</td>\n",
       "      <td>PROMETHEUS LABORATORIES INC</td>\n",
       "      <td>PROMETHEUS LABORATORIES INC</td>\n",
       "      <td>PROMETHEUS LABORATORIES INC</td>\n",
       "      <td>San Diego County</td>\n",
       "      <td>2019.0</td>\n",
       "      <td>layoff permanent</td>\n",
       "      <td>3338330.0</td>\n",
       "      <td>san diego</td>\n",
       "    </tr>\n",
       "    <tr>\n",
       "      <th>6260</th>\n",
       "      <td>06/26/2019</td>\n",
       "      <td>07/31/2019</td>\n",
       "      <td>07/02/2019</td>\n",
       "      <td>Twentieth Century Fox Film Corporation</td>\n",
       "      <td>Los Angeles</td>\n",
       "      <td>Los Angeles County</td>\n",
       "      <td>54.0</td>\n",
       "      <td>Layoff Permanent</td>\n",
       "      <td>TWENTIETH CENTURY FOX FILM CORPORATION</td>\n",
       "      <td>TWENTIETH CENTURY FOX FILM CORPORATION</td>\n",
       "      <td>TWENTIETH CENTURY FOX FILM CORPORATION</td>\n",
       "      <td>TWENTIETH CENTURY FOX FILM CORPORATION</td>\n",
       "      <td>Los Angeles County</td>\n",
       "      <td>2019.0</td>\n",
       "      <td>layoff permanent</td>\n",
       "      <td>10039107.0</td>\n",
       "      <td>los angeles</td>\n",
       "    </tr>\n",
       "    <tr>\n",
       "      <th>6261</th>\n",
       "      <td>07/02/2019</td>\n",
       "      <td>09/02/2019</td>\n",
       "      <td>07/02/2019</td>\n",
       "      <td>Air Force Village West, Inc. d/b/a AltavitaVil...</td>\n",
       "      <td>Riverside</td>\n",
       "      <td>Riverside County</td>\n",
       "      <td>331.0</td>\n",
       "      <td>Layoff Permanent</td>\n",
       "      <td>AIR FORCE VILLAGE WEST INC DBA ALTAVITAVILLAGE</td>\n",
       "      <td>AIR FORCE VILLAGE WEST INC DBA ALTAVITAVILLAGE</td>\n",
       "      <td>AIR FORCE VILLAGE WEST INC</td>\n",
       "      <td>ALTAVITAVILLAGE</td>\n",
       "      <td>Riverside County</td>\n",
       "      <td>2019.0</td>\n",
       "      <td>layoff permanent</td>\n",
       "      <td>2470546.0</td>\n",
       "      <td>riverside</td>\n",
       "    </tr>\n",
       "    <tr>\n",
       "      <th>6262</th>\n",
       "      <td>06/27/2019</td>\n",
       "      <td>08/27/2019</td>\n",
       "      <td>07/01/2019</td>\n",
       "      <td>Nexon M Inc.</td>\n",
       "      <td>Emeryville</td>\n",
       "      <td>Alameda County</td>\n",
       "      <td>53.0</td>\n",
       "      <td>Closure Permanent</td>\n",
       "      <td>NEXON M INC</td>\n",
       "      <td>NEXON M INC</td>\n",
       "      <td>NEXON M INC</td>\n",
       "      <td>NEXON M INC</td>\n",
       "      <td>Alameda County</td>\n",
       "      <td>2019.0</td>\n",
       "      <td>closure permanent</td>\n",
       "      <td>1671329.0</td>\n",
       "      <td>emeryville</td>\n",
       "    </tr>\n",
       "    <tr>\n",
       "      <th>6263</th>\n",
       "      <td>06/26/2019</td>\n",
       "      <td>08/31/2019</td>\n",
       "      <td>07/01/2019</td>\n",
       "      <td>State Farm Mutual Automobile InsuranceCompany</td>\n",
       "      <td>Irvine</td>\n",
       "      <td>Orange County</td>\n",
       "      <td>156.0</td>\n",
       "      <td>Closure Permanent</td>\n",
       "      <td>STATE FARM MUTUAL AUTOMOBILE INSURANCECOMPANY</td>\n",
       "      <td>STATE FARM MUTUAL AUTOMOBILE INSURANCECOMPANY</td>\n",
       "      <td>STATE FARM MUTUAL AUTOMOBILE INSURANCECOMPANY</td>\n",
       "      <td>STATE FARM MUTUAL AUTOMOBILE INSURANCECOMPANY</td>\n",
       "      <td>Orange County</td>\n",
       "      <td>2019.0</td>\n",
       "      <td>closure permanent</td>\n",
       "      <td>3175692.0</td>\n",
       "      <td>irvine</td>\n",
       "    </tr>\n",
       "  </tbody>\n",
       "</table>\n",
       "</div>"
      ],
      "text/plain": [
       "     Notice Date Effective Date Received Date  \\\n",
       "6259  07/01/2019     09/03/2019    07/02/2019   \n",
       "6260  06/26/2019     07/31/2019    07/02/2019   \n",
       "6261  07/02/2019     09/02/2019    07/02/2019   \n",
       "6262  06/27/2019     08/27/2019    07/01/2019   \n",
       "6263  06/26/2019     08/31/2019    07/01/2019   \n",
       "\n",
       "                                                Company         City  \\\n",
       "6259                        Prometheus Laboratories Inc    San Diego   \n",
       "6260             Twentieth Century Fox Film Corporation  Los Angeles   \n",
       "6261  Air Force Village West, Inc. d/b/a AltavitaVil...    Riverside   \n",
       "6262                                       Nexon M Inc.   Emeryville   \n",
       "6263      State Farm Mutual Automobile InsuranceCompany       Irvine   \n",
       "\n",
       "                  County  Employees     Layoff/Closure  \\\n",
       "6259    San Diego County       72.0   Layoff Permanent   \n",
       "6260  Los Angeles County       54.0   Layoff Permanent   \n",
       "6261    Riverside County      331.0   Layoff Permanent   \n",
       "6262      Alameda County       53.0  Closure Permanent   \n",
       "6263       Orange County      156.0  Closure Permanent   \n",
       "\n",
       "                                           Company 2  \\\n",
       "6259                     PROMETHEUS LABORATORIES INC   \n",
       "6260          TWENTIETH CENTURY FOX FILM CORPORATION   \n",
       "6261  AIR FORCE VILLAGE WEST INC DBA ALTAVITAVILLAGE   \n",
       "6262                                     NEXON M INC   \n",
       "6263   STATE FARM MUTUAL AUTOMOBILE INSURANCECOMPANY   \n",
       "\n",
       "                                      Parent Company  \\\n",
       "6259                     PROMETHEUS LABORATORIES INC   \n",
       "6260          TWENTIETH CENTURY FOX FILM CORPORATION   \n",
       "6261  AIR FORCE VILLAGE WEST INC DBA ALTAVITAVILLAGE   \n",
       "6262                                     NEXON M INC   \n",
       "6263   STATE FARM MUTUAL AUTOMOBILE INSURANCECOMPANY   \n",
       "\n",
       "                                Company Affiliation  \\\n",
       "6259                    PROMETHEUS LABORATORIES INC   \n",
       "6260         TWENTIETH CENTURY FOX FILM CORPORATION   \n",
       "6261                     AIR FORCE VILLAGE WEST INC   \n",
       "6262                                    NEXON M INC   \n",
       "6263  STATE FARM MUTUAL AUTOMOBILE INSURANCECOMPANY   \n",
       "\n",
       "                                           DBA Name         County Orig  \\\n",
       "6259                    PROMETHEUS LABORATORIES INC    San Diego County   \n",
       "6260         TWENTIETH CENTURY FOX FILM CORPORATION  Los Angeles County   \n",
       "6261                                ALTAVITAVILLAGE    Riverside County   \n",
       "6262                                    NEXON M INC      Alameda County   \n",
       "6263  STATE FARM MUTUAL AUTOMOBILE INSURANCECOMPANY       Orange County   \n",
       "\n",
       "        Year Layoff/Closure clean  Population       City 2  \n",
       "6259  2019.0     layoff permanent   3338330.0    san diego  \n",
       "6260  2019.0     layoff permanent  10039107.0  los angeles  \n",
       "6261  2019.0     layoff permanent   2470546.0    riverside  \n",
       "6262  2019.0    closure permanent   1671329.0   emeryville  \n",
       "6263  2019.0    closure permanent   3175692.0       irvine  "
      ]
     },
     "execution_count": 4,
     "metadata": {},
     "output_type": "execute_result"
    }
   ],
   "source": [
    "warn_data.tail()"
   ]
  },
  {
   "cell_type": "code",
   "execution_count": 5,
   "metadata": {},
   "outputs": [],
   "source": [
    "## Creating separate dataframes for 2019 records and 2020 records\n",
    "\n",
    "cali_2019_info = warn_data[warn_data['Year'] == 2019]\n",
    "cali_2020_info = warn_data[warn_data['Year'] == 2020]"
   ]
  },
  {
   "cell_type": "code",
   "execution_count": 6,
   "metadata": {},
   "outputs": [
    {
     "data": {
      "text/plain": [
       "464"
      ]
     },
     "execution_count": 6,
     "metadata": {},
     "output_type": "execute_result"
    }
   ],
   "source": [
    "## Number of Companies that laid people off 2019 \n",
    "\n",
    "cali_2019_info['Company Affiliation'].nunique()"
   ]
  },
  {
   "cell_type": "code",
   "execution_count": 7,
   "metadata": {},
   "outputs": [
    {
     "data": {
      "text/plain": [
       "2842"
      ]
     },
     "execution_count": 7,
     "metadata": {},
     "output_type": "execute_result"
    }
   ],
   "source": [
    "## Number of Companies that laid people off 2020\n",
    "\n",
    "cali_2020_info['Company Affiliation'].nunique()"
   ]
  },
  {
   "cell_type": "code",
   "execution_count": 8,
   "metadata": {},
   "outputs": [
    {
     "ename": "NameError",
     "evalue": "name 'a' is not defined",
     "output_type": "error",
     "traceback": [
      "\u001b[0;31m---------------------------------------------------------------------------\u001b[0m",
      "\u001b[0;31mNameError\u001b[0m                                 Traceback (most recent call last)",
      "\u001b[0;32m<ipython-input-8-bd58363a63fc>\u001b[0m in \u001b[0;36m<module>\u001b[0;34m\u001b[0m\n\u001b[0;32m----> 1\u001b[0;31m \u001b[0ma\u001b[0m \u001b[0;34m+\u001b[0m \u001b[0mb\u001b[0m\u001b[0;34m\u001b[0m\u001b[0;34m\u001b[0m\u001b[0m\n\u001b[0m",
      "\u001b[0;31mNameError\u001b[0m: name 'a' is not defined"
     ]
    }
   ],
   "source": [
    "a + b"
   ]
  },
  {
   "cell_type": "code",
   "execution_count": null,
   "metadata": {},
   "outputs": [],
   "source": [
    "## Number of Laid Off Workers 2020\n",
    "\n",
    "cali_2020_info = warn_data[warn_data['Year'] == 2020]\n",
    "cali_2020_info['Employees'].sum()"
   ]
  },
  {
   "cell_type": "code",
   "execution_count": null,
   "metadata": {},
   "outputs": [],
   "source": [
    "## Number of Companies that laid people off 2020 \n",
    "\n",
    "cali_2020_info['Company_harmonizer_cleaned'].nunique()"
   ]
  },
  {
   "cell_type": "code",
   "execution_count": null,
   "metadata": {},
   "outputs": [],
   "source": [
    "## Number of Laid Off Workers from beginning of 2020 to Dec 11 - which is the most recent data we have.\n",
    "\n",
    "layoffs_closures_20 = cali_2020_info[cali_2020_info['Notice Date'] < '12/31/2020']\n",
    "layoffs_closures_20['Employees'].sum()"
   ]
  },
  {
   "cell_type": "code",
   "execution_count": null,
   "metadata": {},
   "outputs": [],
   "source": [
    "## Number of Laid Off Workers from beginning of 2019 to Dec 11 - which is the time frame for the data from 2020.\n",
    "\n",
    "layoffs_closures_20 = cali_2019_info[cali_2019_info['Notice Date'] < '12/31/2020']\n",
    "layoffs_closures_20['Employees'].sum()"
   ]
  },
  {
   "cell_type": "code",
   "execution_count": null,
   "metadata": {},
   "outputs": [],
   "source": [
    "## Figures for closures/layoffs in 2019\n",
    "\n",
    "figures_2019 = cali_2019_info.groupby(['Layoff/Closure clean']).sum()\n",
    "figures_2019.reset_index()\n",
    "figures_2019.drop(columns=['Year','Population', 'Company_harmonizer_score', 'Company_harmonizer_id'])"
   ]
  },
  {
   "cell_type": "code",
   "execution_count": null,
   "metadata": {},
   "outputs": [],
   "source": [
    "## Figures for closures/layoffs in 2020\n",
    "\n",
    "figures_2020 = cali_2020_info.groupby(['Layoff/Closure clean']).sum()\n",
    "figures_2020.reset_index()\n",
    "figures_2020.drop(columns=['Year','Population','Company_harmonizer_score', 'Company_harmonizer_id'])"
   ]
  },
  {
   "cell_type": "code",
   "execution_count": null,
   "metadata": {},
   "outputs": [],
   "source": [
    "layoffs = ['layoff permanent', 'layoff temporary', 'layoff type uncategorized']\n",
    "closures = ['closure permanent', 'closure temporary', 'closure type uncategorized']"
   ]
  },
  {
   "cell_type": "code",
   "execution_count": null,
   "metadata": {},
   "outputs": [],
   "source": [
    "# of all layoff types (perm, temp, unknown) for 2019\n",
    "\n",
    "layoffs_2019 = cali_2019_info[cali_2019_info['Layoff/Closure clean'].isin(layoffs)]\n",
    "layoffs_2019['Employees'].sum()"
   ]
  },
  {
   "cell_type": "code",
   "execution_count": null,
   "metadata": {},
   "outputs": [],
   "source": [
    "# of all closure types (perm, temp, unknown) for 2019\n",
    "\n",
    "closures_2019 = cali_2019_info[cali_2019_info['Layoff/Closure clean'].isin(closures)]\n",
    "closures_2019['Employees'].sum()"
   ]
  },
  {
   "cell_type": "code",
   "execution_count": null,
   "metadata": {},
   "outputs": [],
   "source": [
    "# of all layoff types (perm, temp, unknown) for 2020\n",
    "\n",
    "layoffs_2020 = cali_2020_info[cali_2020_info['Layoff/Closure clean'].isin(layoffs)]\n",
    "layoffs_2020['Employees'].sum()"
   ]
  },
  {
   "cell_type": "code",
   "execution_count": null,
   "metadata": {},
   "outputs": [],
   "source": [
    "# of all closure types (perm, temp, unknown) for 2020\n",
    "\n",
    "closures_2020 = cali_2020_info[cali_2020_info['Layoff/Closure clean'].isin(closures)]\n",
    "closures_2020['Employees'].sum()"
   ]
  },
  {
   "cell_type": "code",
   "execution_count": null,
   "metadata": {},
   "outputs": [],
   "source": [
    "# check that they add up\n",
    "\n",
    "layoffs_2020['Employees'].sum() + closures_2020['Employees'].sum()"
   ]
  },
  {
   "cell_type": "code",
   "execution_count": null,
   "metadata": {},
   "outputs": [],
   "source": [
    "layoffs_2019['Employees'].sum() + closures_2019['Employees'].sum()"
   ]
  },
  {
   "cell_type": "code",
   "execution_count": null,
   "metadata": {},
   "outputs": [],
   "source": [
    "# Calculations for 2019\n",
    "\n",
    "employees_sum_2019 = cali_2019_info[['County','Employees']]\n",
    "layoffs_sum_2019 = employees_sum_2019.groupby('County').agg('sum')\n",
    "layoffs_sum_2019.reset_index()"
   ]
  },
  {
   "cell_type": "code",
   "execution_count": null,
   "metadata": {},
   "outputs": [],
   "source": [
    "cali_info_and_sums_19 = pd.merge(cali_2019_info, layoffs_sum_2019, how=\"left\", left_on=\"County\", right_on=\"County\")\n",
    "cali_info_and_sums_19.rename(columns={'Employees_y':'Total Emp. Laid Off in County', 'Employees_x':'Employees'}, inplace=True)\n",
    "cali_info_and_sums_19.head()"
   ]
  },
  {
   "cell_type": "code",
   "execution_count": null,
   "metadata": {},
   "outputs": [],
   "source": [
    "cali_info_and_sums_19['Per Capita Laid Off 2019'] = (cali_info_and_sums_19['Total Emp. Laid Off in County']/cali_info_and_sums_19['Population']) * 100000\n",
    "per_capita_laid_off = cali_info_and_sums_19[['County', 'Per Capita Laid Off 2019']]\n",
    "per_capita_laid_off.groupby(\"County\").max().sort_values(by='Per Capita Laid Off 2019', ascending=False)"
   ]
  },
  {
   "cell_type": "code",
   "execution_count": null,
   "metadata": {},
   "outputs": [],
   "source": [
    "# Calculations for 2020\n",
    "\n",
    "employees_sum_2020 = cali_2020_info[['County','Employees']]\n",
    "layoffs_sum_2020 = employees_sum_2020.groupby('County').agg('sum')\n",
    "layoffs_sum_2020.reset_index()"
   ]
  },
  {
   "cell_type": "code",
   "execution_count": null,
   "metadata": {},
   "outputs": [],
   "source": [
    "cali_info_and_sums_20 = pd.merge(cali_2020_info, layoffs_sum_2020, how=\"left\", left_on=\"County\", right_on=\"County\")\n",
    "cali_info_and_sums_20.rename(columns={'Employees_y':'Total Emp. Laid Off in County', 'Employees_x':'Employees'}, inplace=True)\n",
    "cali_info_and_sums_20.head()"
   ]
  },
  {
   "cell_type": "code",
   "execution_count": null,
   "metadata": {},
   "outputs": [],
   "source": [
    "cali_info_and_sums_20['Per Capita Laid Off 2020'] = (cali_info_and_sums_20['Total Emp. Laid Off in County']/cali_info_and_sums_20['Population']) * 100000\n",
    "per_capita_laid_off_20 = cali_info_and_sums_20[['County', 'Per Capita Laid Off 2020']]\n",
    "per_capita_laid_off_20.groupby(\"County\").max().sort_values(by='Per Capita Laid Off 2020', ascending=False)"
   ]
  },
  {
   "cell_type": "code",
   "execution_count": null,
   "metadata": {},
   "outputs": [],
   "source": [
    "per_capitas = pd.merge(per_capita_laid_off_20, per_capita_laid_off, how='left', left_on=\"County\", right_on=\"County\")\n",
    "per_capitas.groupby(\"County\").max().sort_values(by='Per Capita Laid Off 2020', ascending=False)"
   ]
  },
  {
   "cell_type": "code",
   "execution_count": null,
   "metadata": {},
   "outputs": [],
   "source": [
    "layoff_closure_list_perm = ['layoff permanent', 'closure permanent']\n",
    "layoff_closure_list_temp = ['layoff temporary', 'closure temporary']\n",
    "counties_list = ['Butte County', 'Santa Cruz County', 'Yolo County', 'Orange County', 'Los Angeles County', 'Humboldt County', 'Fresno County', 'Mariposa County']"
   ]
  },
  {
   "cell_type": "code",
   "execution_count": null,
   "metadata": {},
   "outputs": [],
   "source": [
    "high_rent_burden_20_prm = cali_2020_info[cali_2020_info['County'].isin(counties_list)]\n",
    "high_rent_burden_20_prm = high_rent_burden_20_prm[high_rent_burden_20_prm['Layoff/Closure clean'].isin(layoff_closure_list_perm)]\n",
    "high_rent_burden_20_prm = high_rent_burden_20_prm[['County','Layoff/Closure clean','Employees']]\n",
    "high_rent_burden_20_prm = high_rent_burden_20_prm.groupby(['County','Layoff/Closure clean']).sum()\n",
    "high_rent_burden_20_prm.reset_index('Layoff/Closure clean')"
   ]
  },
  {
   "cell_type": "code",
   "execution_count": null,
   "metadata": {},
   "outputs": [],
   "source": [
    "high_rent_burden_19_prm = cali_2019_info[cali_2019_info['County'].isin(counties_list)]\n",
    "high_rent_burden_19_prm = high_rent_burden_19_prm[high_rent_burden_19_prm['Layoff/Closure clean'].isin(layoff_closure_list_perm)]\n",
    "high_rent_burden_19_prm = high_rent_burden_19_prm[['County','Layoff/Closure clean','Employees']]\n",
    "high_rent_burden_19_prm = high_rent_burden_19_prm.groupby(['County','Layoff/Closure clean']).sum()\n",
    "high_rent_burden_19_prm.reset_index('Layoff/Closure clean')"
   ]
  },
  {
   "cell_type": "code",
   "execution_count": null,
   "metadata": {},
   "outputs": [],
   "source": [
    "perm_job_loss = pd.merge(high_rent_burden_20_prm, high_rent_burden_19_prm, how='left', left_on=[\"County\", \"Layoff/Closure clean\"], right_on=[\"County\", \"Layoff/Closure clean\"])\n",
    "perm_job_loss.rename(columns={'Employees_x':'Employees Laid Off 2020', 'Employees_y':'Employees Laid Off 2019'}, inplace=True)"
   ]
  },
  {
   "cell_type": "code",
   "execution_count": null,
   "metadata": {},
   "outputs": [],
   "source": [
    "high_rent_burden_20_tmp = cali_2020_info[cali_2020_info['County'].isin(counties_list)]\n",
    "high_rent_burden_20_tmp = high_rent_burden_20_tmp[high_rent_burden_20_tmp['Layoff/Closure clean'].isin(layoff_closure_list_temp)]\n",
    "high_rent_burden_20_tmp = high_rent_burden_20_tmp[['County','Layoff/Closure clean','Employees']]\n",
    "high_rent_burden_20_tmp = high_rent_burden_20_tmp.groupby(['County','Layoff/Closure clean']).sum()\n",
    "high_rent_burden_20_tmp.reset_index('Layoff/Closure clean')"
   ]
  },
  {
   "cell_type": "code",
   "execution_count": null,
   "metadata": {},
   "outputs": [],
   "source": [
    "high_rent_burden_19_tmp = cali_2019_info[cali_2019_info['County'].isin(counties_list)]\n",
    "high_rent_burden_19_tmp = high_rent_burden_19_tmp[high_rent_burden_19_tmp['Layoff/Closure clean'].isin(layoff_closure_list_temp)]\n",
    "high_rent_burden_19_tmp = high_rent_burden_19_tmp[['County','Layoff/Closure clean','Employees']]\n",
    "high_rent_burden_19_tmp = high_rent_burden_19_tmp.groupby(['County','Layoff/Closure clean']).sum()\n",
    "high_rent_burden_19_tmp.reset_index('Layoff/Closure clean')"
   ]
  },
  {
   "cell_type": "code",
   "execution_count": null,
   "metadata": {},
   "outputs": [],
   "source": [
    "temp_job_loss = pd.merge(high_rent_burden_20_tmp, high_rent_burden_19_tmp, how='left', left_on=[\"County\", \"Layoff/Closure clean\"], right_on=[\"County\", \"Layoff/Closure clean\"])\n",
    "temp_job_loss.rename(columns={'Employees_x':'Employees Laid Off 2020', 'Employees_y':'Employees Laid Off 2019'}, inplace=True)"
   ]
  },
  {
   "cell_type": "code",
   "execution_count": null,
   "metadata": {},
   "outputs": [],
   "source": [
    "temp_job_loss"
   ]
  },
  {
   "cell_type": "code",
   "execution_count": null,
   "metadata": {},
   "outputs": [],
   "source": [
    "perm_job_loss"
   ]
  },
  {
   "cell_type": "code",
   "execution_count": null,
   "metadata": {},
   "outputs": [],
   "source": [
    "high_rent_burden_19_prm = cali_2019_info[cali_2019_info['County'].isin(counties_list)]\n",
    "high_rent_burden_19_prm = high_rent_burden_19_prm[high_rent_burden_19_prm['Layoff/Closure clean'].isin(layoff_closure_list_perm)]\n",
    "perm_job_loss_total = high_rent_burden_19_prm[['County','Layoff/Closure clean','Employees']]\n",
    "perm_job_loss_total = perm_job_loss_total.groupby(['County']).sum()\n",
    "perm_job_loss_total"
   ]
  },
  {
   "cell_type": "code",
   "execution_count": null,
   "metadata": {},
   "outputs": [],
   "source": [
    "high_rent_burden_20_prm = cali_2020_info[cali_2020_info['County'].isin(counties_list)]\n",
    "high_rent_burden_20_prm = high_rent_burden_20_prm[high_rent_burden_20_prm['Layoff/Closure clean'].isin(layoff_closure_list_perm)]\n",
    "perm_job_loss_total_20 = high_rent_burden_20_prm[['County','Layoff/Closure clean','Employees']]\n",
    "perm_job_loss_total_20 = perm_job_loss_total_20.groupby(['County']).sum()\n",
    "perm_job_loss_total_20"
   ]
  },
  {
   "cell_type": "code",
   "execution_count": null,
   "metadata": {},
   "outputs": [],
   "source": [
    "sums_2020_2019 = perm_job_loss_total_20.merge(perm_job_loss_total, how=\"left\", left_on=\"County\", right_on=\"County\")\n",
    "sums_2020_2019.rename(columns={'Employees_x':'Permanent L/C Total 2020','Employees_y':'Permanent L/C Total 2019'}, inplace=True)\n",
    "sums_2020_2019"
   ]
  },
  {
   "cell_type": "code",
   "execution_count": null,
   "metadata": {},
   "outputs": [],
   "source": [
    "high_rent_burden_19_tmp = cali_2019_info[cali_2019_info['County'].isin(counties_list)]\n",
    "high_rent_burden_19_tmp = high_rent_burden_19_tmp[high_rent_burden_19_tmp['Layoff/Closure clean'].isin(layoff_closure_list_temp)]\n",
    "temp_job_loss_total = high_rent_burden_19_tmp[['County','Layoff/Closure clean','Employees']]\n",
    "temp_job_loss_total = temp_job_loss_total.groupby(['County']).sum()\n",
    "temp_job_loss_total"
   ]
  },
  {
   "cell_type": "code",
   "execution_count": null,
   "metadata": {},
   "outputs": [],
   "source": [
    "high_rent_burden_20_tmp = cali_2020_info[cali_2020_info['County'].isin(counties_list)]\n",
    "high_rent_burden_20_tmp = high_rent_burden_20_tmp[high_rent_burden_20_tmp['Layoff/Closure clean'].isin(layoff_closure_list_temp)]\n",
    "temp_job_loss_total_20 = high_rent_burden_20_tmp[['County','Layoff/Closure clean','Employees']]\n",
    "temp_job_loss_total_20 = temp_job_loss_total_20.groupby(['County']).sum()\n",
    "temp_job_loss_total_20"
   ]
  },
  {
   "cell_type": "code",
   "execution_count": null,
   "metadata": {},
   "outputs": [],
   "source": [
    "sums_tmp_2020_2019 = temp_job_loss_total_20.merge(temp_job_loss_total, how=\"left\", left_on=\"County\", right_on=\"County\")\n",
    "sums_tmp_2020_2019.rename(columns={'Employees_x':'Temporary L/C Total 2020','Employees_y':'Temporary L/C Total 2019'}, inplace=True)\n",
    "sums_tmp_2020_2019"
   ]
  },
  {
   "cell_type": "code",
   "execution_count": null,
   "metadata": {},
   "outputs": [],
   "source": [
    "#Fact Check for # of Layoffs in Mariposa County\n",
    "\n",
    "Mariposa = cali_2020_info[cali_2020_info['County'] == 'Mariposa County']\n",
    "Mariposa.groupby('County').sum() # Laid Off Employees totals 2,262"
   ]
  },
  {
   "cell_type": "code",
   "execution_count": null,
   "metadata": {},
   "outputs": [],
   "source": [
    "Mariposa.groupby('County').max() # Population totals 17,203"
   ]
  },
  {
   "cell_type": "code",
   "execution_count": null,
   "metadata": {},
   "outputs": [],
   "source": [
    "Mariposa = cali_2020_info[cali_2020_info['County'] == 'Mariposa County']\n",
    "Mariposa"
   ]
  },
  {
   "cell_type": "code",
   "execution_count": null,
   "metadata": {},
   "outputs": [],
   "source": [
    "# Fact Check that West Sacramento is most affected by Layoffs in Yolo County\n",
    "\n",
    "Yolo = cali_2020_info[cali_2020_info['County'] == 'Yolo County']\n",
    "Yolo = Yolo[Yolo['Year'] == 2020]\n",
    "Yolo.groupby('City').sum()"
   ]
  },
  {
   "cell_type": "code",
   "execution_count": null,
   "metadata": {},
   "outputs": [],
   "source": [
    "## Fact-Checking how many Layoffs Driven Performance Brands had in total for 2020.\n",
    "\n",
    "Yolo = cali_2020_info[cali_2020_info['County'] == 'Yolo County']\n",
    "sum_it = Yolo[Yolo['Company_harmonizer_cleaned'] == 'DRIVEN PERFORMANCE BRANDS']\n",
    "sum_it.groupby('County').sum()"
   ]
  },
  {
   "cell_type": "code",
   "execution_count": null,
   "metadata": {},
   "outputs": [],
   "source": [
    "## Fact Check Santa Cruz County's permanent layoff figures\n",
    "\n",
    "santa_cruz_20 = cali_2020_info[cali_2020_info['County'] == 'Santa Cruz County'] \n",
    "santa_cruz_20.groupby('County').max()"
   ]
  },
  {
   "cell_type": "code",
   "execution_count": null,
   "metadata": {},
   "outputs": [],
   "source": [
    "santa_cruz_20_perm = santa_cruz_20[santa_cruz_20['Layoff/Closure clean'] == 'layoff permanent']\n",
    "santa_cruz_20_perm.groupby('County').max()\n",
    "\n",
    "#Just extract employee field"
   ]
  },
  {
   "cell_type": "code",
   "execution_count": null,
   "metadata": {},
   "outputs": [],
   "source": [
    "santa_cruz_20_perm[santa_cruz_20_perm['Employees'] == 265.0]"
   ]
  },
  {
   "cell_type": "code",
   "execution_count": null,
   "metadata": {},
   "outputs": [],
   "source": [
    "## No Layoffs from Mount Hermon Association, so it seems like the layoffs for the company in 2020 are not a seasonal thing\n",
    "\n",
    "santa_cruz_19 = cali_2019_info[cali_2019_info['County'] == 'Santa Cruz County']\n",
    "santa_cruz_19"
   ]
  },
  {
   "cell_type": "code",
   "execution_count": null,
   "metadata": {},
   "outputs": [],
   "source": [
    "## Looking into Butte County, which had the highest rent burden\n",
    "\n",
    "butte = cali_2020_info[cali_2020_info['County'] == 'Butte County']\n",
    "butte"
   ]
  },
  {
   "cell_type": "code",
   "execution_count": null,
   "metadata": {},
   "outputs": [],
   "source": [
    "butte_19 = cali_2019_info[cali_2019_info['County'] == 'Butte County']\n",
    "butte_19 = butte_19[butte_19['Year'] == 2019]\n",
    "butte_19"
   ]
  },
  {
   "cell_type": "code",
   "execution_count": null,
   "metadata": {},
   "outputs": [],
   "source": [
    "sf = cali_2020_info[cali_2020_info['County'] == 'San Francisco County']\n",
    "sf['Company_harmonizer_cleaned'].nunique()"
   ]
  },
  {
   "cell_type": "code",
   "execution_count": null,
   "metadata": {},
   "outputs": [],
   "source": [
    "sf['Employees'].sum()"
   ]
  }
 ],
 "metadata": {
  "kernelspec": {
   "display_name": "Python 3",
   "language": "python",
   "name": "python3"
  },
  "language_info": {
   "codemirror_mode": {
    "name": "ipython",
    "version": 3
   },
   "file_extension": ".py",
   "mimetype": "text/x-python",
   "name": "python",
   "nbconvert_exporter": "python",
   "pygments_lexer": "ipython3",
   "version": "3.8.1"
  }
 },
 "nbformat": 4,
 "nbformat_minor": 4
}
