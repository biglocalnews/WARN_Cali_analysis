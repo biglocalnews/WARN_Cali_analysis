{
 "cells": [
  {
   "cell_type": "code",
   "execution_count": 1,
   "metadata": {},
   "outputs": [],
   "source": [
    "import pandas as pd\n",
    "import numpy as np\n",
    "import csv"
   ]
  },
  {
   "cell_type": "code",
   "execution_count": 2,
   "metadata": {},
   "outputs": [],
   "source": [
    "cali_layoffs = pd.read_csv('california_warn_raw.csv')\n",
    "cali_population = pd.read_csv('county_population.csv', delimiter='\\t', thousands=',')"
   ]
  },
  {
   "cell_type": "markdown",
   "metadata": {},
   "source": [
    "- California WARN data: https://edd.ca.gov/Jobs_and_Training/Layoff_Services_WARN.htm\n",
    "- population data from: https://www.census.gov/data/tables/time-series/demo/popest/2010s-counties-total.html#par_textimage_242301767"
   ]
  },
  {
   "cell_type": "markdown",
   "metadata": {},
   "source": [
    "### This notebook will explore layoffs in counties with high rent burdens"
   ]
  },
  {
   "cell_type": "code",
   "execution_count": 3,
   "metadata": {},
   "outputs": [
    {
     "data": {
      "text/html": [
       "<div>\n",
       "<style scoped>\n",
       "    .dataframe tbody tr th:only-of-type {\n",
       "        vertical-align: middle;\n",
       "    }\n",
       "\n",
       "    .dataframe tbody tr th {\n",
       "        vertical-align: top;\n",
       "    }\n",
       "\n",
       "    .dataframe thead th {\n",
       "        text-align: right;\n",
       "    }\n",
       "</style>\n",
       "<table border=\"1\" class=\"dataframe\">\n",
       "  <thead>\n",
       "    <tr style=\"text-align: right;\">\n",
       "      <th></th>\n",
       "      <th>Notice Date</th>\n",
       "      <th>Effective Date</th>\n",
       "      <th>Received Date</th>\n",
       "      <th>Company</th>\n",
       "      <th>City</th>\n",
       "      <th>County</th>\n",
       "      <th>Employees</th>\n",
       "      <th>Layoff/Closure</th>\n",
       "    </tr>\n",
       "  </thead>\n",
       "  <tbody>\n",
       "    <tr>\n",
       "      <th>0</th>\n",
       "      <td>10/26/2020</td>\n",
       "      <td>12/28/2020</td>\n",
       "      <td>11/10/2020</td>\n",
       "      <td>DAMAC Products LLC</td>\n",
       "      <td>La Mirada</td>\n",
       "      <td>Los Angeles County</td>\n",
       "      <td>79.0</td>\n",
       "      <td>Closure Permanent</td>\n",
       "    </tr>\n",
       "    <tr>\n",
       "      <th>1</th>\n",
       "      <td>10/27/2020</td>\n",
       "      <td>12/31/2020</td>\n",
       "      <td>11/10/2020</td>\n",
       "      <td>Gulfstream</td>\n",
       "      <td>Long Beach</td>\n",
       "      <td>Los Angeles County</td>\n",
       "      <td>608.0</td>\n",
       "      <td>Closure Permanent</td>\n",
       "    </tr>\n",
       "    <tr>\n",
       "      <th>2</th>\n",
       "      <td>10/26/2020</td>\n",
       "      <td>12/16/2020</td>\n",
       "      <td>11/10/2020</td>\n",
       "      <td>Renaissance Newport Beach Hotel</td>\n",
       "      <td>Newport Beach</td>\n",
       "      <td>Orange County</td>\n",
       "      <td>104.0</td>\n",
       "      <td>Closure Permanent</td>\n",
       "    </tr>\n",
       "    <tr>\n",
       "      <th>3</th>\n",
       "      <td>10/01/2020</td>\n",
       "      <td>10/05/2020</td>\n",
       "      <td>11/10/2020</td>\n",
       "      <td>Howmet Aerospace</td>\n",
       "      <td>Rancho Cucamonga</td>\n",
       "      <td>San Bernardino County</td>\n",
       "      <td>66.0</td>\n",
       "      <td>Layoff Temporary</td>\n",
       "    </tr>\n",
       "    <tr>\n",
       "      <th>4</th>\n",
       "      <td>10/26/2020</td>\n",
       "      <td>07/07/2020</td>\n",
       "      <td>11/10/2020</td>\n",
       "      <td>Newport Diversified, Inc.</td>\n",
       "      <td>El Cajon</td>\n",
       "      <td>San Diego County</td>\n",
       "      <td>91.0</td>\n",
       "      <td>Layoff Temporary</td>\n",
       "    </tr>\n",
       "  </tbody>\n",
       "</table>\n",
       "</div>"
      ],
      "text/plain": [
       "  Notice Date Effective Date Received Date                          Company  \\\n",
       "0  10/26/2020     12/28/2020    11/10/2020               DAMAC Products LLC   \n",
       "1  10/27/2020     12/31/2020    11/10/2020                       Gulfstream   \n",
       "2  10/26/2020     12/16/2020    11/10/2020  Renaissance Newport Beach Hotel   \n",
       "3  10/01/2020     10/05/2020    11/10/2020                 Howmet Aerospace   \n",
       "4  10/26/2020     07/07/2020    11/10/2020        Newport Diversified, Inc.   \n",
       "\n",
       "               City                  County  Employees     Layoff/Closure  \n",
       "0         La Mirada     Los Angeles County        79.0  Closure Permanent  \n",
       "1        Long Beach     Los Angeles County       608.0  Closure Permanent  \n",
       "2     Newport Beach          Orange County       104.0  Closure Permanent  \n",
       "3  Rancho Cucamonga  San Bernardino County        66.0   Layoff Temporary  \n",
       "4          El Cajon       San Diego County        91.0   Layoff Temporary  "
      ]
     },
     "execution_count": 3,
     "metadata": {},
     "output_type": "execute_result"
    }
   ],
   "source": [
    "cali_layoffs.head()"
   ]
  },
  {
   "cell_type": "code",
   "execution_count": 4,
   "metadata": {},
   "outputs": [
    {
     "data": {
      "text/html": [
       "<div>\n",
       "<style scoped>\n",
       "    .dataframe tbody tr th:only-of-type {\n",
       "        vertical-align: middle;\n",
       "    }\n",
       "\n",
       "    .dataframe tbody tr th {\n",
       "        vertical-align: top;\n",
       "    }\n",
       "\n",
       "    .dataframe thead th {\n",
       "        text-align: right;\n",
       "    }\n",
       "</style>\n",
       "<table border=\"1\" class=\"dataframe\">\n",
       "  <thead>\n",
       "    <tr style=\"text-align: right;\">\n",
       "      <th></th>\n",
       "      <th>Notice Date</th>\n",
       "      <th>Effective Date</th>\n",
       "      <th>Received Date</th>\n",
       "      <th>Company</th>\n",
       "      <th>City</th>\n",
       "      <th>County</th>\n",
       "      <th>Employees</th>\n",
       "      <th>Layoff/Closure</th>\n",
       "    </tr>\n",
       "  </thead>\n",
       "  <tbody>\n",
       "    <tr>\n",
       "      <th>9502</th>\n",
       "      <td>06/25/2015</td>\n",
       "      <td>08/24/2015</td>\n",
       "      <td>06/30/2015</td>\n",
       "      <td>Intuit, Inc.</td>\n",
       "      <td>San Francisco</td>\n",
       "      <td>No County Name</td>\n",
       "      <td>86.0</td>\n",
       "      <td>Layoff Permanent</td>\n",
       "    </tr>\n",
       "    <tr>\n",
       "      <th>9503</th>\n",
       "      <td>06/25/2015</td>\n",
       "      <td>08/24/2015</td>\n",
       "      <td>06/30/2015</td>\n",
       "      <td>Intuit, Inc.</td>\n",
       "      <td>Santa Monica</td>\n",
       "      <td>No County Name</td>\n",
       "      <td>49.0</td>\n",
       "      <td>Closure Permanent</td>\n",
       "    </tr>\n",
       "    <tr>\n",
       "      <th>9504</th>\n",
       "      <td>06/25/2015</td>\n",
       "      <td>08/24/2015</td>\n",
       "      <td>06/30/2015</td>\n",
       "      <td>Intuit, Inc.</td>\n",
       "      <td>Venice</td>\n",
       "      <td>No County Name</td>\n",
       "      <td>11.0</td>\n",
       "      <td>Closure Permanent</td>\n",
       "    </tr>\n",
       "    <tr>\n",
       "      <th>9505</th>\n",
       "      <td>06/29/2015</td>\n",
       "      <td>08/28/2015</td>\n",
       "      <td>06/30/2015</td>\n",
       "      <td>Safeway, Inc.</td>\n",
       "      <td>Pleasanton</td>\n",
       "      <td>No County Name</td>\n",
       "      <td>18.0</td>\n",
       "      <td>Layoff Unknown at this time</td>\n",
       "    </tr>\n",
       "    <tr>\n",
       "      <th>9506</th>\n",
       "      <td>06/30/2015</td>\n",
       "      <td>07/22/2015</td>\n",
       "      <td>06/30/2015</td>\n",
       "      <td>Medtronic Ablation Frontiers LLC</td>\n",
       "      <td>Carlsbad</td>\n",
       "      <td>No County Name</td>\n",
       "      <td>50.0</td>\n",
       "      <td>Closure Permanent</td>\n",
       "    </tr>\n",
       "  </tbody>\n",
       "</table>\n",
       "</div>"
      ],
      "text/plain": [
       "     Notice Date Effective Date Received Date  \\\n",
       "9502  06/25/2015     08/24/2015    06/30/2015   \n",
       "9503  06/25/2015     08/24/2015    06/30/2015   \n",
       "9504  06/25/2015     08/24/2015    06/30/2015   \n",
       "9505  06/29/2015     08/28/2015    06/30/2015   \n",
       "9506  06/30/2015     07/22/2015    06/30/2015   \n",
       "\n",
       "                               Company           City          County  \\\n",
       "9502                      Intuit, Inc.  San Francisco  No County Name   \n",
       "9503                      Intuit, Inc.   Santa Monica  No County Name   \n",
       "9504                      Intuit, Inc.         Venice  No County Name   \n",
       "9505                     Safeway, Inc.     Pleasanton  No County Name   \n",
       "9506  Medtronic Ablation Frontiers LLC       Carlsbad  No County Name   \n",
       "\n",
       "      Employees               Layoff/Closure  \n",
       "9502       86.0             Layoff Permanent  \n",
       "9503       49.0            Closure Permanent  \n",
       "9504       11.0            Closure Permanent  \n",
       "9505       18.0  Layoff Unknown at this time  \n",
       "9506       50.0            Closure Permanent  "
      ]
     },
     "execution_count": 4,
     "metadata": {},
     "output_type": "execute_result"
    }
   ],
   "source": [
    "cali_layoffs.tail()"
   ]
  },
  {
   "cell_type": "markdown",
   "metadata": {},
   "source": [
    "### California Layoffs\n",
    "\n",
    "For the purposes of this analysis, we are selecting 2020 records by isolating the year on the `Notice date` column.\n",
    "By choosing `Notice date` we make sure that these layoffs were issued after the start of shelter in place for 2020, as some layoff notices can be issues much earlier the layoff date. Here, we are also doing a bit of data cleaning to standardize county names."
   ]
  },
  {
   "cell_type": "code",
   "execution_count": 5,
   "metadata": {},
   "outputs": [],
   "source": [
    "cali_layoffs['Year'] = cali_layoffs['Notice Date'].str[-4:]\n",
    "cali_layoffs['County'] = cali_layoffs['County'].str.strip()\n",
    "cali_layoffs['County Orig'] = cali_layoffs['County']\n",
    "cali_layoffs.loc[~(cali_layoffs['County'].str.endswith('County')),'County'] = cali_layoffs['County'] + \" County\"\n",
    "cali_layoffs['County'] = cali_layoffs['County'].str.replace('No County Name County', 'No Name')"
   ]
  },
  {
   "cell_type": "markdown",
   "metadata": {},
   "source": [
    "### Cleaning Layoff Types\n",
    "\n",
    "Type Unknown and unknown at this time will be combined."
   ]
  },
  {
   "cell_type": "code",
   "execution_count": 8,
   "metadata": {},
   "outputs": [
    {
     "data": {
      "text/plain": [
       "array(['Closure Permanent', 'Layoff Temporary', 'Closure Temporary',\n",
       "       'Layoff Permanent', 'Layoff Type Unknown', 'Closure Type Unknown',\n",
       "       'Closure Unknown at thistime', 'Layoff Unknown at thistime',\n",
       "       'Layoff Unknown at this time', 'Closure Unknown at this time'],\n",
       "      dtype=object)"
      ]
     },
     "execution_count": 8,
     "metadata": {},
     "output_type": "execute_result"
    }
   ],
   "source": [
    "cali_layoffs['Layoff/Closure'].unique()"
   ]
  },
  {
   "cell_type": "code",
   "execution_count": 10,
   "metadata": {},
   "outputs": [
    {
     "data": {
      "text/plain": [
       "array(['closure permanent', 'layoff temporary', 'closure temporary',\n",
       "       'layoff permanent', 'layoff type unknown', 'closure type unknown'],\n",
       "      dtype=object)"
      ]
     },
     "execution_count": 10,
     "metadata": {},
     "output_type": "execute_result"
    }
   ],
   "source": [
    "cali_layoffs['Layoff/Closure clean'] = cali_layoffs['Layoff/Closure'].str.replace('at thistime', 'at this time')\n",
    "cali_layoffs['Layoff/Closure clean'] = cali_layoffs['Layoff/Closure clean'].str.strip()\n",
    "cali_layoffs['Layoff/Closure clean'] = cali_layoffs['Layoff/Closure clean'].str.lower()\n",
    "cali_layoffs['Layoff/Closure clean'] = cali_layoffs['Layoff/Closure clean'].str.replace('unknown at this time', 'type unknown')\n",
    "cali_layoffs['Layoff/Closure clean'].unique()"
   ]
  },
  {
   "cell_type": "code",
   "execution_count": 12,
   "metadata": {},
   "outputs": [],
   "source": [
    "years = ['2020', '2019']"
   ]
  },
  {
   "cell_type": "markdown",
   "metadata": {},
   "source": [
    "### Extracting Only Necessary Records\n",
    "\n",
    "Now that the data has been standardized, we will be selecting the records that have a notice date from the year 2020 or 2019. This will allow for comparisons between a pandemic and non-pandemic year in terms of layoff notices. "
   ]
  },
  {
   "cell_type": "code",
   "execution_count": 14,
   "metadata": {},
   "outputs": [
    {
     "data": {
      "text/html": [
       "<div>\n",
       "<style scoped>\n",
       "    .dataframe tbody tr th:only-of-type {\n",
       "        vertical-align: middle;\n",
       "    }\n",
       "\n",
       "    .dataframe tbody tr th {\n",
       "        vertical-align: top;\n",
       "    }\n",
       "\n",
       "    .dataframe thead th {\n",
       "        text-align: right;\n",
       "    }\n",
       "</style>\n",
       "<table border=\"1\" class=\"dataframe\">\n",
       "  <thead>\n",
       "    <tr style=\"text-align: right;\">\n",
       "      <th></th>\n",
       "      <th>Notice Date</th>\n",
       "      <th>Effective Date</th>\n",
       "      <th>Received Date</th>\n",
       "      <th>Company</th>\n",
       "      <th>City</th>\n",
       "      <th>County</th>\n",
       "      <th>Employees</th>\n",
       "      <th>Layoff/Closure</th>\n",
       "      <th>Year</th>\n",
       "      <th>County Orig</th>\n",
       "      <th>Layoff/Closure clean</th>\n",
       "    </tr>\n",
       "  </thead>\n",
       "  <tbody>\n",
       "    <tr>\n",
       "      <th>0</th>\n",
       "      <td>10/26/2020</td>\n",
       "      <td>12/28/2020</td>\n",
       "      <td>11/10/2020</td>\n",
       "      <td>DAMAC Products LLC</td>\n",
       "      <td>La Mirada</td>\n",
       "      <td>Los Angeles County</td>\n",
       "      <td>79.0</td>\n",
       "      <td>Closure Permanent</td>\n",
       "      <td>2020</td>\n",
       "      <td>Los Angeles County</td>\n",
       "      <td>closure permanent</td>\n",
       "    </tr>\n",
       "    <tr>\n",
       "      <th>1</th>\n",
       "      <td>10/27/2020</td>\n",
       "      <td>12/31/2020</td>\n",
       "      <td>11/10/2020</td>\n",
       "      <td>Gulfstream</td>\n",
       "      <td>Long Beach</td>\n",
       "      <td>Los Angeles County</td>\n",
       "      <td>608.0</td>\n",
       "      <td>Closure Permanent</td>\n",
       "      <td>2020</td>\n",
       "      <td>Los Angeles County</td>\n",
       "      <td>closure permanent</td>\n",
       "    </tr>\n",
       "    <tr>\n",
       "      <th>2</th>\n",
       "      <td>10/26/2020</td>\n",
       "      <td>12/16/2020</td>\n",
       "      <td>11/10/2020</td>\n",
       "      <td>Renaissance Newport Beach Hotel</td>\n",
       "      <td>Newport Beach</td>\n",
       "      <td>Orange County</td>\n",
       "      <td>104.0</td>\n",
       "      <td>Closure Permanent</td>\n",
       "      <td>2020</td>\n",
       "      <td>Orange County</td>\n",
       "      <td>closure permanent</td>\n",
       "    </tr>\n",
       "    <tr>\n",
       "      <th>3</th>\n",
       "      <td>10/01/2020</td>\n",
       "      <td>10/05/2020</td>\n",
       "      <td>11/10/2020</td>\n",
       "      <td>Howmet Aerospace</td>\n",
       "      <td>Rancho Cucamonga</td>\n",
       "      <td>San Bernardino County</td>\n",
       "      <td>66.0</td>\n",
       "      <td>Layoff Temporary</td>\n",
       "      <td>2020</td>\n",
       "      <td>San Bernardino County</td>\n",
       "      <td>layoff temporary</td>\n",
       "    </tr>\n",
       "    <tr>\n",
       "      <th>4</th>\n",
       "      <td>10/26/2020</td>\n",
       "      <td>07/07/2020</td>\n",
       "      <td>11/10/2020</td>\n",
       "      <td>Newport Diversified, Inc.</td>\n",
       "      <td>El Cajon</td>\n",
       "      <td>San Diego County</td>\n",
       "      <td>91.0</td>\n",
       "      <td>Layoff Temporary</td>\n",
       "      <td>2020</td>\n",
       "      <td>San Diego County</td>\n",
       "      <td>layoff temporary</td>\n",
       "    </tr>\n",
       "  </tbody>\n",
       "</table>\n",
       "</div>"
      ],
      "text/plain": [
       "  Notice Date Effective Date Received Date                          Company  \\\n",
       "0  10/26/2020     12/28/2020    11/10/2020               DAMAC Products LLC   \n",
       "1  10/27/2020     12/31/2020    11/10/2020                       Gulfstream   \n",
       "2  10/26/2020     12/16/2020    11/10/2020  Renaissance Newport Beach Hotel   \n",
       "3  10/01/2020     10/05/2020    11/10/2020                 Howmet Aerospace   \n",
       "4  10/26/2020     07/07/2020    11/10/2020        Newport Diversified, Inc.   \n",
       "\n",
       "               City                 County  Employees     Layoff/Closure  \\\n",
       "0         La Mirada     Los Angeles County       79.0  Closure Permanent   \n",
       "1        Long Beach     Los Angeles County      608.0  Closure Permanent   \n",
       "2     Newport Beach          Orange County      104.0  Closure Permanent   \n",
       "3  Rancho Cucamonga  San Bernardino County       66.0   Layoff Temporary   \n",
       "4          El Cajon       San Diego County       91.0   Layoff Temporary   \n",
       "\n",
       "   Year            County Orig Layoff/Closure clean  \n",
       "0  2020     Los Angeles County    closure permanent  \n",
       "1  2020     Los Angeles County    closure permanent  \n",
       "2  2020          Orange County    closure permanent  \n",
       "3  2020  San Bernardino County     layoff temporary  \n",
       "4  2020       San Diego County     layoff temporary  "
      ]
     },
     "execution_count": 14,
     "metadata": {},
     "output_type": "execute_result"
    }
   ],
   "source": [
    "cali_2020_2019 = cali_layoffs[cali_layoffs[\"Year\"].isin(years)]\n",
    "cali_2020_2019.head()"
   ]
  },
  {
   "cell_type": "markdown",
   "metadata": {},
   "source": [
    "### More Data Cleaning\n",
    "\n",
    "A few records have the incorrect county, based on the information in the city column. These cities include: Sacramento, Hayward, Indian Wells, Cerritos, Vista, Roseville, City of Industry, Del Mar, Walnut Creek, and Los Gatos."
   ]
  },
  {
   "cell_type": "code",
   "execution_count": 15,
   "metadata": {},
   "outputs": [],
   "source": [
    "dict_cities = {\n",
    "    'Sacramento':'Sacramento County',\n",
    "    'San Francisco':'San Francisco County',\n",
    "    'Hayward':'Alameda County',\n",
    "    'Indian Wells':'Riverside County',\n",
    "    'Cerritos':'Los Angeles County',\n",
    "    'Vista':'San Diego County',\n",
    "    'Roseville':'Placer County',\n",
    "    'City of Industry':'Los Angeles County',\n",
    "    'Del Mar':'San Diego County',\n",
    "    'Walnut Creek':'Contra Costa County',\n",
    "    'Los Gatos':'Santa Clara County'\n",
    "}"
   ]
  },
  {
   "cell_type": "code",
   "execution_count": null,
   "metadata": {},
   "outputs": [],
   "source": []
  }
 ],
 "metadata": {
  "kernelspec": {
   "display_name": "Python 3",
   "language": "python",
   "name": "python3"
  },
  "language_info": {
   "codemirror_mode": {
    "name": "ipython",
    "version": 3
   },
   "file_extension": ".py",
   "mimetype": "text/x-python",
   "name": "python",
   "nbconvert_exporter": "python",
   "pygments_lexer": "ipython3",
   "version": "3.8.1"
  }
 },
 "nbformat": 4,
 "nbformat_minor": 4
}
